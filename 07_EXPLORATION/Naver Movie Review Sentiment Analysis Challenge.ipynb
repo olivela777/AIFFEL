{
 "cells": [
  {
   "cell_type": "markdown",
   "id": "classified-worry",
   "metadata": {},
   "source": [
    "# [EX7] 네이버 영화리뷰 감성분석 도전하기"
   ]
  },
  {
   "cell_type": "markdown",
   "id": "accurate-tattoo",
   "metadata": {},
   "source": [
    "## 1. 데이터 준비와 확인"
   ]
  },
  {
   "cell_type": "code",
   "execution_count": 1,
   "id": "likely-tomorrow",
   "metadata": {},
   "outputs": [],
   "source": [
    "import pandas as pd\n",
    "import urllib.request\n",
    "%matplotlib inline\n",
    "import matplotlib.pyplot as plt\n",
    "import re\n",
    "from konlpy.tag import Okt\n",
    "from tensorflow import keras\n",
    "from tensorflow.keras.preprocessing.text import Tokenizer\n",
    "import numpy as np\n",
    "from tensorflow.keras.preprocessing.sequence import pad_sequences\n",
    "from collections import Counter\n",
    "import missingno as msno\n",
    "from konlpy.tag import Mecab \n",
    "from tensorflow.keras.layers import Embedding, Dense, LSTM\n",
    "from tensorflow.keras.models import Sequential\n",
    "from tensorflow.keras.models import load_model\n",
    "from tensorflow.keras.callbacks import EarlyStopping, ModelCheckpoint\n",
    "import os\n",
    "from gensim.models import KeyedVectors\n",
    "from tensorflow.keras.initializers import Constant\n",
    "from gensim.models import Word2Vec\n",
    "\n",
    "# 데이터를 읽어봅시다. \n",
    "train_data = pd.read_table('~/aiffel/sentiment_classification/data/ratings_train.txt')\n",
    "test_data = pd.read_table('~/aiffel/sentiment_classification/data/ratings_test.txt')"
   ]
  },
  {
   "cell_type": "code",
   "execution_count": 2,
   "id": "acknowledged-europe",
   "metadata": {},
   "outputs": [
    {
     "name": "stdout",
     "output_type": "stream",
     "text": [
      "훈련용 리뷰 개수 : 150000\n"
     ]
    }
   ],
   "source": [
    "print('훈련용 리뷰 개수 :',len(train_data)) # 훈련용 리뷰 개수 출력"
   ]
  },
  {
   "cell_type": "code",
   "execution_count": 3,
   "id": "grateful-alaska",
   "metadata": {
    "scrolled": true
   },
   "outputs": [
    {
     "data": {
      "text/html": [
       "<div>\n",
       "<style scoped>\n",
       "    .dataframe tbody tr th:only-of-type {\n",
       "        vertical-align: middle;\n",
       "    }\n",
       "\n",
       "    .dataframe tbody tr th {\n",
       "        vertical-align: top;\n",
       "    }\n",
       "\n",
       "    .dataframe thead th {\n",
       "        text-align: right;\n",
       "    }\n",
       "</style>\n",
       "<table border=\"1\" class=\"dataframe\">\n",
       "  <thead>\n",
       "    <tr style=\"text-align: right;\">\n",
       "      <th></th>\n",
       "      <th>id</th>\n",
       "      <th>document</th>\n",
       "      <th>label</th>\n",
       "    </tr>\n",
       "  </thead>\n",
       "  <tbody>\n",
       "    <tr>\n",
       "      <th>0</th>\n",
       "      <td>9976970</td>\n",
       "      <td>아 더빙.. 진짜 짜증나네요 목소리</td>\n",
       "      <td>0</td>\n",
       "    </tr>\n",
       "    <tr>\n",
       "      <th>1</th>\n",
       "      <td>3819312</td>\n",
       "      <td>흠...포스터보고 초딩영화줄....오버연기조차 가볍지 않구나</td>\n",
       "      <td>1</td>\n",
       "    </tr>\n",
       "    <tr>\n",
       "      <th>2</th>\n",
       "      <td>10265843</td>\n",
       "      <td>너무재밓었다그래서보는것을추천한다</td>\n",
       "      <td>0</td>\n",
       "    </tr>\n",
       "    <tr>\n",
       "      <th>3</th>\n",
       "      <td>9045019</td>\n",
       "      <td>교도소 이야기구먼 ..솔직히 재미는 없다..평점 조정</td>\n",
       "      <td>0</td>\n",
       "    </tr>\n",
       "    <tr>\n",
       "      <th>4</th>\n",
       "      <td>6483659</td>\n",
       "      <td>사이몬페그의 익살스런 연기가 돋보였던 영화!스파이더맨에서 늙어보이기만 했던 커스틴 ...</td>\n",
       "      <td>1</td>\n",
       "    </tr>\n",
       "  </tbody>\n",
       "</table>\n",
       "</div>"
      ],
      "text/plain": [
       "         id                                           document  label\n",
       "0   9976970                                아 더빙.. 진짜 짜증나네요 목소리      0\n",
       "1   3819312                  흠...포스터보고 초딩영화줄....오버연기조차 가볍지 않구나      1\n",
       "2  10265843                                  너무재밓었다그래서보는것을추천한다      0\n",
       "3   9045019                      교도소 이야기구먼 ..솔직히 재미는 없다..평점 조정      0\n",
       "4   6483659  사이몬페그의 익살스런 연기가 돋보였던 영화!스파이더맨에서 늙어보이기만 했던 커스틴 ...      1"
      ]
     },
     "execution_count": 3,
     "metadata": {},
     "output_type": "execute_result"
    }
   ],
   "source": [
    "train_data[:5] # 상위 5개 출력"
   ]
  },
  {
   "cell_type": "code",
   "execution_count": 4,
   "id": "minor-alert",
   "metadata": {},
   "outputs": [
    {
     "name": "stdout",
     "output_type": "stream",
     "text": [
      "테스트용 리뷰 개수 : 50000\n"
     ]
    }
   ],
   "source": [
    "print('테스트용 리뷰 개수 :',len(test_data)) # 테스트용 리뷰 개수 출력"
   ]
  },
  {
   "cell_type": "code",
   "execution_count": 5,
   "id": "knowing-model",
   "metadata": {},
   "outputs": [
    {
     "data": {
      "text/html": [
       "<div>\n",
       "<style scoped>\n",
       "    .dataframe tbody tr th:only-of-type {\n",
       "        vertical-align: middle;\n",
       "    }\n",
       "\n",
       "    .dataframe tbody tr th {\n",
       "        vertical-align: top;\n",
       "    }\n",
       "\n",
       "    .dataframe thead th {\n",
       "        text-align: right;\n",
       "    }\n",
       "</style>\n",
       "<table border=\"1\" class=\"dataframe\">\n",
       "  <thead>\n",
       "    <tr style=\"text-align: right;\">\n",
       "      <th></th>\n",
       "      <th>id</th>\n",
       "      <th>document</th>\n",
       "      <th>label</th>\n",
       "    </tr>\n",
       "  </thead>\n",
       "  <tbody>\n",
       "    <tr>\n",
       "      <th>0</th>\n",
       "      <td>6270596</td>\n",
       "      <td>굳 ㅋ</td>\n",
       "      <td>1</td>\n",
       "    </tr>\n",
       "    <tr>\n",
       "      <th>1</th>\n",
       "      <td>9274899</td>\n",
       "      <td>GDNTOPCLASSINTHECLUB</td>\n",
       "      <td>0</td>\n",
       "    </tr>\n",
       "    <tr>\n",
       "      <th>2</th>\n",
       "      <td>8544678</td>\n",
       "      <td>뭐야 이 평점들은.... 나쁘진 않지만 10점 짜리는 더더욱 아니잖아</td>\n",
       "      <td>0</td>\n",
       "    </tr>\n",
       "    <tr>\n",
       "      <th>3</th>\n",
       "      <td>6825595</td>\n",
       "      <td>지루하지는 않은데 완전 막장임... 돈주고 보기에는....</td>\n",
       "      <td>0</td>\n",
       "    </tr>\n",
       "    <tr>\n",
       "      <th>4</th>\n",
       "      <td>6723715</td>\n",
       "      <td>3D만 아니었어도 별 다섯 개 줬을텐데.. 왜 3D로 나와서 제 심기를 불편하게 하죠??</td>\n",
       "      <td>0</td>\n",
       "    </tr>\n",
       "  </tbody>\n",
       "</table>\n",
       "</div>"
      ],
      "text/plain": [
       "        id                                           document  label\n",
       "0  6270596                                                굳 ㅋ      1\n",
       "1  9274899                               GDNTOPCLASSINTHECLUB      0\n",
       "2  8544678             뭐야 이 평점들은.... 나쁘진 않지만 10점 짜리는 더더욱 아니잖아      0\n",
       "3  6825595                   지루하지는 않은데 완전 막장임... 돈주고 보기에는....      0\n",
       "4  6723715  3D만 아니었어도 별 다섯 개 줬을텐데.. 왜 3D로 나와서 제 심기를 불편하게 하죠??      0"
      ]
     },
     "execution_count": 5,
     "metadata": {},
     "output_type": "execute_result"
    }
   ],
   "source": [
    "test_data[:5]"
   ]
  },
  {
   "cell_type": "markdown",
   "id": "earlier-wallpaper",
   "metadata": {},
   "source": [
    "## 2. 데이터로더 구성\n",
    "가공되지 않은 nsmc 데이터셋을 데이터 전처리"
   ]
  },
  {
   "cell_type": "code",
   "execution_count": 6,
   "id": "stylish-nightlife",
   "metadata": {},
   "outputs": [],
   "source": [
    "# 리스트 선언\n",
    "X_train = []\n",
    "X_test = []\n",
    "y_train = []\n",
    "y_test = []"
   ]
  },
  {
   "cell_type": "markdown",
   "id": "moral-category",
   "metadata": {},
   "source": [
    "### 1) 데이터의 중복 제거"
   ]
  },
  {
   "cell_type": "code",
   "execution_count": 7,
   "id": "banned-exclusion",
   "metadata": {},
   "outputs": [],
   "source": [
    "#document열을 기준으로 중복행 제거\n",
    "train_data.drop_duplicates(subset=['document'], inplace=True)\n",
    "train_data = train_data.dropna(how = 'any') \n",
    "\n",
    "test_data.drop_duplicates(subset=['document'], inplace=True) \n",
    "test_data = test_data.dropna(how = 'any') "
   ]
  },
  {
   "cell_type": "code",
   "execution_count": 8,
   "id": "negative-generic",
   "metadata": {},
   "outputs": [
    {
     "name": "stdout",
     "output_type": "stream",
     "text": [
      "총 샘플의 수 : 146182\n",
      "총 샘플의 수 : 49157\n"
     ]
    }
   ],
   "source": [
    "# 중복 샘플 제거 확\n",
    "print('총 샘플의 수 :',len(train_data))\n",
    "print('총 샘플의 수 :',len(test_data))"
   ]
  },
  {
   "cell_type": "markdown",
   "id": "manufactured-injection",
   "metadata": {},
   "source": [
    "### 2) NaN 결측치 제거\n",
    "한글과 공백을 제거 후 결측치 제거"
   ]
  },
  {
   "cell_type": "code",
   "execution_count": 9,
   "id": "configured-yukon",
   "metadata": {},
   "outputs": [],
   "source": [
    "# 한글과 공백을 제외하고 모두 제거\n",
    "# 한글 범위 참고 : https://www.unicode.org/charts/PDF/UAC00.pdf\n",
    "train_data['document'] = train_data['document'].str.replace(\"[^ㄱ-ㅎㅏ-ㅣ가-힣 ]\",\"\", regex = True)"
   ]
  },
  {
   "cell_type": "code",
   "execution_count": 10,
   "id": "racial-shaft",
   "metadata": {},
   "outputs": [
    {
     "data": {
      "text/html": [
       "<div>\n",
       "<style scoped>\n",
       "    .dataframe tbody tr th:only-of-type {\n",
       "        vertical-align: middle;\n",
       "    }\n",
       "\n",
       "    .dataframe tbody tr th {\n",
       "        vertical-align: top;\n",
       "    }\n",
       "\n",
       "    .dataframe thead th {\n",
       "        text-align: right;\n",
       "    }\n",
       "</style>\n",
       "<table border=\"1\" class=\"dataframe\">\n",
       "  <thead>\n",
       "    <tr style=\"text-align: right;\">\n",
       "      <th></th>\n",
       "      <th>id</th>\n",
       "      <th>document</th>\n",
       "      <th>label</th>\n",
       "    </tr>\n",
       "  </thead>\n",
       "  <tbody>\n",
       "    <tr>\n",
       "      <th>0</th>\n",
       "      <td>9976970</td>\n",
       "      <td>아 더빙 진짜 짜증나네요 목소리</td>\n",
       "      <td>0</td>\n",
       "    </tr>\n",
       "    <tr>\n",
       "      <th>1</th>\n",
       "      <td>3819312</td>\n",
       "      <td>흠포스터보고 초딩영화줄오버연기조차 가볍지 않구나</td>\n",
       "      <td>1</td>\n",
       "    </tr>\n",
       "    <tr>\n",
       "      <th>2</th>\n",
       "      <td>10265843</td>\n",
       "      <td>너무재밓었다그래서보는것을추천한다</td>\n",
       "      <td>0</td>\n",
       "    </tr>\n",
       "    <tr>\n",
       "      <th>3</th>\n",
       "      <td>9045019</td>\n",
       "      <td>교도소 이야기구먼 솔직히 재미는 없다평점 조정</td>\n",
       "      <td>0</td>\n",
       "    </tr>\n",
       "    <tr>\n",
       "      <th>4</th>\n",
       "      <td>6483659</td>\n",
       "      <td>사이몬페그의 익살스런 연기가 돋보였던 영화스파이더맨에서 늙어보이기만 했던 커스틴 던...</td>\n",
       "      <td>1</td>\n",
       "    </tr>\n",
       "  </tbody>\n",
       "</table>\n",
       "</div>"
      ],
      "text/plain": [
       "         id                                           document  label\n",
       "0   9976970                                  아 더빙 진짜 짜증나네요 목소리      0\n",
       "1   3819312                         흠포스터보고 초딩영화줄오버연기조차 가볍지 않구나      1\n",
       "2  10265843                                  너무재밓었다그래서보는것을추천한다      0\n",
       "3   9045019                          교도소 이야기구먼 솔직히 재미는 없다평점 조정      0\n",
       "4   6483659  사이몬페그의 익살스런 연기가 돋보였던 영화스파이더맨에서 늙어보이기만 했던 커스틴 던...      1"
      ]
     },
     "execution_count": 10,
     "metadata": {},
     "output_type": "execute_result"
    }
   ],
   "source": [
    "# 구두점이나 특수문자를 제거 확인\n",
    "train_data[:5]"
   ]
  },
  {
   "cell_type": "code",
   "execution_count": 11,
   "id": "noble-pound",
   "metadata": {},
   "outputs": [],
   "source": [
    "# train_data에 공백(white space)만 있거나 빈 값을 가진 행이 있다면 Null 값으로 변경\n",
    "train_data['document'] = train_data['document'].str.replace('^ +', \"\", regex = True)\n",
    "train_data['document'].replace('', np.nan, inplace = True)"
   ]
  },
  {
   "cell_type": "code",
   "execution_count": 12,
   "id": "tracked-counter",
   "metadata": {
    "scrolled": true
   },
   "outputs": [
    {
     "name": "stdout",
     "output_type": "stream",
     "text": [
      "id            0\n",
      "document    789\n",
      "label         0\n",
      "dtype: int64\n"
     ]
    }
   ],
   "source": [
    "# NuN 값 존재 확인\n",
    "print(train_data.isnull().sum())"
   ]
  },
  {
   "cell_type": "code",
   "execution_count": 13,
   "id": "respective-fellow",
   "metadata": {},
   "outputs": [
    {
     "data": {
      "text/html": [
       "<div>\n",
       "<style scoped>\n",
       "    .dataframe tbody tr th:only-of-type {\n",
       "        vertical-align: middle;\n",
       "    }\n",
       "\n",
       "    .dataframe tbody tr th {\n",
       "        vertical-align: top;\n",
       "    }\n",
       "\n",
       "    .dataframe thead th {\n",
       "        text-align: right;\n",
       "    }\n",
       "</style>\n",
       "<table border=\"1\" class=\"dataframe\">\n",
       "  <thead>\n",
       "    <tr style=\"text-align: right;\">\n",
       "      <th></th>\n",
       "      <th>id</th>\n",
       "      <th>document</th>\n",
       "      <th>label</th>\n",
       "    </tr>\n",
       "  </thead>\n",
       "  <tbody>\n",
       "    <tr>\n",
       "      <th>404</th>\n",
       "      <td>4221289</td>\n",
       "      <td>NaN</td>\n",
       "      <td>0</td>\n",
       "    </tr>\n",
       "    <tr>\n",
       "      <th>412</th>\n",
       "      <td>9509970</td>\n",
       "      <td>NaN</td>\n",
       "      <td>1</td>\n",
       "    </tr>\n",
       "    <tr>\n",
       "      <th>470</th>\n",
       "      <td>10147571</td>\n",
       "      <td>NaN</td>\n",
       "      <td>1</td>\n",
       "    </tr>\n",
       "    <tr>\n",
       "      <th>584</th>\n",
       "      <td>7117896</td>\n",
       "      <td>NaN</td>\n",
       "      <td>0</td>\n",
       "    </tr>\n",
       "    <tr>\n",
       "      <th>593</th>\n",
       "      <td>6478189</td>\n",
       "      <td>NaN</td>\n",
       "      <td>0</td>\n",
       "    </tr>\n",
       "  </tbody>\n",
       "</table>\n",
       "</div>"
      ],
      "text/plain": [
       "           id document  label\n",
       "404   4221289      NaN      0\n",
       "412   9509970      NaN      1\n",
       "470  10147571      NaN      1\n",
       "584   7117896      NaN      0\n",
       "593   6478189      NaN      0"
      ]
     },
     "execution_count": 13,
     "metadata": {},
     "output_type": "execute_result"
    }
   ],
   "source": [
    "# NaN 값을 가진 행 출력\n",
    "train_data.loc[train_data.document.isnull()][:5]"
   ]
  },
  {
   "cell_type": "code",
   "execution_count": 14,
   "id": "horizontal-limit",
   "metadata": {},
   "outputs": [
    {
     "name": "stdout",
     "output_type": "stream",
     "text": [
      "145393\n"
     ]
    }
   ],
   "source": [
    "# NaN 제거\n",
    "train_data = train_data.dropna(how = 'any') # Null 값이 존재하는 행 제거\n",
    "print(len(train_data)) # 샘플의 개수를 출력하여 샘플이 제거되었는지 확인"
   ]
  },
  {
   "cell_type": "code",
   "execution_count": 15,
   "id": "distant-carry",
   "metadata": {
    "scrolled": true
   },
   "outputs": [
    {
     "data": {
      "text/plain": [
       "<AxesSubplot:>"
      ]
     },
     "execution_count": 15,
     "metadata": {},
     "output_type": "execute_result"
    },
    {
     "data": {
      "image/png": "[encoded data removed]",
      "text/plain": [
       "<Figure size 432x216 with 2 Axes>"
      ]
     },
     "metadata": {
      "needs_background": "light"
     },
     "output_type": "display_data"
    }
   ],
   "source": [
    "# 결측치 시각화\n",
    "msno.matrix(train_data, figsize=(6,3))"
   ]
  },
  {
   "cell_type": "markdown",
   "id": "bronze-source",
   "metadata": {},
   "source": [
    "### 3) 한국어 토크나이저로 토큰화"
   ]
  },
  {
   "cell_type": "code",
   "execution_count": 16,
   "id": "contained-cardiff",
   "metadata": {},
   "outputs": [],
   "source": [
    "tokenizer = Mecab() # 토큰화를 위한 형태소 분석기\n",
    "\n",
    "stopwords = ['의','가','이','은','들','는','좀','잘','걍','과','도','를','으로','자','에','와','한','하다']"
   ]
  },
  {
   "cell_type": "markdown",
   "id": "sensitive-mainstream",
   "metadata": {},
   "source": [
    "### 4) 불용어(Stopwords) 제거\n",
    "* 불용어 : 의미가 없는 단어나 조사 등"
   ]
  },
  {
   "cell_type": "code",
   "execution_count": 17,
   "id": "twenty-davis",
   "metadata": {},
   "outputs": [],
   "source": [
    "for sentence in train_data['document']:\n",
    "    temp_X = []\n",
    "    temp_X = tokenizer.morphs(sentence) # 토큰화\n",
    "    temp_X = [word for word in temp_X if not word in stopwords] # 불용어 제거\n",
    "    X_train.append(temp_X)\n",
    "\n",
    "for sentence in test_data['document']:\n",
    "    temp_X = []\n",
    "    temp_X = tokenizer.morphs(sentence) # 토큰화\n",
    "    temp_X = [word for word in temp_X if not word in stopwords] # 불용어 제거\n",
    "    X_test.append(temp_X)"
   ]
  },
  {
   "cell_type": "markdown",
   "id": "paperback-combat",
   "metadata": {},
   "source": [
    "### 5) 사전 word_to_index 구성\n",
    "사전(vacab) 크기 설정\n",
    "\n",
    "* np.concatenate.tolist() : 여러개의 범위 또는 여러개의 텍스트 문자열을 하나의 텍스트 문자열로 연결\n",
    "* collections 모듈의 Counter 클래스 : 글자 수를 세어주는 함수\n",
    "* collections 모듈의 most_common 클래스 : 데이터의 개수가 많은 순으로 정렬된 배열을 리턴"
   ]
  },
  {
   "cell_type": "code",
   "execution_count": 18,
   "id": "killing-flash",
   "metadata": {
    "scrolled": true
   },
   "outputs": [],
   "source": [
    "vocab_size = 45000\n",
    "words = np.concatenate(X_train).tolist()\n",
    "counter = Counter(words)\n",
    "counter = counter.most_common(vocab_size-4) \n",
    "\n",
    "vocab = ['<PAD>', '<BOS>', '<UNK>', '<UNUSED>'] + [key for key, _ in counter]\n",
    "\n",
    "word_to_index = {word:index for index, word in enumerate(vocab)} # 사전의 크기를 결정"
   ]
  },
  {
   "cell_type": "code",
   "execution_count": 19,
   "id": "honey-entrance",
   "metadata": {},
   "outputs": [
    {
     "data": {
      "text/plain": [
       "45000"
      ]
     },
     "execution_count": 19,
     "metadata": {},
     "output_type": "execute_result"
    }
   ],
   "source": [
    "# word_to_index 크기 확인\n",
    "len(word_to_index)"
   ]
  },
  {
   "cell_type": "markdown",
   "id": "detailed-absolute",
   "metadata": {},
   "source": [
    "### 6) 텍스트 스트링을 사전 인덱스 스트링으로 변환"
   ]
  },
  {
   "cell_type": "code",
   "execution_count": 20,
   "id": "loaded-controversy",
   "metadata": {},
   "outputs": [],
   "source": [
    "def wordlist_to_indexlist(wordlist):\n",
    "    return [word_to_index[word] if word in word_to_index else word_to_index['<UNK>'] for word in wordlist]"
   ]
  },
  {
   "cell_type": "markdown",
   "id": "loaded-albert",
   "metadata": {},
   "source": [
    "## 7) X_train, y_train, X_test, y_test, word_to_index 리턴"
   ]
  },
  {
   "cell_type": "code",
   "execution_count": 21,
   "id": "comfortable-collective",
   "metadata": {},
   "outputs": [
    {
     "data": {
      "text/plain": [
       "[['아', '더', '빙', '진짜', '짜증', '나', '네요', '목소리'],\n",
       " ['흠', '포스터', '보고', '초딩', '영화', '줄', '오버', '연기', '조차', '가볍', '지', '않', '구나']]"
      ]
     },
     "execution_count": 21,
     "metadata": {},
     "output_type": "execute_result"
    }
   ],
   "source": [
    "# 변환 전 확인\n",
    "X_train[:2]"
   ]
  },
  {
   "cell_type": "code",
   "execution_count": 22,
   "id": "intense-blood",
   "metadata": {},
   "outputs": [],
   "source": [
    "# X_train, X_test 에 저장\n",
    "X_train = list(map(wordlist_to_indexlist, X_train))\n",
    "X_test = list(map(wordlist_to_indexlist, X_test))"
   ]
  },
  {
   "cell_type": "code",
   "execution_count": 23,
   "id": "sunset-bidder",
   "metadata": {},
   "outputs": [],
   "source": [
    "# y_train, y_test 에 target 컬럼 저장\n",
    "y_train = np.array(list(train_data['label']))\n",
    "y_test = np.array(list(test_data['label']))"
   ]
  },
  {
   "cell_type": "code",
   "execution_count": 24,
   "id": "sensitive-brown",
   "metadata": {},
   "outputs": [
    {
     "data": {
      "text/plain": [
       "[[27, 67, 895, 33, 214, 15, 28, 699],\n",
       " [977, 481, 491, 636, 4, 110, 1554, 48, 864, 949, 11, 38, 364]]"
      ]
     },
     "execution_count": 24,
     "metadata": {},
     "output_type": "execute_result"
    }
   ],
   "source": [
    "# 변환 후 확인\n",
    "X_train[:2]"
   ]
  },
  {
   "cell_type": "code",
   "execution_count": 25,
   "id": "solved-meditation",
   "metadata": {},
   "outputs": [],
   "source": [
    "# word_to_index \n",
    "index_to_word = {index:word for word, index in word_to_index.items()}"
   ]
  },
  {
   "cell_type": "code",
   "execution_count": 26,
   "id": "shaped-concentrate",
   "metadata": {},
   "outputs": [
    {
     "data": {
      "text/plain": [
       "{0: '<PAD>',\n",
       " 1: '<BOS>',\n",
       " 2: '<UNK>',\n",
       " 3: '<UNUSED>',\n",
       " 4: '영화',\n",
       " 5: '다',\n",
       " 6: '고',\n",
       " 7: '하',\n",
       " 8: '을',\n",
       " 9: '보',\n",
       " 10: '게',\n",
       " 11: '지',\n",
       " 12: '있',\n",
       " 13: '없',\n",
       " 14: '좋',\n",
       " 15: '나',\n",
       " 16: '었',\n",
       " 17: '만',\n",
       " 18: '는데',\n",
       " 19: '너무',\n",
       " 20: '봤',\n",
       " 21: '적',\n",
       " 22: '안',\n",
       " 23: '정말',\n",
       " 24: '로',\n",
       " 25: '것',\n",
       " 26: '음',\n",
       " 27: '아',\n",
       " 28: '네요',\n",
       " 29: '어',\n",
       " 30: '재밌',\n",
       " 31: '지만',\n",
       " 32: '같',\n",
       " 33: '진짜',\n",
       " 34: '에서',\n",
       " 35: '했',\n",
       " 36: '기',\n",
       " 37: '네',\n",
       " 38: '않',\n",
       " 39: '점',\n",
       " 40: '거',\n",
       " 41: '았',\n",
       " 42: '수',\n",
       " 43: '되',\n",
       " 44: '면',\n",
       " 45: 'ㅋㅋ',\n",
       " 46: '인',\n",
       " 47: '말',\n",
       " 48: '연기',\n",
       " 49: '주',\n",
       " 50: '최고',\n",
       " 51: '내',\n",
       " 52: '평점',\n",
       " 53: '이런',\n",
       " 54: '던',\n",
       " 55: '어요',\n",
       " 56: '할',\n",
       " 57: '왜',\n",
       " 58: '겠',\n",
       " 59: '스토리',\n",
       " 60: '해',\n",
       " 61: 'ㅋㅋㅋ',\n",
       " 62: '습니다',\n",
       " 63: '듯',\n",
       " 64: '아니',\n",
       " 65: '드라마',\n",
       " 66: '생각',\n",
       " 67: '더',\n",
       " 68: '그',\n",
       " 69: '싶',\n",
       " 70: '사람',\n",
       " 71: '때',\n",
       " 72: '감동',\n",
       " 73: '배우',\n",
       " 74: '함',\n",
       " 75: '본',\n",
       " 76: '까지',\n",
       " 77: '뭐',\n",
       " 78: '알',\n",
       " 79: '만들',\n",
       " 80: '내용',\n",
       " 81: '볼',\n",
       " 82: '보다',\n",
       " 83: '감독',\n",
       " 84: '라',\n",
       " 85: '재미',\n",
       " 86: '그냥',\n",
       " 87: '시간',\n",
       " 88: '지루',\n",
       " 89: '중',\n",
       " 90: '재미있',\n",
       " 91: '였',\n",
       " 92: '잼',\n",
       " 93: '년',\n",
       " 94: '사랑',\n",
       " 95: '못',\n",
       " 96: '재미없',\n",
       " 97: '냐',\n",
       " 98: '쓰레기',\n",
       " 99: '서',\n",
       " 100: '라고',\n",
       " 101: '니',\n",
       " 102: '면서',\n",
       " 103: '다시',\n",
       " 104: '번',\n",
       " 105: '나오',\n",
       " 106: '하나',\n",
       " 107: '작품',\n",
       " 108: '야',\n",
       " 109: '이거',\n",
       " 110: '줄',\n",
       " 111: '해서',\n",
       " 112: '남',\n",
       " 113: '마지막',\n",
       " 114: '끝',\n",
       " 115: '정도',\n",
       " 116: '이건',\n",
       " 117: '액션',\n",
       " 118: '개',\n",
       " 119: '임',\n",
       " 120: '건',\n",
       " 121: '기대',\n",
       " 122: '다는',\n",
       " 123: '입니다',\n",
       " 124: '라는',\n",
       " 125: '완전',\n",
       " 126: '참',\n",
       " 127: '많',\n",
       " 128: 'ㅋ',\n",
       " 129: '처음',\n",
       " 130: '장면',\n",
       " 131: '다가',\n",
       " 132: '아깝',\n",
       " 133: '으면',\n",
       " 134: '모르',\n",
       " 135: '지금',\n",
       " 136: '이렇게',\n",
       " 137: '분',\n",
       " 138: '돈',\n",
       " 139: '이게',\n",
       " 140: 'ㅠㅠ',\n",
       " 141: '성',\n",
       " 142: '느낌',\n",
       " 143: '이야기',\n",
       " 144: '일',\n",
       " 145: '최악',\n",
       " 146: '된',\n",
       " 147: '시',\n",
       " 148: '봐도',\n",
       " 149: '님',\n",
       " 150: '어서',\n",
       " 151: '애',\n",
       " 152: '편',\n",
       " 153: '다고',\n",
       " 154: '넘',\n",
       " 155: '인데',\n",
       " 156: '이해',\n",
       " 157: '전',\n",
       " 158: '별로',\n",
       " 159: '걸',\n",
       " 160: '그리고',\n",
       " 161: '명작',\n",
       " 162: '난',\n",
       " 163: '또',\n",
       " 164: '역시',\n",
       " 165: '여자',\n",
       " 166: '한국',\n",
       " 167: '이상',\n",
       " 168: '는지',\n",
       " 169: '많이',\n",
       " 170: '에게',\n",
       " 171: '부터',\n",
       " 172: '주인공',\n",
       " 173: '받',\n",
       " 174: '합니다',\n",
       " 175: '대',\n",
       " 176: '두',\n",
       " 177: '우리',\n",
       " 178: '만든',\n",
       " 179: '길',\n",
       " 180: '엔',\n",
       " 181: '살',\n",
       " 182: '괜찮',\n",
       " 183: '요',\n",
       " 184: '기억',\n",
       " 185: 'ㅡㅡ',\n",
       " 186: '한다',\n",
       " 187: '연출',\n",
       " 188: 'ㅎㅎ',\n",
       " 189: '때문',\n",
       " 190: '저',\n",
       " 191: '이나',\n",
       " 192: '재',\n",
       " 193: '꼭',\n",
       " 194: '며',\n",
       " 195: '현실',\n",
       " 196: '랑',\n",
       " 197: '긴',\n",
       " 198: '무슨',\n",
       " 199: '내내',\n",
       " 200: '죽',\n",
       " 201: '결말',\n",
       " 202: '남자',\n",
       " 203: '전개',\n",
       " 204: '마음',\n",
       " 205: '세요',\n",
       " 206: '소재',\n",
       " 207: '속',\n",
       " 208: '아서',\n",
       " 209: '공포',\n",
       " 210: '데',\n",
       " 211: '다른',\n",
       " 212: '인생',\n",
       " 213: '씨',\n",
       " 214: '짜증',\n",
       " 215: '뿐',\n",
       " 216: '짱',\n",
       " 217: '은데',\n",
       " 218: '아요',\n",
       " 219: '아이',\n",
       " 220: '필요',\n",
       " 221: '유치',\n",
       " 222: '가장',\n",
       " 223: '음악',\n",
       " 224: '일본',\n",
       " 225: '낮',\n",
       " 226: '오',\n",
       " 227: '반전',\n",
       " 228: '수준',\n",
       " 229: '웃',\n",
       " 230: '다니',\n",
       " 231: '매력',\n",
       " 232: '별',\n",
       " 233: '인지',\n",
       " 234: '맞',\n",
       " 235: '가슴',\n",
       " 236: '없이',\n",
       " 237: '원작',\n",
       " 238: '인간',\n",
       " 239: '굿',\n",
       " 240: '높',\n",
       " 241: 'ㄷ',\n",
       " 242: '밋',\n",
       " 243: '만드',\n",
       " 244: '눈물',\n",
       " 245: '급',\n",
       " 246: '보여',\n",
       " 247: '준',\n",
       " 248: '찍',\n",
       " 249: '인가',\n",
       " 250: '노',\n",
       " 251: '코미디',\n",
       " 252: '신',\n",
       " 253: '용',\n",
       " 254: '모든',\n",
       " 255: '마',\n",
       " 256: '화',\n",
       " 257: '추천',\n",
       " 258: '아직',\n",
       " 259: '아닌',\n",
       " 260: '처럼',\n",
       " 261: '쓰',\n",
       " 262: '눈',\n",
       " 263: '자체',\n",
       " 264: '울',\n",
       " 265: '몰입',\n",
       " 266: '대박',\n",
       " 267: '란',\n",
       " 268: '스럽',\n",
       " 269: '몇',\n",
       " 270: '을까',\n",
       " 271: '실망',\n",
       " 272: '대한',\n",
       " 273: '는다',\n",
       " 274: '여',\n",
       " 275: '그런',\n",
       " 276: '죠',\n",
       " 277: '솔직히',\n",
       " 278: '캐릭터',\n",
       " 279: '아주',\n",
       " 280: '모두',\n",
       " 281: '전혀',\n",
       " 282: '가족',\n",
       " 283: '여운',\n",
       " 284: '건지',\n",
       " 285: '연기력',\n",
       " 286: '될',\n",
       " 287: '다면',\n",
       " 288: '뭔가',\n",
       " 289: '그래도',\n",
       " 290: '후',\n",
       " 291: '나라',\n",
       " 292: '시리즈',\n",
       " 293: 'ㅎ',\n",
       " 294: '근데',\n",
       " 295: '표현',\n",
       " 296: '모습',\n",
       " 297: '계속',\n",
       " 298: '작',\n",
       " 299: '공감',\n",
       " 300: '먹',\n",
       " 301: '제목',\n",
       " 302: '비',\n",
       " 303: '이랑',\n",
       " 304: '극장',\n",
       " 305: '치',\n",
       " 306: '이걸',\n",
       " 307: '부분',\n",
       " 308: '그렇',\n",
       " 309: '대사',\n",
       " 310: '바',\n",
       " 311: '대단',\n",
       " 312: '어디',\n",
       " 313: '개봉',\n",
       " 314: '진',\n",
       " 315: '아쉽',\n",
       " 316: '된다',\n",
       " 317: '기분',\n",
       " 318: '작가',\n",
       " 319: '진심',\n",
       " 320: '구',\n",
       " 321: '해도',\n",
       " 322: '놓',\n",
       " 323: '타임',\n",
       " 324: '봐야',\n",
       " 325: '제',\n",
       " 326: '보이',\n",
       " 327: '웃기',\n",
       " 328: '막장',\n",
       " 329: '삶',\n",
       " 330: '물',\n",
       " 331: '친구',\n",
       " 332: '잔잔',\n",
       " 333: '이제',\n",
       " 334: '조금',\n",
       " 335: '억지',\n",
       " 336: '가지',\n",
       " 337: 'ㅠ',\n",
       " 338: '영상',\n",
       " 339: '찾',\n",
       " 340: '라도',\n",
       " 341: '씬',\n",
       " 342: '딱',\n",
       " 343: '요즘',\n",
       " 344: '같이',\n",
       " 345: '스릴러',\n",
       " 346: '믿',\n",
       " 347: '싫',\n",
       " 348: '나왔',\n",
       " 349: '아까운',\n",
       " 350: '중간',\n",
       " 351: '긴장감',\n",
       " 352: '어떻게',\n",
       " 353: '개인',\n",
       " 354: '제대로',\n",
       " 355: '점수',\n",
       " 356: '부족',\n",
       " 357: '이유',\n",
       " 358: '노래',\n",
       " 359: '만큼',\n",
       " 360: 'ㅜㅜ',\n",
       " 361: '라면',\n",
       " 362: '시작',\n",
       " 363: '잇',\n",
       " 364: '구나',\n",
       " 365: '한테',\n",
       " 366: '특히',\n",
       " 367: '려고',\n",
       " 368: '날',\n",
       " 369: '제일',\n",
       " 370: '아름다운',\n",
       " 371: '시대',\n",
       " 372: '니까',\n",
       " 373: '엔딩',\n",
       " 374: '당시',\n",
       " 375: '나름',\n",
       " 376: '무섭',\n",
       " 377: '오랜만',\n",
       " 378: '나온',\n",
       " 379: '이것',\n",
       " 380: '봐',\n",
       " 381: '팬',\n",
       " 382: '해요',\n",
       " 383: '사',\n",
       " 384: '차라리',\n",
       " 385: '절대',\n",
       " 386: '세상',\n",
       " 387: '못하',\n",
       " 388: '감',\n",
       " 389: '의미',\n",
       " 390: '봄',\n",
       " 391: '훌륭',\n",
       " 392: '욕',\n",
       " 393: '너무나',\n",
       " 394: '강추',\n",
       " 395: '드',\n",
       " 396: '따뜻',\n",
       " 397: '됨',\n",
       " 398: '빼',\n",
       " 399: '느끼',\n",
       " 400: '해야',\n",
       " 401: '명',\n",
       " 402: '글',\n",
       " 403: '던데',\n",
       " 404: '뻔',\n",
       " 405: '도대체',\n",
       " 406: '어야',\n",
       " 407: '마다',\n",
       " 408: '답답',\n",
       " 409: '전쟁',\n",
       " 410: '놈',\n",
       " 411: '무엇',\n",
       " 412: '설정',\n",
       " 413: '흥미',\n",
       " 414: '만화',\n",
       " 415: '그저',\n",
       " 416: '감정',\n",
       " 417: '준다',\n",
       " 418: '수작',\n",
       " 419: '행복',\n",
       " 420: '신선',\n",
       " 421: '미국',\n",
       " 422: '앞',\n",
       " 423: '허접',\n",
       " 424: '형',\n",
       " 425: '세',\n",
       " 426: '시절',\n",
       " 427: '관객',\n",
       " 428: '사실',\n",
       " 429: '배경',\n",
       " 430: '어도',\n",
       " 431: '답',\n",
       " 432: '초반',\n",
       " 433: '웃음',\n",
       " 434: '엄청',\n",
       " 435: '자신',\n",
       " 436: '더라',\n",
       " 437: '추억',\n",
       " 438: '군',\n",
       " 439: '질',\n",
       " 440: '캐스팅',\n",
       " 441: '멋있',\n",
       " 442: '라니',\n",
       " 443: '시나리오',\n",
       " 444: '정신',\n",
       " 445: '어색',\n",
       " 446: '첨',\n",
       " 447: '머',\n",
       " 448: '슬프',\n",
       " 449: '밖에',\n",
       " 450: '분위기',\n",
       " 451: '소름',\n",
       " 452: '멋진',\n",
       " 453: '힘들',\n",
       " 454: '오늘',\n",
       " 455: '어이없',\n",
       " 456: '봐서',\n",
       " 457: '간',\n",
       " 458: '집',\n",
       " 459: '구성',\n",
       " 460: '잡',\n",
       " 461: '엄마',\n",
       " 462: '함께',\n",
       " 463: '위해',\n",
       " 464: '잊',\n",
       " 465: '졸작',\n",
       " 466: '류',\n",
       " 467: '이딴',\n",
       " 468: '문제',\n",
       " 469: '등',\n",
       " 470: '유쾌',\n",
       " 471: '킬링',\n",
       " 472: '스러운',\n",
       " 473: '결국',\n",
       " 474: '소리',\n",
       " 475: '낫',\n",
       " 476: '뭘',\n",
       " 477: '뭔',\n",
       " 478: '한데',\n",
       " 479: '역사',\n",
       " 480: '제발',\n",
       " 481: '포스터',\n",
       " 482: '아무리',\n",
       " 483: '코믹',\n",
       " 484: '어떤',\n",
       " 485: '얼마나',\n",
       " 486: '완벽',\n",
       " 487: '맘',\n",
       " 488: '애니메이션',\n",
       " 489: '러',\n",
       " 490: '주연',\n",
       " 491: '보고',\n",
       " 492: '후회',\n",
       " 493: '버리',\n",
       " 494: '뻔한',\n",
       " 495: '나요',\n",
       " 496: '어릴',\n",
       " 497: '진부',\n",
       " 498: '나올',\n",
       " 499: '장난',\n",
       " 500: '출연',\n",
       " 501: '보단',\n",
       " 502: '큰',\n",
       " 503: '책',\n",
       " 504: '됐',\n",
       " 505: '영화관',\n",
       " 506: '밖',\n",
       " 507: '더니',\n",
       " 508: '개연',\n",
       " 509: '둘',\n",
       " 510: 'ㅅ',\n",
       " 511: '충격',\n",
       " 512: '여기',\n",
       " 513: '극',\n",
       " 514: '난다',\n",
       " 515: '평가',\n",
       " 516: '잔인',\n",
       " 517: '아름답',\n",
       " 518: '줬',\n",
       " 519: '얘기',\n",
       " 520: '예술',\n",
       " 521: '갈수록',\n",
       " 522: '매우',\n",
       " 523: '든',\n",
       " 524: '위한',\n",
       " 525: '불',\n",
       " 526: '꺼',\n",
       " 527: '이후',\n",
       " 528: '이리',\n",
       " 529: '자기',\n",
       " 530: '읽',\n",
       " 531: '꽤',\n",
       " 532: '얼굴',\n",
       " 533: '반',\n",
       " 534: '옛날',\n",
       " 535: '깊',\n",
       " 536: '점대',\n",
       " 537: '티비',\n",
       " 538: '이쁘',\n",
       " 539: '원',\n",
       " 540: '시청',\n",
       " 541: '불쌍',\n",
       " 542: '못한',\n",
       " 543: '순수',\n",
       " 544: '별점',\n",
       " 545: '텐데',\n",
       " 546: '겟',\n",
       " 547: '으나',\n",
       " 548: '봐라',\n",
       " 549: '언제',\n",
       " 550: '낭비',\n",
       " 551: '비디오',\n",
       " 552: '라서',\n",
       " 553: '배',\n",
       " 554: '건가',\n",
       " 555: '장르',\n",
       " 556: '머리',\n",
       " 557: '엇',\n",
       " 558: '그래서',\n",
       " 559: '주제',\n",
       " 560: '다음',\n",
       " 561: '생각나',\n",
       " 562: '다운',\n",
       " 563: '다큐',\n",
       " 564: '궁금',\n",
       " 565: '아님',\n",
       " 566: '존나',\n",
       " 567: '그렇게',\n",
       " 568: '하지만',\n",
       " 569: '시키',\n",
       " 570: '애니',\n",
       " 571: '예전',\n",
       " 572: '누구',\n",
       " 573: '미친',\n",
       " 574: '아무',\n",
       " 575: '그만',\n",
       " 576: '미',\n",
       " 577: '진정',\n",
       " 578: '크',\n",
       " 579: '인상',\n",
       " 580: '상황',\n",
       " 581: '그러',\n",
       " 582: '뒤',\n",
       " 583: '감사',\n",
       " 584: '스릴',\n",
       " 585: '이름',\n",
       " 586: '오래',\n",
       " 587: '집중',\n",
       " 588: '본다',\n",
       " 589: '어느',\n",
       " 590: '시즌',\n",
       " 591: '약간',\n",
       " 592: '나와서',\n",
       " 593: '로맨스',\n",
       " 594: '방송',\n",
       " 595: '그나마',\n",
       " 596: '식',\n",
       " 597: '짜리',\n",
       " 598: '마세요',\n",
       " 599: '났',\n",
       " 600: '소설',\n",
       " 601: '까',\n",
       " 602: '그대로',\n",
       " 603: '여주인공',\n",
       " 604: '인물',\n",
       " 605: '걸작',\n",
       " 606: '떨어지',\n",
       " 607: '훨씬',\n",
       " 608: '그것',\n",
       " 609: '힘',\n",
       " 610: '동안',\n",
       " 611: '몰',\n",
       " 612: '케',\n",
       " 613: '죽이',\n",
       " 614: '꿈',\n",
       " 615: '너',\n",
       " 616: '대체',\n",
       " 617: '실화',\n",
       " 618: '만점',\n",
       " 619: '사회',\n",
       " 620: '평',\n",
       " 621: '짓',\n",
       " 622: '해라',\n",
       " 623: '에요',\n",
       " 624: '누가',\n",
       " 625: '전체',\n",
       " 626: '비슷',\n",
       " 627: '막',\n",
       " 628: '발연기',\n",
       " 629: '엉성',\n",
       " 630: '왔',\n",
       " 631: '입',\n",
       " 632: '귀엽',\n",
       " 633: '끝나',\n",
       " 634: '중국',\n",
       " 635: '햇',\n",
       " 636: '초딩',\n",
       " 637: '여주',\n",
       " 638: '비교',\n",
       " 639: '세계',\n",
       " 640: '여배우',\n",
       " 641: '영상미',\n",
       " 642: '감성',\n",
       " 643: '네이버',\n",
       " 644: '는가',\n",
       " 645: '구만',\n",
       " 646: '느껴',\n",
       " 647: '단',\n",
       " 648: '상',\n",
       " 649: 'ㅎㅎㅎ',\n",
       " 650: '순간',\n",
       " 651: '나이',\n",
       " 652: '려는',\n",
       " 653: '대해',\n",
       " 654: '무',\n",
       " 655: '어렸',\n",
       " 656: '첫',\n",
       " 657: '쯤',\n",
       " 658: '꿀',\n",
       " 659: '망',\n",
       " 660: '판',\n",
       " 661: '학교',\n",
       " 662: '갔',\n",
       " 663: '어설픈',\n",
       " 664: '더럽',\n",
       " 665: '생',\n",
       " 666: '돋',\n",
       " 667: '셨',\n",
       " 668: '회',\n",
       " 669: '아야',\n",
       " 670: '느낄',\n",
       " 671: '혼자',\n",
       " 672: '아들',\n",
       " 673: '어린',\n",
       " 674: '가능',\n",
       " 675: '성룡',\n",
       " 676: '졸',\n",
       " 677: '타',\n",
       " 678: '멋지',\n",
       " 679: '바로',\n",
       " 680: '교훈',\n",
       " 681: '잘못',\n",
       " 682: '한마디',\n",
       " 683: '나가',\n",
       " 684: '맛',\n",
       " 685: '당신',\n",
       " 686: '끌',\n",
       " 687: '딸',\n",
       " 688: '화려',\n",
       " 689: '길래',\n",
       " 690: '티',\n",
       " 691: '판타지',\n",
       " 692: '땜',\n",
       " 693: '달',\n",
       " 694: '맨',\n",
       " 695: '잠',\n",
       " 696: '빨리',\n",
       " 697: '똥',\n",
       " 698: '거의',\n",
       " 699: '목소리',\n",
       " 700: '든다',\n",
       " 701: '삼류',\n",
       " 702: '듣',\n",
       " 703: '전부',\n",
       " 704: '봤었',\n",
       " 705: '나온다',\n",
       " 706: '건데',\n",
       " 707: '지루함',\n",
       " 708: '독특',\n",
       " 709: '다르',\n",
       " 710: '한번',\n",
       " 711: '어른',\n",
       " 712: '질질',\n",
       " 713: 'ㅉㅉ',\n",
       " 714: '률',\n",
       " 715: '상당히',\n",
       " 716: '가치',\n",
       " 717: '씩',\n",
       " 718: '아까움',\n",
       " 719: '넣',\n",
       " 720: '아버지',\n",
       " 721: '영',\n",
       " 722: '차',\n",
       " 723: '줄거리',\n",
       " 724: '스타일',\n",
       " 725: '평론가',\n",
       " 726: '대로',\n",
       " 727: '다만',\n",
       " 728: '여러',\n",
       " 729: '갑자기',\n",
       " 730: '이번',\n",
       " 731: '군요',\n",
       " 732: '허무',\n",
       " 733: '의도',\n",
       " 734: '그러나',\n",
       " 735: '저런',\n",
       " 736: '존재',\n",
       " 737: 'ㅂ',\n",
       " 738: '존',\n",
       " 739: '밑',\n",
       " 740: '초',\n",
       " 741: '위',\n",
       " 742: '에선',\n",
       " 743: '너무너무',\n",
       " 744: '째',\n",
       " 745: '당',\n",
       " 746: '예상',\n",
       " 747: '으면서',\n",
       " 748: '성우',\n",
       " 749: '버린',\n",
       " 750: '각본',\n",
       " 751: '이러',\n",
       " 752: '그녀',\n",
       " 753: '화면',\n",
       " 754: 'ㄱ',\n",
       " 755: '비해',\n",
       " 756: '점점',\n",
       " 757: '떠나',\n",
       " 758: '자연',\n",
       " 759: '뻔하',\n",
       " 760: '평범',\n",
       " 761: '굉장히',\n",
       " 762: '만나',\n",
       " 763: '담',\n",
       " 764: '슬픈',\n",
       " 765: '그런지',\n",
       " 766: '예쁘',\n",
       " 767: '복수',\n",
       " 768: '단순',\n",
       " 769: '중요',\n",
       " 770: '낸',\n",
       " 771: '줌',\n",
       " 772: '갖',\n",
       " 773: '댓글',\n",
       " 774: '극장판',\n",
       " 775: '돼',\n",
       " 776: '새로운',\n",
       " 777: '제작',\n",
       " 778: '피',\n",
       " 779: '만족',\n",
       " 780: '못했',\n",
       " 781: '앗',\n",
       " 782: '일단',\n",
       " 783: '쉽',\n",
       " 784: '선택',\n",
       " 785: '한편',\n",
       " 786: '쓴',\n",
       " 787: '버렸',\n",
       " 788: '굳',\n",
       " 789: '아빠',\n",
       " 790: '관람',\n",
       " 791: '요소',\n",
       " 792: '불편',\n",
       " 793: '항상',\n",
       " 794: '스',\n",
       " 795: '지나',\n",
       " 796: '거기',\n",
       " 797: '한다는',\n",
       " 798: '나옴',\n",
       " 799: '연출력',\n",
       " 800: '그때',\n",
       " 801: '탄탄',\n",
       " 802: '롭',\n",
       " 803: '잃',\n",
       " 804: '에로',\n",
       " 805: '려',\n",
       " 806: '흥행',\n",
       " 807: '한심',\n",
       " 808: '물론',\n",
       " 809: '부',\n",
       " 810: '거나',\n",
       " 811: '예요',\n",
       " 812: '역대',\n",
       " 813: '편집',\n",
       " 814: '따라',\n",
       " 815: '관계',\n",
       " 816: '전형',\n",
       " 817: '산',\n",
       " 818: '진행',\n",
       " 819: '삼',\n",
       " 820: '짧',\n",
       " 821: '아닌가',\n",
       " 822: '충분히',\n",
       " 823: '멜',\n",
       " 824: '법',\n",
       " 825: '총',\n",
       " 826: '에겐',\n",
       " 827: '던가',\n",
       " 828: '안타깝',\n",
       " 829: '조',\n",
       " 830: '이하',\n",
       " 831: '따',\n",
       " 832: '식상',\n",
       " 833: '자꾸',\n",
       " 834: '훈훈',\n",
       " 835: '도록',\n",
       " 836: '게임',\n",
       " 837: '미안',\n",
       " 838: '아까워',\n",
       " 839: '화이팅',\n",
       " 840: '곳',\n",
       " 841: '김',\n",
       " 842: '원래',\n",
       " 843: '그게',\n",
       " 844: '구요',\n",
       " 845: '자극',\n",
       " 846: '몰랐',\n",
       " 847: '몸',\n",
       " 848: '손',\n",
       " 849: '어쩔',\n",
       " 850: '풀',\n",
       " 851: '사건',\n",
       " 852: '똑같',\n",
       " 853: '뭔지',\n",
       " 854: '설명',\n",
       " 855: '잖아',\n",
       " 856: '어울리',\n",
       " 857: '나쁜',\n",
       " 858: '팔',\n",
       " 859: '그래픽',\n",
       " 860: '노력',\n",
       " 861: '귀신',\n",
       " 862: '짐',\n",
       " 863: '도저히',\n",
       " 864: '조차',\n",
       " 865: '상상',\n",
       " 866: '과거',\n",
       " 867: '간다',\n",
       " 868: '됬',\n",
       " 869: '아프',\n",
       " 870: '닿',\n",
       " 871: '장',\n",
       " 872: '개그',\n",
       " 873: '황당',\n",
       " 874: '프랑스',\n",
       " 875: '무조건',\n",
       " 876: '홍콩',\n",
       " 877: '취향',\n",
       " 878: '죽음',\n",
       " 879: '듬',\n",
       " 880: '코메디',\n",
       " 881: '미치',\n",
       " 882: '발',\n",
       " 883: '중반',\n",
       " 884: '빠',\n",
       " 885: '속편',\n",
       " 886: '새끼',\n",
       " 887: '했었',\n",
       " 888: '빠져',\n",
       " 889: '소중',\n",
       " 890: '프로',\n",
       " 891: '짱짱',\n",
       " 892: '무비',\n",
       " 893: '병맛',\n",
       " 894: '더빙',\n",
       " 895: '빙',\n",
       " 896: '역',\n",
       " 897: 'ㅜ',\n",
       " 898: '나쁘',\n",
       " 899: '간만에',\n",
       " 900: '좋아하',\n",
       " 901: '아쉬운',\n",
       " 902: '멋',\n",
       " 903: '넘치',\n",
       " 904: '상영',\n",
       " 905: '진지',\n",
       " 906: '빠지',\n",
       " 907: '끝내',\n",
       " 908: '더욱',\n",
       " 909: '참신',\n",
       " 910: '괜히',\n",
       " 911: '쳐',\n",
       " 912: '무서운',\n",
       " 913: '특유',\n",
       " 914: '유명',\n",
       " 915: '척',\n",
       " 916: '심리',\n",
       " 917: '결혼',\n",
       " 918: '전설',\n",
       " 919: '엄청난',\n",
       " 920: '숨',\n",
       " 921: '오히려',\n",
       " 922: '헐',\n",
       " 923: '예고편',\n",
       " 924: '짜',\n",
       " 925: '또한',\n",
       " 926: '고자',\n",
       " 927: '후반부',\n",
       " 928: '틀',\n",
       " 929: '아저씨',\n",
       " 930: '바보',\n",
       " 931: '심하',\n",
       " 932: '왕',\n",
       " 933: '연기자',\n",
       " 934: '촬영',\n",
       " 935: '리',\n",
       " 936: '아도',\n",
       " 937: '천재',\n",
       " 938: '소녀',\n",
       " 939: '느꼈',\n",
       " 940: '그리',\n",
       " 941: '로맨틱',\n",
       " 942: '조연',\n",
       " 943: '비추',\n",
       " 944: '최근',\n",
       " 945: '이란',\n",
       " 946: '희망',\n",
       " 947: '으니',\n",
       " 948: '억지로',\n",
       " 949: '가볍',\n",
       " 950: '는구나',\n",
       " 951: 'ㄴ',\n",
       " 952: '마무리',\n",
       " 953: '표정',\n",
       " 954: '쩔',\n",
       " 955: '현재',\n",
       " 956: '전편',\n",
       " 957: '아무것',\n",
       " 958: '온',\n",
       " 959: '힘든',\n",
       " 960: '로서',\n",
       " 961: '부모',\n",
       " 962: '어라',\n",
       " 963: '이야',\n",
       " 964: '던지',\n",
       " 965: '동화',\n",
       " 966: '순',\n",
       " 967: '대작',\n",
       " 968: '아쉬움',\n",
       " 969: '점주',\n",
       " 970: '서로',\n",
       " 971: '저질',\n",
       " 972: '진실',\n",
       " 973: '즐겁',\n",
       " 974: '노출',\n",
       " 975: '대한민국',\n",
       " 976: '빨',\n",
       " 977: '흠',\n",
       " 978: '메세지',\n",
       " 979: '우연히',\n",
       " 980: '적당',\n",
       " 981: '그림',\n",
       " 982: '묘사',\n",
       " 983: '여성',\n",
       " 984: '이미',\n",
       " 985: '그런데',\n",
       " 986: '땐',\n",
       " 987: '지난',\n",
       " 988: '엉망',\n",
       " 989: '이래',\n",
       " 990: '경찰',\n",
       " 991: '그닥',\n",
       " 992: '프로그램',\n",
       " 993: '살인',\n",
       " 994: '쩌',\n",
       " 995: '유머',\n",
       " 996: '오빠',\n",
       " 997: '남기',\n",
       " 998: '어설프',\n",
       " 999: '십',\n",
       " ...}"
      ]
     },
     "execution_count": 26,
     "metadata": {},
     "output_type": "execute_result"
    }
   ],
   "source": [
    "# index_to_word 확인\n",
    "index_to_word"
   ]
  },
  {
   "cell_type": "code",
   "execution_count": 27,
   "id": "musical-hunger",
   "metadata": {},
   "outputs": [],
   "source": [
    "# 문장 1개를 활용할 딕셔너리와 함께 주면, 단어 인덱스 리스트 벡터로 변환해 주는 함수\n",
    "# 단, 모든 문장은 <BOS>로 시작하는 것으로 함\n",
    "def get_encoded_sentence(sentence, word_to_index):\n",
    "    return [word_to_index['<BOS>']]+[word_to_index[word] if word in word_to_index else word_to_index['<UNK>'] for word in sentence.split()]\n",
    "\n",
    "# 여러 개의 문장 리스트를 한꺼번에 단어 인덱스 리스트 벡터로 encode해 주는 함수\n",
    "def get_encoded_sentences(sentences, word_to_index):\n",
    "    return [get_encoded_sentence(sentence, word_to_index) for sentence in sentences]\n",
    "\n",
    "# 숫자 벡터로 encode된 문장을 원래대로 decode하는 함수\n",
    "def get_decoded_sentence(encoded_sentence, index_to_word):\n",
    "    return ' '.join(index_to_word[index] if index in index_to_word else '<UNK>' for index in encoded_sentence[1:])  #[1:]를 통해 <BOS>를 제외\n",
    "\n",
    "# 여러 개의 숫자 벡터로 encode된 문장을 한꺼번에 원래대로 decode하는 함수\n",
    "def get_decoded_sentences(encoded_sentences, index_to_word):\n",
    "    return [get_decoded_sentence(encoded_sentence, index_to_word) for encoded_sentence in encoded_sentences]"
   ]
  },
  {
   "cell_type": "markdown",
   "id": "light-atlas",
   "metadata": {},
   "source": [
    "## 3. 모델구성을 위한 데이터 분석 및 가공"
   ]
  },
  {
   "cell_type": "markdown",
   "id": "dress-monday",
   "metadata": {},
   "source": [
    "### 1) 데이터셋 내 문장 길이 분포"
   ]
  },
  {
   "cell_type": "code",
   "execution_count": 28,
   "id": "beneficial-emergency",
   "metadata": {},
   "outputs": [
    {
     "name": "stdout",
     "output_type": "stream",
     "text": [
      "[27, 67, 895, 33, 214, 15, 28, 699]\n",
      "라벨:  0\n",
      "1번째 리뷰 문장 길이:  8\n",
      "2번째 리뷰 문장 길이:  13\n"
     ]
    }
   ],
   "source": [
    "# 데이터 실제 예시 확인\n",
    "print(X_train[0])  # 1번째 리뷰데이터\n",
    "print('라벨: ', y_train[0])  # 1번째 리뷰데이터의 라벨\n",
    "print('1번째 리뷰 문장 길이: ', len(X_train[0]))\n",
    "print('2번째 리뷰 문장 길이: ', len(X_train[1]))"
   ]
  },
  {
   "cell_type": "code",
   "execution_count": 29,
   "id": "handled-lease",
   "metadata": {},
   "outputs": [
    {
     "name": "stdout",
     "output_type": "stream",
     "text": [
      "문장길이 평균 :  14.33899768696993\n",
      "문장길이 최대 :  105\n",
      "문장길이 표준편차 :  11.861020004684411\n"
     ]
    }
   ],
   "source": [
    "total_data_text = list(X_train) + list(X_test)\n",
    "# 텍스트데이터 문장길이의 리스트를 생성한 후\n",
    "num_tokens = [len(tokens) for tokens in total_data_text]\n",
    "num_tokens = np.array(num_tokens)\n",
    "# 문장길이의 평균값, 최대값, 표준편차를 계산해 본다. \n",
    "print('문장길이 평균 : ', np.mean(num_tokens))\n",
    "print('문장길이 최대 : ', np.max(num_tokens))\n",
    "print('문장길이 표준편차 : ', np.std(num_tokens))"
   ]
  },
  {
   "cell_type": "markdown",
   "id": "indirect-denver",
   "metadata": {},
   "source": [
    "### 2) 적절한 최대 문장 길이 지정   "
   ]
  },
  {
   "cell_type": "code",
   "execution_count": 30,
   "id": "apart-thailand",
   "metadata": {},
   "outputs": [
    {
     "name": "stdout",
     "output_type": "stream",
     "text": [
      "리뷰의 최대 길이 : 105\n",
      "리뷰의 평균 길이 : 14.33899768696993\n"
     ]
    },
    {
     "data": {
      "image/png": "[encoded data removed]",
      "text/plain": [
       "<Figure size 432x288 with 1 Axes>"
      ]
     },
     "metadata": {
      "needs_background": "light"
     },
     "output_type": "display_data"
    }
   ],
   "source": [
    "print('리뷰의 최대 길이 :', np.max(num_tokens))\n",
    "print('리뷰의 평균 길이 :', np.mean(num_tokens))\n",
    "plt.hist([len(s) for s in X_train], bins = 50)\n",
    "plt.xlabel('length of samples')\n",
    "plt.ylabel('number of samples')\n",
    "plt.show()"
   ]
  },
  {
   "cell_type": "code",
   "execution_count": 31,
   "id": "saving-blanket",
   "metadata": {},
   "outputs": [
    {
     "name": "stdout",
     "output_type": "stream",
     "text": [
      "pad_sequences maxlen :  38\n",
      "전체 문장의 0.9364019532253919% 가 maxlen 설정값 이내에 포함된다. \n"
     ]
    }
   ],
   "source": [
    "# 예를들어, 최대 길이를 (평균 + 2 * 표준편차)로 한다면,  \n",
    "max_tokens = np.mean(num_tokens) + 2 * np.std(num_tokens)\n",
    "maxlen = int(max_tokens)\n",
    "print('pad_sequences maxlen : ', maxlen)\n",
    "print('전체 문장의 {}% 가 maxlen 설정값 이내에 포함된다. '.format(np.sum(num_tokens < max_tokens) / len(num_tokens)))"
   ]
  },
  {
   "cell_type": "markdown",
   "id": "enabling-livestock",
   "metadata": {},
   "source": [
    "### 3) keras.preprocessing.sequence.pad_sequences 을 활용한 패딩 추가 \n",
    "padding 방식을  앞쪽('pre') 으로 설정하여 문장의 길이 맞추기"
   ]
  },
  {
   "cell_type": "code",
   "execution_count": 32,
   "id": "perceived-mexican",
   "metadata": {
    "scrolled": true
   },
   "outputs": [
    {
     "data": {
      "text/plain": [
       "list"
      ]
     },
     "execution_count": 32,
     "metadata": {},
     "output_type": "execute_result"
    }
   ],
   "source": [
    "# padding 전 타입 확인\n",
    "type(X_train)"
   ]
  },
  {
   "cell_type": "code",
   "execution_count": 33,
   "id": "published-ethics",
   "metadata": {
    "scrolled": true
   },
   "outputs": [],
   "source": [
    "maxlen = 30\n",
    "\n",
    "X_train = keras.preprocessing.sequence.pad_sequences(X_train,\n",
    "                                                        value=word_to_index[\"<PAD>\"],\n",
    "                                                        padding='pre',\n",
    "                                                        maxlen=maxlen)\n",
    "\n",
    "X_test = keras.preprocessing.sequence.pad_sequences(X_test,\n",
    "                                                       value=word_to_index[\"<PAD>\"],\n",
    "                                                       padding='pre',\n",
    "                                                       maxlen=maxlen)"
   ]
  },
  {
   "cell_type": "code",
   "execution_count": 34,
   "id": "lined-avatar",
   "metadata": {},
   "outputs": [
    {
     "data": {
      "text/plain": [
       "numpy.ndarray"
      ]
     },
     "execution_count": 34,
     "metadata": {},
     "output_type": "execute_result"
    }
   ],
   "source": [
    "# padding 후 타입 확인\n",
    "type(X_train)"
   ]
  },
  {
   "cell_type": "code",
   "execution_count": 35,
   "id": "younger-entrepreneur",
   "metadata": {
    "scrolled": true
   },
   "outputs": [
    {
     "name": "stdout",
     "output_type": "stream",
     "text": [
      "(145393, 30)\n",
      "(145393, 30)\n"
     ]
    }
   ],
   "source": [
    "# padding 후 쉐잎 확인\n",
    "print(X_train.shape)\n",
    "print(X_train.shape)"
   ]
  },
  {
   "cell_type": "markdown",
   "id": "hydraulic-weight",
   "metadata": {},
   "source": [
    "## 4. 모델구성 및 validation set 구성"
   ]
  },
  {
   "cell_type": "markdown",
   "id": "lovely-praise",
   "metadata": {},
   "source": [
    "### 1) 모델구성\n",
    "LSTM은 기존 RNN을 개선한 모델로 긴 의존 기간(long-term dependency)을     \n",
    "필요로 하는 데이터를 학습하는데 효과적인 모델로 리뷰 분류에 적합"
   ]
  },
  {
   "cell_type": "code",
   "execution_count": 36,
   "id": "collaborative-smoke",
   "metadata": {},
   "outputs": [
    {
     "name": "stdout",
     "output_type": "stream",
     "text": [
      "Model: \"sequential\"\n",
      "_________________________________________________________________\n",
      "Layer (type)                 Output Shape              Param #   \n",
      "=================================================================\n",
      "embedding (Embedding)        (None, None, 200)         9000000   \n",
      "_________________________________________________________________\n",
      "lstm (LSTM)                  (None, 16)                13888     \n",
      "_________________________________________________________________\n",
      "dense (Dense)                (None, 8)                 136       \n",
      "_________________________________________________________________\n",
      "dense_1 (Dense)              (None, 1)                 9         \n",
      "=================================================================\n",
      "Total params: 9,014,033\n",
      "Trainable params: 9,014,033\n",
      "Non-trainable params: 0\n",
      "_________________________________________________________________\n"
     ]
    }
   ],
   "source": [
    "vocab_size = 45000\n",
    "word_vector_dim = 200\n",
    "\n",
    "# model 설계 - 딥러닝 모델 코드를 직접 작성해 주세요.\n",
    "model= keras.Sequential()\n",
    "model.add(keras.layers.Embedding(vocab_size, word_vector_dim, input_shape=(None,)))\n",
    "model.add(keras.layers.LSTM(16)) # LSTM 임베딩 벡터의 차원\n",
    "model.add(keras.layers.Dense(8, activation='relu'))\n",
    "model.add(keras.layers.Dense(1, activation='sigmoid')) # 최종 출력은 긍정/부정을 나타내는 1dim\n",
    "\n",
    "model.summary()"
   ]
  },
  {
   "cell_type": "markdown",
   "id": "varying-inspiration",
   "metadata": {},
   "source": [
    "### 2) validation set 구성\n",
    "훈련 데이터 중 20%를 검증 데이터로 사용"
   ]
  },
  {
   "cell_type": "code",
   "execution_count": 37,
   "id": "roman-formula",
   "metadata": {},
   "outputs": [
    {
     "name": "stdout",
     "output_type": "stream",
     "text": [
      "(145393, 30)\n",
      "(145393, 30)\n"
     ]
    }
   ],
   "source": [
    "print(X_train.shape)\n",
    "print(X_train.shape)"
   ]
  },
  {
   "cell_type": "code",
   "execution_count": 38,
   "id": "guilty-sailing",
   "metadata": {},
   "outputs": [
    {
     "name": "stdout",
     "output_type": "stream",
     "text": [
      "(116393, 30)\n",
      "(116393,)\n"
     ]
    }
   ],
   "source": [
    "# validation set 10000건 분리\n",
    "X_val = X_train[:29000]   \n",
    "y_val = y_train[:29000]\n",
    "\n",
    "# validation set을 제외한 나머지 15000건\n",
    "partial_X_train = X_train[29000:]  \n",
    "partial_y_train = y_train[29000:]\n",
    "\n",
    "print(partial_X_train.shape)\n",
    "print(partial_y_train.shape)"
   ]
  },
  {
   "cell_type": "markdown",
   "id": "reserved-poster",
   "metadata": {},
   "source": [
    "## 5. 모델 훈련 개시"
   ]
  },
  {
   "cell_type": "code",
   "execution_count": 39,
   "id": "champion-journey",
   "metadata": {},
   "outputs": [
    {
     "name": "stdout",
     "output_type": "stream",
     "text": [
      "Epoch 1/15\n",
      "29/29 [==============================] - 7s 150ms/step - loss: 0.6741 - accuracy: 0.6591 - val_loss: 0.5424 - val_accuracy: 0.7896\n",
      "Epoch 2/15\n",
      "29/29 [==============================] - 3s 116ms/step - loss: 0.4739 - accuracy: 0.8156 - val_loss: 0.3763 - val_accuracy: 0.8390\n",
      "Epoch 3/15\n",
      "29/29 [==============================] - 3s 113ms/step - loss: 0.3380 - accuracy: 0.8628 - val_loss: 0.3577 - val_accuracy: 0.8458\n",
      "Epoch 4/15\n",
      "29/29 [==============================] - 3s 114ms/step - loss: 0.2910 - accuracy: 0.8868 - val_loss: 0.3607 - val_accuracy: 0.8442\n",
      "Epoch 5/15\n",
      "29/29 [==============================] - 3s 114ms/step - loss: 0.2646 - accuracy: 0.8990 - val_loss: 0.3719 - val_accuracy: 0.8429\n",
      "Epoch 6/15\n",
      "29/29 [==============================] - 3s 112ms/step - loss: 0.2417 - accuracy: 0.9107 - val_loss: 0.3858 - val_accuracy: 0.8408\n",
      "Epoch 7/15\n",
      "29/29 [==============================] - 3s 113ms/step - loss: 0.2247 - accuracy: 0.9176 - val_loss: 0.3959 - val_accuracy: 0.8390\n",
      "Epoch 8/15\n",
      "29/29 [==============================] - 3s 114ms/step - loss: 0.2104 - accuracy: 0.9250 - val_loss: 0.4119 - val_accuracy: 0.8383\n",
      "Epoch 9/15\n",
      "29/29 [==============================] - 3s 115ms/step - loss: 0.1992 - accuracy: 0.9300 - val_loss: 0.4293 - val_accuracy: 0.8318\n",
      "Epoch 10/15\n",
      "29/29 [==============================] - 3s 116ms/step - loss: 0.1896 - accuracy: 0.9326 - val_loss: 0.4437 - val_accuracy: 0.8322\n",
      "Epoch 11/15\n",
      "29/29 [==============================] - 3s 116ms/step - loss: 0.1783 - accuracy: 0.9372 - val_loss: 0.4566 - val_accuracy: 0.8307\n",
      "Epoch 12/15\n",
      "29/29 [==============================] - 3s 113ms/step - loss: 0.1704 - accuracy: 0.9401 - val_loss: 0.4757 - val_accuracy: 0.8284\n",
      "Epoch 13/15\n",
      "29/29 [==============================] - 3s 114ms/step - loss: 0.1598 - accuracy: 0.9448 - val_loss: 0.4882 - val_accuracy: 0.8272\n",
      "Epoch 14/15\n",
      "29/29 [==============================] - 3s 114ms/step - loss: 0.1523 - accuracy: 0.9472 - val_loss: 0.5064 - val_accuracy: 0.8254\n",
      "Epoch 15/15\n",
      "29/29 [==============================] - 3s 114ms/step - loss: 0.1475 - accuracy: 0.9504 - val_loss: 0.5161 - val_accuracy: 0.8256\n"
     ]
    }
   ],
   "source": [
    "model.compile(optimizer='adam',\n",
    "              loss='binary_crossentropy',\n",
    "              metrics=['accuracy'])\n",
    "              \n",
    "epochs = 15\n",
    "\n",
    "history = model.fit(partial_X_train,\n",
    "                    partial_y_train,\n",
    "                    epochs=epochs,\n",
    "                    batch_size=4048,\n",
    "                    validation_data=(X_val, y_val),\n",
    "                    verbose=1)"
   ]
  },
  {
   "cell_type": "code",
   "execution_count": 40,
   "id": "medieval-eclipse",
   "metadata": {},
   "outputs": [
    {
     "name": "stdout",
     "output_type": "stream",
     "text": [
      "1537/1537 - 4s - loss: 0.5544 - accuracy: 0.8128\n",
      "[0.5543965697288513, 0.8128241896629333]\n"
     ]
    }
   ],
   "source": [
    "results = model.evaluate(X_test, y_test, verbose=2)\n",
    "\n",
    "print(results)"
   ]
  },
  {
   "cell_type": "markdown",
   "id": "independent-dictionary",
   "metadata": {},
   "source": [
    "## 6. Loss, Accuracy 그래프 시각화\n",
    "history 변수를 이용하여 그래프 시각화"
   ]
  },
  {
   "cell_type": "code",
   "execution_count": 41,
   "id": "israeli-novel",
   "metadata": {},
   "outputs": [
    {
     "name": "stdout",
     "output_type": "stream",
     "text": [
      "dict_keys(['loss', 'accuracy', 'val_loss', 'val_accuracy'])\n"
     ]
    }
   ],
   "source": [
    "history_dict = history.history\n",
    "print(history_dict.keys()) # epoch에 따른 그래프를 그려볼 수 있는 항목들"
   ]
  },
  {
   "cell_type": "markdown",
   "id": "right-development",
   "metadata": {},
   "source": [
    "Training and validation loss 그래프 시각화를 통해, epoch까지의 트레이닝이 적절한지 최적점을 추정해 볼 수 있음       \n",
    "validation loss의 그래프가 train loss와의 이격이 발생하게 되면 더 이상의 트레이닝은 무의미"
   ]
  },
  {
   "cell_type": "code",
   "execution_count": 42,
   "id": "gothic-preparation",
   "metadata": {},
   "outputs": [
    {
     "data": {
      "image/png": "[encoded data removed]",
      "text/plain": [
       "<Figure size 432x288 with 1 Axes>"
      ]
     },
     "metadata": {
      "needs_background": "light"
     },
     "output_type": "display_data"
    }
   ],
   "source": [
    "acc = history_dict['accuracy']\n",
    "val_acc = history_dict['val_accuracy']\n",
    "loss = history_dict['loss']\n",
    "val_loss = history_dict['val_loss']\n",
    "\n",
    "epochs = range(1, len(acc) + 1)\n",
    "\n",
    "plt.plot(epochs, loss, 'bo', label='Training loss')\n",
    "plt.plot(epochs, val_loss, 'b', label='Validation loss')\n",
    "plt.title('Training and validation loss')\n",
    "plt.xlabel('Epochs') # 파란 점\n",
    "plt.ylabel('Loss') # 파란 실선\n",
    "plt.legend()\n",
    "\n",
    "plt.show()"
   ]
  },
  {
   "cell_type": "code",
   "execution_count": 43,
   "id": "protective-judges",
   "metadata": {},
   "outputs": [
    {
     "data": {
      "image/png": "[encoded data removed]",
      "text/plain": [
       "<Figure size 432x288 with 1 Axes>"
      ]
     },
     "metadata": {
      "needs_background": "light"
     },
     "output_type": "display_data"
    }
   ],
   "source": [
    "plt.clf()   # 그림을 초기화합니다\n",
    "\n",
    "plt.plot(epochs, acc, 'bo', label='Training acc')\n",
    "plt.plot(epochs, val_acc, 'b', label='Validation acc')\n",
    "plt.title('Training and validation accuracy')\n",
    "plt.xlabel('Epochs') # 파란 점\n",
    "plt.ylabel('Accuracy') # 파란 실선\n",
    "plt.legend()\n",
    "\n",
    "plt.show()"
   ]
  },
  {
   "cell_type": "markdown",
   "id": "noticed-width",
   "metadata": {},
   "source": [
    "## 7. 학습된 Embedding 레이어 분석"
   ]
  },
  {
   "cell_type": "code",
   "execution_count": 44,
   "id": "north-enforcement",
   "metadata": {},
   "outputs": [
    {
     "name": "stdout",
     "output_type": "stream",
     "text": [
      "(45000, 200)\n"
     ]
    }
   ],
   "source": [
    "embedding_layer = model.layers[0]\n",
    "weights = embedding_layer.get_weights()[0]\n",
    "print(weights.shape)    # shape: (vocab_size, embedding_dim)"
   ]
  },
  {
   "cell_type": "code",
   "execution_count": 45,
   "id": "located-delight",
   "metadata": {},
   "outputs": [],
   "source": [
    "# 학습한 Embedding 파라미터를 파일에 써서 저장합니다. \n",
    "word2vec_file_path = os.getenv('HOME')+'/aiffel/sentiment_classification/data/word2vec.txt'\n",
    "f = open(word2vec_file_path, 'w')\n",
    "f.write('{} {}\\n'.format(vocab_size-4, word_vector_dim))  # 몇개의 벡터를 얼마 사이즈로 기재할지 타이틀을 씁니다.\n",
    "\n",
    "# 단어 개수(에서 특수문자 4개는 제외하고)만큼의 워드 벡터를 파일에 기록합니다. \n",
    "vectors = model.get_weights()[0]\n",
    "for i in range(4,vocab_size):\n",
    "    f.write('{} {}\\n'.format(index_to_word[i], ' '.join(map(str, list(vectors[i, :])))))\n",
    "f.close()"
   ]
  },
  {
   "cell_type": "markdown",
   "id": "informative-duplicate",
   "metadata": {},
   "source": [
    "## 8. 한국어 Word2Vec 임베딩 활용하여 성능개선\n",
    "https://github.com/Kyubyong/wordvectors 에서 한국어 Word2Vec 단어 벡터 다운로드"
   ]
  },
  {
   "cell_type": "code",
   "execution_count": 46,
   "id": "outside-balance",
   "metadata": {},
   "outputs": [
    {
     "name": "stdout",
     "output_type": "stream",
     "text": [
      "Word2Vec(vocab=30185, size=200, alpha=0.025)\n"
     ]
    }
   ],
   "source": [
    "from gensim.models import Word2Vec\n",
    "import os\n",
    "\n",
    "# 한국어 Word2Vec 사용\n",
    "word2vec_ko_path = os.getenv('HOME')+'/aiffel/sentiment_classification/data/ko.bin'\n",
    "word2vec_ko = Word2Vec.load(word2vec_ko_path)\n",
    "\n",
    "print(word2vec_ko)"
   ]
  },
  {
   "cell_type": "code",
   "execution_count": 47,
   "id": "dress-salem",
   "metadata": {},
   "outputs": [
    {
     "name": "stderr",
     "output_type": "stream",
     "text": [
      "/opt/conda/lib/python3.7/site-packages/ipykernel_launcher.py:5: DeprecationWarning: Call to deprecated `__contains__` (Method will be removed in 4.0.0, use self.wv.__contains__() instead).\n",
      "  \"\"\"\n",
      "/opt/conda/lib/python3.7/site-packages/ipykernel_launcher.py:6: DeprecationWarning: Call to deprecated `__getitem__` (Method will be removed in 4.0.0, use self.wv.__getitem__() instead).\n",
      "  \n"
     ]
    }
   ],
   "source": [
    "embedding_matrix = np.random.rand(vocab_size, word_vector_dim)\n",
    "\n",
    "# embedding_matrix에 Word2Vec 워드벡터를 단어 하나씩마다 차례차례 카피한다.\n",
    "for i in range(4,vocab_size):\n",
    "    if index_to_word[i] in word2vec_ko:\n",
    "        embedding_matrix[i] = word2vec_ko[index_to_word[i]]"
   ]
  },
  {
   "cell_type": "markdown",
   "id": "classified-burton",
   "metadata": {},
   "source": [
    "### 1) CNN 모델 인베딩 벡터 적용"
   ]
  },
  {
   "cell_type": "code",
   "execution_count": 48,
   "id": "corporate-component",
   "metadata": {},
   "outputs": [
    {
     "name": "stdout",
     "output_type": "stream",
     "text": [
      "Model: \"sequential\"\n",
      "_________________________________________________________________\n",
      "Layer (type)                 Output Shape              Param #   \n",
      "=================================================================\n",
      "embedding (Embedding)        (None, None, 200)         9000000   \n",
      "_________________________________________________________________\n",
      "lstm (LSTM)                  (None, 16)                13888     \n",
      "_________________________________________________________________\n",
      "dense (Dense)                (None, 8)                 136       \n",
      "_________________________________________________________________\n",
      "dense_1 (Dense)              (None, 1)                 9         \n",
      "=================================================================\n",
      "Total params: 9,014,033\n",
      "Trainable params: 9,014,033\n",
      "Non-trainable params: 0\n",
      "_________________________________________________________________\n"
     ]
    }
   ],
   "source": [
    "vocab_size = 45000  # 어휘 사전의 크기\n",
    "word_vector_dim = 200   # 단어 하나를 표현하는 임베딩 벡터의 차원 수\n",
    "\n",
    "model_CNN = keras.Sequential()\n",
    "model_CNN.add(keras.layers.Embedding(vocab_size, \n",
    "                                 word_vector_dim, \n",
    "                                 embeddings_initializer=Constant(embedding_matrix),  # 카피한 임베딩을 여기서 활용\n",
    "                                 input_length=maxlen, \n",
    "                                 trainable=True))   # trainable을 True로 주면 Fine-tuning\n",
    "model_CNN.add(keras.layers.Conv1D(16, 5, activation='relu'))\n",
    "model_CNN.add(keras.layers.MaxPooling1D(5))\n",
    "model_CNN.add(keras.layers.Conv1D(16, 5, activation='relu'))\n",
    "model_CNN.add(keras.layers.GlobalMaxPooling1D())\n",
    "model_CNN.add(keras.layers.Dense(8, activation='relu'))\n",
    "model_CNN.add(keras.layers.Dense(1, activation='sigmoid')) \n",
    "\n",
    "model.summary()"
   ]
  },
  {
   "cell_type": "markdown",
   "id": "minute-booking",
   "metadata": {},
   "source": [
    "### 2) LSTM 모델에 인베딩 벡터 적용"
   ]
  },
  {
   "cell_type": "code",
   "execution_count": 49,
   "id": "express-report",
   "metadata": {},
   "outputs": [
    {
     "name": "stdout",
     "output_type": "stream",
     "text": [
      "Model: \"sequential_2\"\n",
      "_________________________________________________________________\n",
      "Layer (type)                 Output Shape              Param #   \n",
      "=================================================================\n",
      "embedding_2 (Embedding)      (None, 30, 200)           9000000   \n",
      "_________________________________________________________________\n",
      "lstm_1 (LSTM)                (None, 164)               239440    \n",
      "_________________________________________________________________\n",
      "dense_4 (Dense)              (None, 64)                10560     \n",
      "_________________________________________________________________\n",
      "dense_5 (Dense)              (None, 1)                 65        \n",
      "=================================================================\n",
      "Total params: 9,250,065\n",
      "Trainable params: 9,250,065\n",
      "Non-trainable params: 0\n",
      "_________________________________________________________________\n"
     ]
    }
   ],
   "source": [
    "vocab_size = 45000  # 어휘 사전의 크기\n",
    "word_vector_dim = 200   # 단어 하나를 표현하는 임베딩 벡터의 차원 수\n",
    "\n",
    "model_LSTM = keras.Sequential()\n",
    "model_LSTM.add(keras.layers.Embedding(vocab_size, \n",
    "                   word_vector_dim, \n",
    "                   embeddings_initializer=Constant(embedding_matrix),\n",
    "                   input_length=maxlen, \n",
    "                   trainable=True))\n",
    "model_LSTM.add(keras.layers.LSTM(164))\n",
    "model_LSTM.add(keras.layers.Dense(64, activation='relu')) \n",
    "model_LSTM.add(keras.layers.Dense(1, activation='sigmoid')) # 최종 출력은 긍정/부정을 나타내는 1dim\n",
    "\n",
    "model_LSTM.summary()"
   ]
  },
  {
   "cell_type": "markdown",
   "id": "imperial-silicon",
   "metadata": {},
   "source": [
    "### 3) GlobalMaxPooling1D() 에 임베딩 벡터 적용"
   ]
  },
  {
   "cell_type": "code",
   "execution_count": 50,
   "id": "unknown-jason",
   "metadata": {},
   "outputs": [
    {
     "name": "stdout",
     "output_type": "stream",
     "text": [
      "Model: \"sequential_3\"\n",
      "_________________________________________________________________\n",
      "Layer (type)                 Output Shape              Param #   \n",
      "=================================================================\n",
      "embedding_3 (Embedding)      (None, None, 200)         9000000   \n",
      "_________________________________________________________________\n",
      "global_max_pooling1d_1 (Glob (None, 200)               0         \n",
      "_________________________________________________________________\n",
      "dense_6 (Dense)              (None, 32)                6432      \n",
      "_________________________________________________________________\n",
      "dense_7 (Dense)              (None, 1)                 33        \n",
      "=================================================================\n",
      "Total params: 9,006,465\n",
      "Trainable params: 9,006,465\n",
      "Non-trainable params: 0\n",
      "_________________________________________________________________\n"
     ]
    }
   ],
   "source": [
    "vocab_size = 45000  # 어휘 사전의 크기\n",
    "word_vector_dim = 200   # 단어 하나를 표현하는 임베딩 벡터의 차원 수\n",
    "\n",
    "model_GMP = keras.Sequential()\n",
    "model_GMP.add(keras.layers.Embedding(vocab_size, word_vector_dim, input_shape=(None,)))\n",
    "model_GMP.add(keras.layers.GlobalMaxPooling1D())\n",
    "model_GMP.add(keras.layers.Dense(32, activation='relu'))\n",
    "model_GMP.add(keras.layers.Dense(1, activation='sigmoid'))  # 최종 출력은 긍정/부정을 나타내는 1dim 입니다.\n",
    "\n",
    "model_GMP.summary()"
   ]
  },
  {
   "cell_type": "markdown",
   "id": "respected-pricing",
   "metadata": {},
   "source": [
    "### 4) 각 모델 학습"
   ]
  },
  {
   "cell_type": "code",
   "execution_count": 51,
   "id": "clinical-philadelphia",
   "metadata": {},
   "outputs": [
    {
     "name": "stdout",
     "output_type": "stream",
     "text": [
      "Epoch 1/10\n",
      "29/29 [==============================] - 10s 247ms/step - loss: 0.6996 - accuracy: 0.5203 - val_loss: 0.6699 - val_accuracy: 0.6091\n",
      "Epoch 2/10\n",
      "29/29 [==============================] - 4s 130ms/step - loss: 0.6496 - accuracy: 0.6338 - val_loss: 0.5896 - val_accuracy: 0.6895\n",
      "Epoch 3/10\n",
      "29/29 [==============================] - 4s 129ms/step - loss: 0.5652 - accuracy: 0.7121 - val_loss: 0.5236 - val_accuracy: 0.7394\n",
      "Epoch 4/10\n",
      "29/29 [==============================] - 4s 127ms/step - loss: 0.4984 - accuracy: 0.7607 - val_loss: 0.4858 - val_accuracy: 0.7650\n",
      "Epoch 5/10\n",
      "29/29 [==============================] - 4s 127ms/step - loss: 0.4530 - accuracy: 0.7907 - val_loss: 0.4541 - val_accuracy: 0.7879\n",
      "Epoch 6/10\n",
      "29/29 [==============================] - 4s 128ms/step - loss: 0.4135 - accuracy: 0.8151 - val_loss: 0.4370 - val_accuracy: 0.7976\n",
      "Epoch 7/10\n",
      "29/29 [==============================] - 4s 127ms/step - loss: 0.3844 - accuracy: 0.8302 - val_loss: 0.4222 - val_accuracy: 0.8071\n",
      "Epoch 8/10\n",
      "29/29 [==============================] - 4s 129ms/step - loss: 0.3556 - accuracy: 0.8465 - val_loss: 0.4130 - val_accuracy: 0.8130\n",
      "Epoch 9/10\n",
      "29/29 [==============================] - 4s 127ms/step - loss: 0.3256 - accuracy: 0.8622 - val_loss: 0.4120 - val_accuracy: 0.8136\n",
      "Epoch 10/10\n",
      "29/29 [==============================] - 4s 127ms/step - loss: 0.3050 - accuracy: 0.8731 - val_loss: 0.4108 - val_accuracy: 0.8162\n"
     ]
    }
   ],
   "source": [
    "# CNN 모델\n",
    "model_CNN.compile(optimizer='adam',\n",
    "              loss='binary_crossentropy',\n",
    "              metrics=['accuracy'])\n",
    "              \n",
    "epochs = 10  \n",
    "\n",
    "history = model_CNN.fit(partial_X_train,\n",
    "                    partial_y_train,\n",
    "                    epochs=epochs,\n",
    "                    batch_size=4086,\n",
    "                    validation_data=(X_val, y_val),\n",
    "                    verbose=1)"
   ]
  },
  {
   "cell_type": "code",
   "execution_count": 52,
   "id": "multiple-instruction",
   "metadata": {
    "scrolled": true
   },
   "outputs": [
    {
     "name": "stdout",
     "output_type": "stream",
     "text": [
      "Epoch 1/10\n",
      "29/29 [==============================] - 10s 280ms/step - loss: 0.6231 - accuracy: 0.6424 - val_loss: 0.5118 - val_accuracy: 0.7456\n",
      "Epoch 2/10\n",
      "29/29 [==============================] - 7s 256ms/step - loss: 0.4802 - accuracy: 0.7694 - val_loss: 0.4301 - val_accuracy: 0.7981\n",
      "Epoch 3/10\n",
      "29/29 [==============================] - 7s 258ms/step - loss: 0.4040 - accuracy: 0.8169 - val_loss: 0.3824 - val_accuracy: 0.8260\n",
      "Epoch 4/10\n",
      "29/29 [==============================] - 7s 255ms/step - loss: 0.3511 - accuracy: 0.8459 - val_loss: 0.3590 - val_accuracy: 0.8406\n",
      "Epoch 5/10\n",
      "29/29 [==============================] - 7s 255ms/step - loss: 0.3151 - accuracy: 0.8664 - val_loss: 0.3554 - val_accuracy: 0.8435\n",
      "Epoch 6/10\n",
      "29/29 [==============================] - 7s 255ms/step - loss: 0.2788 - accuracy: 0.8858 - val_loss: 0.3460 - val_accuracy: 0.8498\n",
      "Epoch 7/10\n",
      "29/29 [==============================] - 7s 257ms/step - loss: 0.2516 - accuracy: 0.8987 - val_loss: 0.3553 - val_accuracy: 0.8507\n",
      "Epoch 8/10\n",
      "29/29 [==============================] - 8s 259ms/step - loss: 0.2308 - accuracy: 0.9090 - val_loss: 0.3612 - val_accuracy: 0.8525\n",
      "Epoch 9/10\n",
      "29/29 [==============================] - 7s 256ms/step - loss: 0.2051 - accuracy: 0.9215 - val_loss: 0.3669 - val_accuracy: 0.8500\n",
      "Epoch 10/10\n",
      "29/29 [==============================] - 7s 254ms/step - loss: 0.1874 - accuracy: 0.9298 - val_loss: 0.3936 - val_accuracy: 0.8486\n"
     ]
    }
   ],
   "source": [
    "# LSTM 모델\n",
    "model_LSTM.compile(optimizer='adam',\n",
    "              loss='binary_crossentropy',\n",
    "              metrics=['accuracy'])\n",
    "              \n",
    "epochs =  \n",
    "\n",
    "history = model_LSTM.fit(partial_X_train,\n",
    "                    partial_y_train,\n",
    "                    epochs=epochs,\n",
    "                    batch_size=4086,\n",
    "                    validation_data=(X_val, y_val),\n",
    "                    verbose=1)"
   ]
  },
  {
   "cell_type": "code",
   "execution_count": 53,
   "id": "compatible-enclosure",
   "metadata": {},
   "outputs": [
    {
     "name": "stdout",
     "output_type": "stream",
     "text": [
      "Epoch 1/10\n",
      "56/56 [==============================] - 5s 74ms/step - loss: 0.6705 - accuracy: 0.6845 - val_loss: 0.4891 - val_accuracy: 0.8227\n",
      "Epoch 2/10\n",
      "56/56 [==============================] - 4s 70ms/step - loss: 0.4211 - accuracy: 0.8388 - val_loss: 0.3530 - val_accuracy: 0.8443\n",
      "Epoch 3/10\n",
      "56/56 [==============================] - 4s 71ms/step - loss: 0.2998 - accuracy: 0.8780 - val_loss: 0.3419 - val_accuracy: 0.8510\n",
      "Epoch 4/10\n",
      "56/56 [==============================] - 4s 70ms/step - loss: 0.2449 - accuracy: 0.9046 - val_loss: 0.3460 - val_accuracy: 0.8523\n",
      "Epoch 5/10\n",
      "56/56 [==============================] - 4s 70ms/step - loss: 0.1990 - accuracy: 0.9271 - val_loss: 0.3586 - val_accuracy: 0.8498\n",
      "Epoch 6/10\n",
      "56/56 [==============================] - 4s 69ms/step - loss: 0.1578 - accuracy: 0.9457 - val_loss: 0.3779 - val_accuracy: 0.8481\n",
      "Epoch 7/10\n",
      "56/56 [==============================] - 4s 70ms/step - loss: 0.1218 - accuracy: 0.9621 - val_loss: 0.4033 - val_accuracy: 0.8453\n",
      "Epoch 8/10\n",
      "56/56 [==============================] - 4s 70ms/step - loss: 0.0912 - accuracy: 0.9745 - val_loss: 0.4314 - val_accuracy: 0.8426\n",
      "Epoch 9/10\n",
      "56/56 [==============================] - 4s 71ms/step - loss: 0.0687 - accuracy: 0.9823 - val_loss: 0.4587 - val_accuracy: 0.8416\n",
      "Epoch 10/10\n",
      "56/56 [==============================] - 4s 71ms/step - loss: 0.0503 - accuracy: 0.9890 - val_loss: 0.4884 - val_accuracy: 0.8388\n"
     ]
    }
   ],
   "source": [
    "# GlobalMaxPooling1D 모델\n",
    "model_GMP.compile(optimizer='adam',\n",
    "              loss='binary_crossentropy',\n",
    "              metrics=['accuracy'])\n",
    "              \n",
    "epochs = 10  \n",
    "\n",
    "history = model_GMP.fit(partial_X_train,\n",
    "                    partial_y_train,\n",
    "                    epochs=epochs,\n",
    "                    batch_size=2086,\n",
    "                    validation_data=(X_val, y_val),\n",
    "                    verbose=1)"
   ]
  },
  {
   "cell_type": "markdown",
   "id": "egyptian-sailing",
   "metadata": {},
   "source": [
    "### 5) 테스트셋을 이용한 모델 평가"
   ]
  },
  {
   "cell_type": "code",
   "execution_count": 54,
   "id": "intelligent-foster",
   "metadata": {
    "scrolled": true
   },
   "outputs": [
    {
     "name": "stdout",
     "output_type": "stream",
     "text": [
      "1537/1537 - 4s - loss: 0.4221 - accuracy: 0.8126\n",
      "[0.4220803678035736, 0.8125801086425781]\n"
     ]
    }
   ],
   "source": [
    "# CNN 모델\n",
    "results = model_CNN.evaluate(X_test,  y_test, verbose=2)\n",
    "print(results)"
   ]
  },
  {
   "cell_type": "code",
   "execution_count": 55,
   "id": "alone-owner",
   "metadata": {},
   "outputs": [
    {
     "name": "stdout",
     "output_type": "stream",
     "text": [
      "1537/1537 - 5s - loss: 0.4402 - accuracy: 0.8320\n",
      "[0.44017454981803894, 0.8320483565330505]\n"
     ]
    }
   ],
   "source": [
    "# LSTM 모델\n",
    "results = model_LSTM.evaluate(X_test,  y_test, verbose=2)\n",
    "print(results)"
   ]
  },
  {
   "cell_type": "code",
   "execution_count": 56,
   "id": "russian-johns",
   "metadata": {},
   "outputs": [
    {
     "name": "stdout",
     "output_type": "stream",
     "text": [
      "1537/1537 - 2s - loss: 0.5007 - accuracy: 0.8330\n",
      "[0.500729501247406, 0.8330451250076294]\n"
     ]
    }
   ],
   "source": [
    "# GlobalMaxPooling1D 모델\n",
    "results = model_GMP.evaluate(X_test,  y_test, verbose=2)\n",
    "\n",
    "print(results)"
   ]
  },
  {
   "cell_type": "markdown",
   "id": "brown-proof",
   "metadata": {},
   "source": [
    "## 9. 결과 및 회고"
   ]
  },
  {
   "cell_type": "markdown",
   "id": "fantastic-fourth",
   "metadata": {},
   "source": [
    "#### * 결과\n",
    "    * cnn 모델 : accuracy -> 0.8126\n",
    "    * LSTM 모델 : accuracy -> 0.8320\n",
    "    * GlobalMaxPooling1D 모델 : accuracy -> 0.8330\n",
    "\n",
    "#### * 회고\n",
    "모델 accuracy 값이 0.85 이상의 점수가 나오지 않아 0.83~4에서 최종 마무리하였다.     \n",
    "다양한 전처리 방법과, 모델 그래프 시각화를 통한 하이퍼 파라미터 적용 방법을 찾아봐야겠다.    \n",
    "[참고] https://wikidocs.net/44249"
   ]
  }
 ],
 "metadata": {
  "kernelspec": {
   "display_name": "Python 3",
   "language": "python",
   "name": "python3"
  }
 },
 "nbformat": 4,
 "nbformat_minor": 5
}
