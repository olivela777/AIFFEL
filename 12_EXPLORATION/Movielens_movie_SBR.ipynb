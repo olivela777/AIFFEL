{
 "cells": [
  {
   "cell_type": "markdown",
   "id": "streaming-merchandise",
   "metadata": {},
   "source": [
    "# [EX12] Movielens 영화 SBR"
   ]
  },
  {
   "cell_type": "markdown",
   "id": "fantastic-george",
   "metadata": {},
   "source": [
    "### 목차\n",
    "1. 데이터의 전처리      \n",
    "    1) Data Load       \n",
    "    2) Session Length       \n",
    "    3) session time       \n",
    "    4) Rating score      \n",
    "    5) Data Cleansing    \n",
    "2. 미니 배치의 구성\n",
    "3. 모델 구성\n",
    "4. 모델 학습\n",
    "5. 모델 테스트(1)\n",
    "6. 모델 테스트(2)\n",
    "7. 모델 테스트(3)\n",
    "8. 결과"
   ]
  },
  {
   "cell_type": "markdown",
   "id": "demonstrated-unknown",
   "metadata": {},
   "source": [
    "## 1. 데이터의 전처리"
   ]
  },
  {
   "cell_type": "markdown",
   "id": "female-button",
   "metadata": {},
   "source": [
    "### 1) Data Load"
   ]
  },
  {
   "cell_type": "code",
   "execution_count": 1,
   "id": "short-display",
   "metadata": {},
   "outputs": [],
   "source": [
    "import datetime as dt\n",
    "from pathlib import Path\n",
    "import os\n",
    "\n",
    "import numpy as np\n",
    "import pandas as pd\n",
    "import warnings\n",
    "warnings.filterwarnings('ignore')"
   ]
  },
  {
   "cell_type": "code",
   "execution_count": 2,
   "id": "endangered-emperor",
   "metadata": {},
   "outputs": [
    {
     "data": {
      "text/html": [
       "<div>\n",
       "<style scoped>\n",
       "    .dataframe tbody tr th:only-of-type {\n",
       "        vertical-align: middle;\n",
       "    }\n",
       "\n",
       "    .dataframe tbody tr th {\n",
       "        vertical-align: top;\n",
       "    }\n",
       "\n",
       "    .dataframe thead th {\n",
       "        text-align: right;\n",
       "    }\n",
       "</style>\n",
       "<table border=\"1\" class=\"dataframe\">\n",
       "  <thead>\n",
       "    <tr style=\"text-align: right;\">\n",
       "      <th></th>\n",
       "      <th>UserId</th>\n",
       "      <th>ItemId</th>\n",
       "      <th>Rating</th>\n",
       "      <th>Time</th>\n",
       "    </tr>\n",
       "  </thead>\n",
       "  <tbody>\n",
       "    <tr>\n",
       "      <th>31</th>\n",
       "      <td>1</td>\n",
       "      <td>3186</td>\n",
       "      <td>4</td>\n",
       "      <td>978300019</td>\n",
       "    </tr>\n",
       "    <tr>\n",
       "      <th>22</th>\n",
       "      <td>1</td>\n",
       "      <td>1270</td>\n",
       "      <td>5</td>\n",
       "      <td>978300055</td>\n",
       "    </tr>\n",
       "    <tr>\n",
       "      <th>27</th>\n",
       "      <td>1</td>\n",
       "      <td>1721</td>\n",
       "      <td>4</td>\n",
       "      <td>978300055</td>\n",
       "    </tr>\n",
       "    <tr>\n",
       "      <th>37</th>\n",
       "      <td>1</td>\n",
       "      <td>1022</td>\n",
       "      <td>5</td>\n",
       "      <td>978300055</td>\n",
       "    </tr>\n",
       "    <tr>\n",
       "      <th>24</th>\n",
       "      <td>1</td>\n",
       "      <td>2340</td>\n",
       "      <td>3</td>\n",
       "      <td>978300103</td>\n",
       "    </tr>\n",
       "    <tr>\n",
       "      <th>...</th>\n",
       "      <td>...</td>\n",
       "      <td>...</td>\n",
       "      <td>...</td>\n",
       "      <td>...</td>\n",
       "    </tr>\n",
       "    <tr>\n",
       "      <th>1000019</th>\n",
       "      <td>6040</td>\n",
       "      <td>2917</td>\n",
       "      <td>4</td>\n",
       "      <td>997454429</td>\n",
       "    </tr>\n",
       "    <tr>\n",
       "      <th>999988</th>\n",
       "      <td>6040</td>\n",
       "      <td>1921</td>\n",
       "      <td>4</td>\n",
       "      <td>997454464</td>\n",
       "    </tr>\n",
       "    <tr>\n",
       "      <th>1000172</th>\n",
       "      <td>6040</td>\n",
       "      <td>1784</td>\n",
       "      <td>3</td>\n",
       "      <td>997454464</td>\n",
       "    </tr>\n",
       "    <tr>\n",
       "      <th>1000167</th>\n",
       "      <td>6040</td>\n",
       "      <td>161</td>\n",
       "      <td>3</td>\n",
       "      <td>997454486</td>\n",
       "    </tr>\n",
       "    <tr>\n",
       "      <th>1000042</th>\n",
       "      <td>6040</td>\n",
       "      <td>1221</td>\n",
       "      <td>4</td>\n",
       "      <td>998315055</td>\n",
       "    </tr>\n",
       "  </tbody>\n",
       "</table>\n",
       "<p>1000209 rows × 4 columns</p>\n",
       "</div>"
      ],
      "text/plain": [
       "         UserId  ItemId  Rating       Time\n",
       "31            1    3186       4  978300019\n",
       "22            1    1270       5  978300055\n",
       "27            1    1721       4  978300055\n",
       "37            1    1022       5  978300055\n",
       "24            1    2340       3  978300103\n",
       "...         ...     ...     ...        ...\n",
       "1000019    6040    2917       4  997454429\n",
       "999988     6040    1921       4  997454464\n",
       "1000172    6040    1784       3  997454464\n",
       "1000167    6040     161       3  997454486\n",
       "1000042    6040    1221       4  998315055\n",
       "\n",
       "[1000209 rows x 4 columns]"
      ]
     },
     "execution_count": 2,
     "metadata": {},
     "output_type": "execute_result"
    }
   ],
   "source": [
    "data_path = Path(os.getenv('HOME')+'/aiffel/yoochoose/data/') \n",
    "train_path = data_path / 'ratings.dat'\n",
    "\n",
    "def load_data(data_path: Path, nrows=None):\n",
    "    data = pd.read_csv(data_path, sep='::', header=None, usecols=[0, 1, 2, 3], dtype={0: np.int32, 1: np.int32, 2: np.int32}, nrows=nrows)\n",
    "    data.columns = ['UserId', 'ItemId', 'Rating', 'Time']\n",
    "    return data\n",
    "\n",
    "data = load_data(train_path, None)\n",
    "data.sort_values(['UserId', 'Time'], inplace=True)  # data를 id와 시간 순서로 정렬해줍니다.\n",
    "data"
   ]
  },
  {
   "cell_type": "code",
   "execution_count": 3,
   "id": "finite-communication",
   "metadata": {},
   "outputs": [
    {
     "data": {
      "text/plain": [
       "(6040, 3706, 5)"
      ]
     },
     "execution_count": 3,
     "metadata": {},
     "output_type": "execute_result"
    }
   ],
   "source": [
    "# 유저id 수, 영화 수\n",
    "data['UserId'].nunique(), data['ItemId'].nunique(), data['Rating'].nunique()"
   ]
  },
  {
   "cell_type": "markdown",
   "id": "perceived-sequence",
   "metadata": {},
   "source": [
    "### 2) Session Length"
   ]
  },
  {
   "cell_type": "code",
   "execution_count": 4,
   "id": "interim-speed",
   "metadata": {},
   "outputs": [
    {
     "data": {
      "text/plain": [
       "UserId\n",
       "1        53\n",
       "2       129\n",
       "3        51\n",
       "4        21\n",
       "5       198\n",
       "       ... \n",
       "6036    888\n",
       "6037    202\n",
       "6038     20\n",
       "6039    123\n",
       "6040    341\n",
       "Length: 6040, dtype: int64"
      ]
     },
     "execution_count": 4,
     "metadata": {},
     "output_type": "execute_result"
    }
   ],
   "source": [
    "# 각 유저별 영화를 보고 리뷰를 남긴 개수\n",
    "user_length = data.groupby('UserId').size()\n",
    "user_length"
   ]
  },
  {
   "cell_type": "code",
   "execution_count": 5,
   "id": "similar-engineer",
   "metadata": {},
   "outputs": [
    {
     "data": {
      "text/plain": [
       "(96.0, 165.5975165562914)"
      ]
     },
     "execution_count": 5,
     "metadata": {},
     "output_type": "execute_result"
    }
   ],
   "source": [
    "# 한 유저당 리뷰 수 중간 값, 리뷰 평균 값 \n",
    "user_length.median(), user_length.mean()"
   ]
  },
  {
   "cell_type": "code",
   "execution_count": 6,
   "id": "confirmed-motel",
   "metadata": {},
   "outputs": [
    {
     "data": {
      "text/plain": [
       "(20, 2314)"
      ]
     },
     "execution_count": 6,
     "metadata": {},
     "output_type": "execute_result"
    }
   ],
   "source": [
    "# 가장 적은 리뷰 수, 가장 많은 리뷰 수\n",
    "user_length.min(), user_length.max()"
   ]
  },
  {
   "cell_type": "code",
   "execution_count": 7,
   "id": "deadly-diamond",
   "metadata": {},
   "outputs": [
    {
     "data": {
      "text/plain": [
       "1343.181000000005"
      ]
     },
     "execution_count": 7,
     "metadata": {},
     "output_type": "execute_result"
    }
   ],
   "source": [
    "# 99.9% 유저들의 이하 리뷰 수를 가짐\n",
    "user_length.quantile(0.999)  "
   ]
  },
  {
   "cell_type": "code",
   "execution_count": 8,
   "id": "blond-repository",
   "metadata": {},
   "outputs": [
    {
     "data": {
      "text/html": [
       "<div>\n",
       "<style scoped>\n",
       "    .dataframe tbody tr th:only-of-type {\n",
       "        vertical-align: middle;\n",
       "    }\n",
       "\n",
       "    .dataframe tbody tr th {\n",
       "        vertical-align: top;\n",
       "    }\n",
       "\n",
       "    .dataframe thead th {\n",
       "        text-align: right;\n",
       "    }\n",
       "</style>\n",
       "<table border=\"1\" class=\"dataframe\">\n",
       "  <thead>\n",
       "    <tr style=\"text-align: right;\">\n",
       "      <th></th>\n",
       "      <th>UserId</th>\n",
       "      <th>ItemId</th>\n",
       "      <th>Rating</th>\n",
       "      <th>Time</th>\n",
       "    </tr>\n",
       "  </thead>\n",
       "  <tbody>\n",
       "    <tr>\n",
       "      <th>696969</th>\n",
       "      <td>4169</td>\n",
       "      <td>1268</td>\n",
       "      <td>5</td>\n",
       "      <td>965333392</td>\n",
       "    </tr>\n",
       "    <tr>\n",
       "      <th>697168</th>\n",
       "      <td>4169</td>\n",
       "      <td>2617</td>\n",
       "      <td>4</td>\n",
       "      <td>965333392</td>\n",
       "    </tr>\n",
       "    <tr>\n",
       "      <th>697185</th>\n",
       "      <td>4169</td>\n",
       "      <td>2628</td>\n",
       "      <td>4</td>\n",
       "      <td>965333392</td>\n",
       "    </tr>\n",
       "    <tr>\n",
       "      <th>697219</th>\n",
       "      <td>4169</td>\n",
       "      <td>2653</td>\n",
       "      <td>4</td>\n",
       "      <td>965333392</td>\n",
       "    </tr>\n",
       "    <tr>\n",
       "      <th>697275</th>\n",
       "      <td>4169</td>\n",
       "      <td>423</td>\n",
       "      <td>3</td>\n",
       "      <td>965333392</td>\n",
       "    </tr>\n",
       "    <tr>\n",
       "      <th>...</th>\n",
       "      <td>...</td>\n",
       "      <td>...</td>\n",
       "      <td>...</td>\n",
       "      <td>...</td>\n",
       "    </tr>\n",
       "    <tr>\n",
       "      <th>697882</th>\n",
       "      <td>4169</td>\n",
       "      <td>3754</td>\n",
       "      <td>2</td>\n",
       "      <td>1024174347</td>\n",
       "    </tr>\n",
       "    <tr>\n",
       "      <th>695702</th>\n",
       "      <td>4169</td>\n",
       "      <td>1413</td>\n",
       "      <td>3</td>\n",
       "      <td>1024175031</td>\n",
       "    </tr>\n",
       "    <tr>\n",
       "      <th>697358</th>\n",
       "      <td>4169</td>\n",
       "      <td>494</td>\n",
       "      <td>4</td>\n",
       "      <td>1024175760</td>\n",
       "    </tr>\n",
       "    <tr>\n",
       "      <th>695945</th>\n",
       "      <td>4169</td>\n",
       "      <td>1804</td>\n",
       "      <td>2</td>\n",
       "      <td>1024175783</td>\n",
       "    </tr>\n",
       "    <tr>\n",
       "      <th>696446</th>\n",
       "      <td>4169</td>\n",
       "      <td>1548</td>\n",
       "      <td>3</td>\n",
       "      <td>1024176337</td>\n",
       "    </tr>\n",
       "  </tbody>\n",
       "</table>\n",
       "<p>2314 rows × 4 columns</p>\n",
       "</div>"
      ],
      "text/plain": [
       "        UserId  ItemId  Rating        Time\n",
       "696969    4169    1268       5   965333392\n",
       "697168    4169    2617       4   965333392\n",
       "697185    4169    2628       4   965333392\n",
       "697219    4169    2653       4   965333392\n",
       "697275    4169     423       3   965333392\n",
       "...        ...     ...     ...         ...\n",
       "697882    4169    3754       2  1024174347\n",
       "695702    4169    1413       3  1024175031\n",
       "697358    4169     494       4  1024175760\n",
       "695945    4169    1804       2  1024175783\n",
       "696446    4169    1548       3  1024176337\n",
       "\n",
       "[2314 rows x 4 columns]"
      ]
     },
     "execution_count": 8,
     "metadata": {},
     "output_type": "execute_result"
    }
   ],
   "source": [
    "long_rating = user_length[user_length == 2314].index[0]\n",
    "data[data['UserId']==long_rating]"
   ]
  },
  {
   "cell_type": "code",
   "execution_count": 9,
   "id": "promising-poverty",
   "metadata": {},
   "outputs": [
    {
     "data": {
      "text/plain": [
       "20      0.014238\n",
       "21      0.029305\n",
       "22      0.042053\n",
       "23      0.055464\n",
       "24      0.068874\n",
       "          ...   \n",
       "1271    0.998179\n",
       "1277    0.998344\n",
       "1286    0.998510\n",
       "1302    0.998675\n",
       "1323    0.998841\n",
       "Length: 736, dtype: float64"
      ]
     },
     "execution_count": 9,
     "metadata": {},
     "output_type": "execute_result"
    }
   ],
   "source": [
    "# 길이 기준 하위 99.9%까지의 분포 누적합\n",
    "length_count = user_length.groupby(user_length).size()\n",
    "length_percent_cumsum = length_count.cumsum() / length_count.sum()\n",
    "length_percent_cumsum_999 = length_percent_cumsum[length_percent_cumsum < 0.999]\n",
    "\n",
    "length_percent_cumsum_999"
   ]
  },
  {
   "cell_type": "code",
   "execution_count": 10,
   "id": "hairy-money",
   "metadata": {
    "scrolled": false
   },
   "outputs": [
    {
     "data": {
      "image/png": "[encoded data removed]",
      "text/plain": [
       "<Figure size 1440x720 with 1 Axes>"
      ]
     },
     "metadata": {
      "needs_background": "light"
     },
     "output_type": "display_data"
    }
   ],
   "source": [
    "# 시각화\n",
    "import matplotlib.pyplot as plt\n",
    "\n",
    "plt.figure(figsize=(20, 10))\n",
    "plt.bar(x=length_percent_cumsum_999.index,\n",
    "        height=length_percent_cumsum_999, color='pink')\n",
    "plt.xticks(length_percent_cumsum_999.index)\n",
    "plt.yticks(np.arange(0, 1.01, 0.05))\n",
    "plt.title('Cumsum Percentage Until 0.999', size=20)\n",
    "plt.show()"
   ]
  },
  {
   "cell_type": "markdown",
   "id": "above-coordinator",
   "metadata": {},
   "source": [
    "### 3) session time"
   ]
  },
  {
   "cell_type": "code",
   "execution_count": 11,
   "id": "negative-folks",
   "metadata": {},
   "outputs": [],
   "source": [
    "data['Time'] = pd.to_datetime(data['Time'], unit='s')"
   ]
  },
  {
   "cell_type": "code",
   "execution_count": 12,
   "id": "final-values",
   "metadata": {},
   "outputs": [
    {
     "name": "stdout",
     "output_type": "stream",
     "text": [
      "2000-04-25 23:05:32\n",
      "2003-02-28 17:49:50\n"
     ]
    }
   ],
   "source": [
    "oldest, latest = data['Time'].min(), data['Time'].max()\n",
    "print(oldest) \n",
    "print(latest)"
   ]
  },
  {
   "cell_type": "code",
   "execution_count": 13,
   "id": "trained-lucas",
   "metadata": {},
   "outputs": [],
   "source": [
    "data['Year'] = data['Time'].dt.strftime('%Y')"
   ]
  },
  {
   "cell_type": "code",
   "execution_count": 14,
   "id": "corrected-shell",
   "metadata": {
    "scrolled": false
   },
   "outputs": [
    {
     "data": {
      "text/html": [
       "<div>\n",
       "<style scoped>\n",
       "    .dataframe tbody tr th:only-of-type {\n",
       "        vertical-align: middle;\n",
       "    }\n",
       "\n",
       "    .dataframe tbody tr th {\n",
       "        vertical-align: top;\n",
       "    }\n",
       "\n",
       "    .dataframe thead th {\n",
       "        text-align: right;\n",
       "    }\n",
       "</style>\n",
       "<table border=\"1\" class=\"dataframe\">\n",
       "  <thead>\n",
       "    <tr style=\"text-align: right;\">\n",
       "      <th></th>\n",
       "      <th>UserId</th>\n",
       "      <th>ItemId</th>\n",
       "      <th>Rating</th>\n",
       "      <th>Time</th>\n",
       "      <th>Year</th>\n",
       "    </tr>\n",
       "  </thead>\n",
       "  <tbody>\n",
       "    <tr>\n",
       "      <th>31</th>\n",
       "      <td>1</td>\n",
       "      <td>3186</td>\n",
       "      <td>4</td>\n",
       "      <td>2000-12-31 22:00:19</td>\n",
       "      <td>2000</td>\n",
       "    </tr>\n",
       "    <tr>\n",
       "      <th>22</th>\n",
       "      <td>1</td>\n",
       "      <td>1270</td>\n",
       "      <td>5</td>\n",
       "      <td>2000-12-31 22:00:55</td>\n",
       "      <td>2000</td>\n",
       "    </tr>\n",
       "    <tr>\n",
       "      <th>27</th>\n",
       "      <td>1</td>\n",
       "      <td>1721</td>\n",
       "      <td>4</td>\n",
       "      <td>2000-12-31 22:00:55</td>\n",
       "      <td>2000</td>\n",
       "    </tr>\n",
       "    <tr>\n",
       "      <th>37</th>\n",
       "      <td>1</td>\n",
       "      <td>1022</td>\n",
       "      <td>5</td>\n",
       "      <td>2000-12-31 22:00:55</td>\n",
       "      <td>2000</td>\n",
       "    </tr>\n",
       "    <tr>\n",
       "      <th>24</th>\n",
       "      <td>1</td>\n",
       "      <td>2340</td>\n",
       "      <td>3</td>\n",
       "      <td>2000-12-31 22:01:43</td>\n",
       "      <td>2000</td>\n",
       "    </tr>\n",
       "    <tr>\n",
       "      <th>...</th>\n",
       "      <td>...</td>\n",
       "      <td>...</td>\n",
       "      <td>...</td>\n",
       "      <td>...</td>\n",
       "      <td>...</td>\n",
       "    </tr>\n",
       "    <tr>\n",
       "      <th>1000019</th>\n",
       "      <td>6040</td>\n",
       "      <td>2917</td>\n",
       "      <td>4</td>\n",
       "      <td>2001-08-10 14:40:29</td>\n",
       "      <td>2001</td>\n",
       "    </tr>\n",
       "    <tr>\n",
       "      <th>999988</th>\n",
       "      <td>6040</td>\n",
       "      <td>1921</td>\n",
       "      <td>4</td>\n",
       "      <td>2001-08-10 14:41:04</td>\n",
       "      <td>2001</td>\n",
       "    </tr>\n",
       "    <tr>\n",
       "      <th>1000172</th>\n",
       "      <td>6040</td>\n",
       "      <td>1784</td>\n",
       "      <td>3</td>\n",
       "      <td>2001-08-10 14:41:04</td>\n",
       "      <td>2001</td>\n",
       "    </tr>\n",
       "    <tr>\n",
       "      <th>1000167</th>\n",
       "      <td>6040</td>\n",
       "      <td>161</td>\n",
       "      <td>3</td>\n",
       "      <td>2001-08-10 14:41:26</td>\n",
       "      <td>2001</td>\n",
       "    </tr>\n",
       "    <tr>\n",
       "      <th>1000042</th>\n",
       "      <td>6040</td>\n",
       "      <td>1221</td>\n",
       "      <td>4</td>\n",
       "      <td>2001-08-20 13:44:15</td>\n",
       "      <td>2001</td>\n",
       "    </tr>\n",
       "  </tbody>\n",
       "</table>\n",
       "<p>1000209 rows × 5 columns</p>\n",
       "</div>"
      ],
      "text/plain": [
       "         UserId  ItemId  Rating                Time  Year\n",
       "31            1    3186       4 2000-12-31 22:00:19  2000\n",
       "22            1    1270       5 2000-12-31 22:00:55  2000\n",
       "27            1    1721       4 2000-12-31 22:00:55  2000\n",
       "37            1    1022       5 2000-12-31 22:00:55  2000\n",
       "24            1    2340       3 2000-12-31 22:01:43  2000\n",
       "...         ...     ...     ...                 ...   ...\n",
       "1000019    6040    2917       4 2001-08-10 14:40:29  2001\n",
       "999988     6040    1921       4 2001-08-10 14:41:04  2001\n",
       "1000172    6040    1784       3 2001-08-10 14:41:04  2001\n",
       "1000167    6040     161       3 2001-08-10 14:41:26  2001\n",
       "1000042    6040    1221       4 2001-08-20 13:44:15  2001\n",
       "\n",
       "[1000209 rows x 5 columns]"
      ]
     },
     "execution_count": 14,
     "metadata": {},
     "output_type": "execute_result"
    }
   ],
   "source": [
    "data"
   ]
  },
  {
   "cell_type": "markdown",
   "id": "identified-jacksonville",
   "metadata": {},
   "source": [
    "### 4) Rating score"
   ]
  },
  {
   "cell_type": "code",
   "execution_count": 15,
   "id": "living-farmer",
   "metadata": {},
   "outputs": [],
   "source": [
    "y00_count = data[data['Year'].str.contains('2000')]\n",
    "y01_count = data[data['Year'].str.contains('2001')]\n",
    "y02_count = data[data['Year'].str.contains('2002')]\n",
    "y03_count = data[data['Year'].str.contains('2003')]"
   ]
  },
  {
   "cell_type": "code",
   "execution_count": 16,
   "id": "antique-wales",
   "metadata": {},
   "outputs": [
    {
     "data": {
      "text/plain": [
       "Rating\n",
       "1     51027\n",
       "2     96069\n",
       "3    234296\n",
       "4    314446\n",
       "5    208919\n",
       "Name: ItemId, dtype: int64"
      ]
     },
     "execution_count": 16,
     "metadata": {},
     "output_type": "execute_result"
    }
   ],
   "source": [
    "# 2000년 Rating 높은 영화 \n",
    "rating_score = y00_count.groupby('Rating')['ItemId'].count()\n",
    "rating_score"
   ]
  },
  {
   "cell_type": "code",
   "execution_count": 17,
   "id": "thrown-walnut",
   "metadata": {},
   "outputs": [
    {
     "data": {
      "text/plain": [
       "Rating\n",
       "1     3539\n",
       "2     7986\n",
       "3    19150\n",
       "4    24839\n",
       "5    12544\n",
       "Name: ItemId, dtype: int64"
      ]
     },
     "execution_count": 17,
     "metadata": {},
     "output_type": "execute_result"
    }
   ],
   "source": [
    "# 2001년 Rating 높은 영화 \n",
    "rating_score = y01_count.groupby('Rating')['ItemId'].count()\n",
    "rating_score"
   ]
  },
  {
   "cell_type": "code",
   "execution_count": 18,
   "id": "earned-express",
   "metadata": {},
   "outputs": [
    {
     "data": {
      "text/plain": [
       "Rating\n",
       "1    1356\n",
       "2    3113\n",
       "3    6898\n",
       "4    8500\n",
       "5    4179\n",
       "Name: ItemId, dtype: int64"
      ]
     },
     "execution_count": 18,
     "metadata": {},
     "output_type": "execute_result"
    }
   ],
   "source": [
    "# 2002년 Rating 높은 영화 \n",
    "rating_score = y02_count.groupby('Rating')['ItemId'].count()\n",
    "rating_score"
   ]
  },
  {
   "cell_type": "code",
   "execution_count": 19,
   "id": "collect-newsletter",
   "metadata": {},
   "outputs": [
    {
     "data": {
      "text/plain": [
       "Rating\n",
       "1     252\n",
       "2     389\n",
       "3     853\n",
       "4    1186\n",
       "5     668\n",
       "Name: ItemId, dtype: int64"
      ]
     },
     "execution_count": 19,
     "metadata": {},
     "output_type": "execute_result"
    }
   ],
   "source": [
    "# 2003년 Rating 높은 영화 \n",
    "rating_score = y03_count.groupby('Rating')['ItemId'].count()\n",
    "rating_score"
   ]
  },
  {
   "cell_type": "code",
   "execution_count": 20,
   "id": "dressed-riverside",
   "metadata": {},
   "outputs": [
    {
     "data": {
      "text/plain": [
       "1000209"
      ]
     },
     "execution_count": 20,
     "metadata": {},
     "output_type": "execute_result"
    }
   ],
   "source": [
    "orginal_data_size = len(data)\n",
    "orginal_data_size"
   ]
  },
  {
   "cell_type": "code",
   "execution_count": 21,
   "id": "polyphonic-capital",
   "metadata": {},
   "outputs": [
    {
     "name": "stdout",
     "output_type": "stream",
     "text": [
      "orginal_data_size: 1000209, filtered_data_size: 836478\n",
      "Ratio of Remaining Data is 83.63%\n"
     ]
    }
   ],
   "source": [
    "# Rating 3점 이상만 남깁니다.\n",
    "data = data[data['Rating']>=3]\n",
    "filtered_data_size = len(data)\n",
    "\n",
    "print(f'orginal_data_size: {orginal_data_size}, filtered_data_size: {filtered_data_size}')\n",
    "print(f'Ratio of Remaining Data is {filtered_data_size / orginal_data_size:.2%}')"
   ]
  },
  {
   "cell_type": "code",
   "execution_count": 22,
   "id": "damaged-psychiatry",
   "metadata": {},
   "outputs": [
    {
     "data": {
      "text/html": [
       "<div>\n",
       "<style scoped>\n",
       "    .dataframe tbody tr th:only-of-type {\n",
       "        vertical-align: middle;\n",
       "    }\n",
       "\n",
       "    .dataframe tbody tr th {\n",
       "        vertical-align: top;\n",
       "    }\n",
       "\n",
       "    .dataframe thead th {\n",
       "        text-align: right;\n",
       "    }\n",
       "</style>\n",
       "<table border=\"1\" class=\"dataframe\">\n",
       "  <thead>\n",
       "    <tr style=\"text-align: right;\">\n",
       "      <th></th>\n",
       "      <th>UserId</th>\n",
       "      <th>ItemId</th>\n",
       "      <th>Rating</th>\n",
       "      <th>Time</th>\n",
       "      <th>Year</th>\n",
       "    </tr>\n",
       "  </thead>\n",
       "  <tbody>\n",
       "  </tbody>\n",
       "</table>\n",
       "</div>"
      ],
      "text/plain": [
       "Empty DataFrame\n",
       "Columns: [UserId, ItemId, Rating, Time, Year]\n",
       "Index: []"
      ]
     },
     "execution_count": 22,
     "metadata": {},
     "output_type": "execute_result"
    }
   ],
   "source": [
    "data[data['Rating']==2]"
   ]
  },
  {
   "cell_type": "code",
   "execution_count": 23,
   "id": "southeast-theta",
   "metadata": {},
   "outputs": [
    {
     "data": {
      "text/html": [
       "<div>\n",
       "<style scoped>\n",
       "    .dataframe tbody tr th:only-of-type {\n",
       "        vertical-align: middle;\n",
       "    }\n",
       "\n",
       "    .dataframe tbody tr th {\n",
       "        vertical-align: top;\n",
       "    }\n",
       "\n",
       "    .dataframe thead th {\n",
       "        text-align: right;\n",
       "    }\n",
       "</style>\n",
       "<table border=\"1\" class=\"dataframe\">\n",
       "  <thead>\n",
       "    <tr style=\"text-align: right;\">\n",
       "      <th></th>\n",
       "      <th>UserId</th>\n",
       "      <th>ItemId</th>\n",
       "      <th>Rating</th>\n",
       "      <th>Time</th>\n",
       "      <th>Year</th>\n",
       "    </tr>\n",
       "  </thead>\n",
       "  <tbody>\n",
       "  </tbody>\n",
       "</table>\n",
       "</div>"
      ],
      "text/plain": [
       "Empty DataFrame\n",
       "Columns: [UserId, ItemId, Rating, Time, Year]\n",
       "Index: []"
      ]
     },
     "execution_count": 23,
     "metadata": {},
     "output_type": "execute_result"
    }
   ],
   "source": [
    "data[data['Rating']==1]"
   ]
  },
  {
   "cell_type": "markdown",
   "id": "mounted-freeze",
   "metadata": {},
   "source": [
    "### 5) Data Cleansing"
   ]
  },
  {
   "cell_type": "code",
   "execution_count": 24,
   "id": "thermal-pizza",
   "metadata": {},
   "outputs": [
    {
     "data": {
      "image/png": "[encoded data removed]",
      "text/plain": [
       "<Figure size 720x432 with 1 Axes>"
      ]
     },
     "metadata": {
      "needs_background": "light"
     },
     "output_type": "display_data"
    }
   ],
   "source": [
    "# 이상치 확인\n",
    "plt.figure(figsize=(10,6))\n",
    "plt.boxplot(user_length, vert=0)\n",
    "plt.show()"
   ]
  },
  {
   "cell_type": "code",
   "execution_count": 25,
   "id": "induced-lying",
   "metadata": {},
   "outputs": [],
   "source": [
    "# 너무 많은 리뷰를 가진 유저는 제거\n",
    "def cleanse_recursive(data: pd.DataFrame, longest) -> pd.DataFrame:\n",
    "    while True:\n",
    "        before_len = len(data)\n",
    "        data = cleanse_long_session(data, longest)\n",
    "        after_len = len(data)\n",
    "        if before_len == after_len:\n",
    "            break\n",
    "    return data\n",
    "\n",
    "def cleanse_long_session(data: pd.DataFrame, longest):\n",
    "    session_len = data.groupby('UserId').size()\n",
    "    session_use = session_len[session_len < longest].index\n",
    "    data = data[data['UserId'].isin(session_use)]\n",
    "    return data"
   ]
  },
  {
   "cell_type": "code",
   "execution_count": 26,
   "id": "failing-pride",
   "metadata": {},
   "outputs": [],
   "source": [
    "data = cleanse_recursive(data, 2314)"
   ]
  },
  {
   "cell_type": "code",
   "execution_count": 27,
   "id": "disturbed-petroleum",
   "metadata": {},
   "outputs": [],
   "source": [
    "user_length = data.groupby('UserId').size()"
   ]
  },
  {
   "cell_type": "code",
   "execution_count": 28,
   "id": "lonely-texas",
   "metadata": {
    "scrolled": false
   },
   "outputs": [
    {
     "data": {
      "image/png": "[encoded data removed]",
      "text/plain": [
       "<Figure size 720x432 with 1 Axes>"
      ]
     },
     "metadata": {
      "needs_background": "light"
     },
     "output_type": "display_data"
    }
   ],
   "source": [
    "# 이상치 제거\n",
    "plt.figure(figsize=(10,6))\n",
    "plt.boxplot(user_length, vert=0)\n",
    "plt.show()"
   ]
  },
  {
   "cell_type": "code",
   "execution_count": 29,
   "id": "acting-consideration",
   "metadata": {},
   "outputs": [
    {
     "data": {
      "text/html": [
       "<div>\n",
       "<style scoped>\n",
       "    .dataframe tbody tr th:only-of-type {\n",
       "        vertical-align: middle;\n",
       "    }\n",
       "\n",
       "    .dataframe tbody tr th {\n",
       "        vertical-align: top;\n",
       "    }\n",
       "\n",
       "    .dataframe thead th {\n",
       "        text-align: right;\n",
       "    }\n",
       "</style>\n",
       "<table border=\"1\" class=\"dataframe\">\n",
       "  <thead>\n",
       "    <tr style=\"text-align: right;\">\n",
       "      <th></th>\n",
       "      <th>UserId</th>\n",
       "      <th>ItemId</th>\n",
       "      <th>Rating</th>\n",
       "      <th>Time</th>\n",
       "      <th>Year</th>\n",
       "    </tr>\n",
       "  </thead>\n",
       "  <tbody>\n",
       "    <tr>\n",
       "      <th>31</th>\n",
       "      <td>1</td>\n",
       "      <td>3186</td>\n",
       "      <td>4</td>\n",
       "      <td>2000-12-31 22:00:19</td>\n",
       "      <td>2000</td>\n",
       "    </tr>\n",
       "    <tr>\n",
       "      <th>22</th>\n",
       "      <td>1</td>\n",
       "      <td>1270</td>\n",
       "      <td>5</td>\n",
       "      <td>2000-12-31 22:00:55</td>\n",
       "      <td>2000</td>\n",
       "    </tr>\n",
       "    <tr>\n",
       "      <th>27</th>\n",
       "      <td>1</td>\n",
       "      <td>1721</td>\n",
       "      <td>4</td>\n",
       "      <td>2000-12-31 22:00:55</td>\n",
       "      <td>2000</td>\n",
       "    </tr>\n",
       "    <tr>\n",
       "      <th>37</th>\n",
       "      <td>1</td>\n",
       "      <td>1022</td>\n",
       "      <td>5</td>\n",
       "      <td>2000-12-31 22:00:55</td>\n",
       "      <td>2000</td>\n",
       "    </tr>\n",
       "    <tr>\n",
       "      <th>24</th>\n",
       "      <td>1</td>\n",
       "      <td>2340</td>\n",
       "      <td>3</td>\n",
       "      <td>2000-12-31 22:01:43</td>\n",
       "      <td>2000</td>\n",
       "    </tr>\n",
       "    <tr>\n",
       "      <th>...</th>\n",
       "      <td>...</td>\n",
       "      <td>...</td>\n",
       "      <td>...</td>\n",
       "      <td>...</td>\n",
       "      <td>...</td>\n",
       "    </tr>\n",
       "    <tr>\n",
       "      <th>1000019</th>\n",
       "      <td>6040</td>\n",
       "      <td>2917</td>\n",
       "      <td>4</td>\n",
       "      <td>2001-08-10 14:40:29</td>\n",
       "      <td>2001</td>\n",
       "    </tr>\n",
       "    <tr>\n",
       "      <th>999988</th>\n",
       "      <td>6040</td>\n",
       "      <td>1921</td>\n",
       "      <td>4</td>\n",
       "      <td>2001-08-10 14:41:04</td>\n",
       "      <td>2001</td>\n",
       "    </tr>\n",
       "    <tr>\n",
       "      <th>1000172</th>\n",
       "      <td>6040</td>\n",
       "      <td>1784</td>\n",
       "      <td>3</td>\n",
       "      <td>2001-08-10 14:41:04</td>\n",
       "      <td>2001</td>\n",
       "    </tr>\n",
       "    <tr>\n",
       "      <th>1000167</th>\n",
       "      <td>6040</td>\n",
       "      <td>161</td>\n",
       "      <td>3</td>\n",
       "      <td>2001-08-10 14:41:26</td>\n",
       "      <td>2001</td>\n",
       "    </tr>\n",
       "    <tr>\n",
       "      <th>1000042</th>\n",
       "      <td>6040</td>\n",
       "      <td>1221</td>\n",
       "      <td>4</td>\n",
       "      <td>2001-08-20 13:44:15</td>\n",
       "      <td>2001</td>\n",
       "    </tr>\n",
       "  </tbody>\n",
       "</table>\n",
       "<p>836478 rows × 5 columns</p>\n",
       "</div>"
      ],
      "text/plain": [
       "         UserId  ItemId  Rating                Time  Year\n",
       "31            1    3186       4 2000-12-31 22:00:19  2000\n",
       "22            1    1270       5 2000-12-31 22:00:55  2000\n",
       "27            1    1721       4 2000-12-31 22:00:55  2000\n",
       "37            1    1022       5 2000-12-31 22:00:55  2000\n",
       "24            1    2340       3 2000-12-31 22:01:43  2000\n",
       "...         ...     ...     ...                 ...   ...\n",
       "1000019    6040    2917       4 2001-08-10 14:40:29  2001\n",
       "999988     6040    1921       4 2001-08-10 14:41:04  2001\n",
       "1000172    6040    1784       3 2001-08-10 14:41:04  2001\n",
       "1000167    6040     161       3 2001-08-10 14:41:26  2001\n",
       "1000042    6040    1221       4 2001-08-20 13:44:15  2001\n",
       "\n",
       "[836478 rows x 5 columns]"
      ]
     },
     "execution_count": 29,
     "metadata": {},
     "output_type": "execute_result"
    }
   ],
   "source": [
    "data"
   ]
  },
  {
   "cell_type": "markdown",
   "id": "wrong-independence",
   "metadata": {},
   "source": [
    "### 6) Train / Valid / Test split"
   ]
  },
  {
   "cell_type": "code",
   "execution_count": 30,
   "id": "metallic-institute",
   "metadata": {},
   "outputs": [
    {
     "data": {
      "text/plain": [
       "<AxesSubplot:>"
      ]
     },
     "execution_count": 30,
     "metadata": {},
     "output_type": "execute_result"
    },
    {
     "data": {
      "image/png": "[encoded data removed]",
      "text/plain": [
       "<Figure size 360x144 with 3 Axes>"
      ]
     },
     "metadata": {
      "needs_background": "light"
     },
     "output_type": "display_data"
    }
   ],
   "source": [
    "# 결측치 확인\n",
    "import missingno as msno\n",
    "msno.bar(data.iloc[:, :], color=(0.1, 0.6, 0.8), figsize=(5,2))"
   ]
  },
  {
   "cell_type": "code",
   "execution_count": 31,
   "id": "congressional-dividend",
   "metadata": {},
   "outputs": [],
   "source": [
    "def split_by_date(data: pd.DataFrame, n_days: int):\n",
    "    final_time = data['Time'].max()\n",
    "    session_last_time = data.groupby('UserId')['Time'].max()\n",
    "    session_in_train = session_last_time[session_last_time < final_time - dt.timedelta(n_days)].index\n",
    "    session_in_test = session_last_time[session_last_time >= final_time - dt.timedelta(n_days)].index\n",
    "\n",
    "    before_date = data[data['UserId'].isin(session_in_train)]\n",
    "    after_date = data[data['UserId'].isin(session_in_test)]\n",
    "    after_date = after_date[after_date['ItemId'].isin(before_date['ItemId'])]\n",
    "    return before_date, after_date"
   ]
  },
  {
   "cell_type": "code",
   "execution_count": 32,
   "id": "severe-trunk",
   "metadata": {},
   "outputs": [],
   "source": [
    "train, test = split_by_date(data, n_days= 420)\n",
    "train, val = split_by_date(train, n_days= 240)"
   ]
  },
  {
   "cell_type": "code",
   "execution_count": 33,
   "id": "dependent-minneapolis",
   "metadata": {},
   "outputs": [],
   "source": [
    "# data에 대한 정보를 살펴봅니다.\n",
    "def stats_info(data: pd.DataFrame, status: str):\n",
    "    print(f'* {status} Set Stats Info\\n'\n",
    "          f'\\t Events: {len(data)}\\n'\n",
    "          f'\\t Sessions: {data[\"UserId\"].nunique()}\\n'\n",
    "          f'\\t Items: {data[\"ItemId\"].nunique()}\\n'\n",
    "          f'\\t First Time : {data[\"Time\"].min()}\\n'\n",
    "          f'\\t Last Time : {data[\"Time\"].max()}\\n')"
   ]
  },
  {
   "cell_type": "code",
   "execution_count": 34,
   "id": "facial-inspection",
   "metadata": {},
   "outputs": [
    {
     "name": "stdout",
     "output_type": "stream",
     "text": [
      "* train Set Stats Info\n",
      "\t Events: 595234\n",
      "\t Sessions: 5168\n",
      "\t Items: 3556\n",
      "\t First Time : 2000-04-25 23:25:58\n",
      "\t Last Time : 2001-05-08 14:36:33\n",
      "\n",
      "* valid Set Stats Info\n",
      "\t Events: 61953\n",
      "\t Sessions: 297\n",
      "\t Items: 3072\n",
      "\t First Time : 2000-04-25 23:05:32\n",
      "\t Last Time : 2002-01-03 23:33:46\n",
      "\n",
      "* test Set Stats Info\n",
      "\t Events: 179190\n",
      "\t Sessions: 574\n",
      "\t Items: 3381\n",
      "\t First Time : 2000-04-27 01:55:48\n",
      "\t Last Time : 2003-02-28 17:49:50\n",
      "\n"
     ]
    }
   ],
   "source": [
    "stats_info(train, 'train')\n",
    "stats_info(val, 'valid')\n",
    "stats_info(test, 'test')"
   ]
  },
  {
   "cell_type": "code",
   "execution_count": 37,
   "id": "invalid-eight",
   "metadata": {},
   "outputs": [],
   "source": [
    "# train set에 없는 아이템이 val, test기간에 생길 수 있으므로 train data를 기준으로 인덱싱합니다.\n",
    "id2idx = {item_id : index for index, item_id in enumerate(train['ItemId'].unique())}\n",
    "\n",
    "def indexing(df, id2idx):\n",
    "    df['item_idx'] = df['ItemId'].map(lambda x: id2idx.get(x, -1))  # id2idx에 없는 아이템은 모르는 값(-1) 처리 해줍니다.\n",
    "    return df\n",
    "\n",
    "train = indexing(train, id2idx)\n",
    "val = indexing(val, id2idx)\n",
    "test = indexing(test, id2idx)"
   ]
  },
  {
   "cell_type": "code",
   "execution_count": 38,
   "id": "animal-marketplace",
   "metadata": {},
   "outputs": [],
   "source": [
    "save_path = data_path / 'processed'\n",
    "save_path.mkdir(parents=True, exist_ok=True)\n",
    "\n",
    "train.to_pickle(save_path / 'train.pkl')\n",
    "val.to_pickle(save_path / 'val.pkl')\n",
    "test.to_pickle(save_path / 'test.pkl')"
   ]
  },
  {
   "cell_type": "markdown",
   "id": "exact-numbers",
   "metadata": {},
   "source": [
    "## 2. 미니 배치의 구성"
   ]
  },
  {
   "cell_type": "code",
   "execution_count": 39,
   "id": "conventional-transfer",
   "metadata": {},
   "outputs": [],
   "source": [
    "# 데이터가 주어지면 세션이 시작되는 인덱스를 담는 값과 세션을 새로 인덱싱한 값을 갖는 클래스를 만듭니다.\n",
    "class SessionDataset:\n",
    "    \"\"\"Credit to yhs-968/pyGRU4REC.\"\"\"\n",
    "    \n",
    "    def __init__(self, data):\n",
    "        self.df = data\n",
    "        self.click_offsets = self.get_click_offsets()     # 각 세션이 시작된 인덱스를 가진 변수\n",
    "        self.session_idx = np.arange(self.df['UserId'].nunique())  # indexing to SessionId\n",
    "    \n",
    "    def get_click_offsets(self):\n",
    "        \"\"\"\n",
    "        Return the indexes of the first click of each session IDs,\n",
    "        \"\"\"\n",
    "        offsets = np.zeros(self.df['UserId'].nunique() + 1, dtype=np.int32)\n",
    "        offsets[1:] = self.df.groupby('UserId').size().cumsum()\n",
    "        return offsets"
   ]
  },
  {
   "cell_type": "code",
   "execution_count": 40,
   "id": "progressive-invalid",
   "metadata": {},
   "outputs": [
    {
     "data": {
      "text/html": [
       "<div>\n",
       "<style scoped>\n",
       "    .dataframe tbody tr th:only-of-type {\n",
       "        vertical-align: middle;\n",
       "    }\n",
       "\n",
       "    .dataframe tbody tr th {\n",
       "        vertical-align: top;\n",
       "    }\n",
       "\n",
       "    .dataframe thead th {\n",
       "        text-align: right;\n",
       "    }\n",
       "</style>\n",
       "<table border=\"1\" class=\"dataframe\">\n",
       "  <thead>\n",
       "    <tr style=\"text-align: right;\">\n",
       "      <th></th>\n",
       "      <th>UserId</th>\n",
       "      <th>ItemId</th>\n",
       "      <th>Rating</th>\n",
       "      <th>Time</th>\n",
       "      <th>Year</th>\n",
       "      <th>item_idx</th>\n",
       "    </tr>\n",
       "  </thead>\n",
       "  <tbody>\n",
       "    <tr>\n",
       "      <th>31</th>\n",
       "      <td>1</td>\n",
       "      <td>3186</td>\n",
       "      <td>4</td>\n",
       "      <td>2000-12-31 22:00:19</td>\n",
       "      <td>2000</td>\n",
       "      <td>0</td>\n",
       "    </tr>\n",
       "    <tr>\n",
       "      <th>22</th>\n",
       "      <td>1</td>\n",
       "      <td>1270</td>\n",
       "      <td>5</td>\n",
       "      <td>2000-12-31 22:00:55</td>\n",
       "      <td>2000</td>\n",
       "      <td>1</td>\n",
       "    </tr>\n",
       "    <tr>\n",
       "      <th>27</th>\n",
       "      <td>1</td>\n",
       "      <td>1721</td>\n",
       "      <td>4</td>\n",
       "      <td>2000-12-31 22:00:55</td>\n",
       "      <td>2000</td>\n",
       "      <td>2</td>\n",
       "    </tr>\n",
       "    <tr>\n",
       "      <th>37</th>\n",
       "      <td>1</td>\n",
       "      <td>1022</td>\n",
       "      <td>5</td>\n",
       "      <td>2000-12-31 22:00:55</td>\n",
       "      <td>2000</td>\n",
       "      <td>3</td>\n",
       "    </tr>\n",
       "    <tr>\n",
       "      <th>24</th>\n",
       "      <td>1</td>\n",
       "      <td>2340</td>\n",
       "      <td>3</td>\n",
       "      <td>2000-12-31 22:01:43</td>\n",
       "      <td>2000</td>\n",
       "      <td>4</td>\n",
       "    </tr>\n",
       "    <tr>\n",
       "      <th>36</th>\n",
       "      <td>1</td>\n",
       "      <td>1836</td>\n",
       "      <td>5</td>\n",
       "      <td>2000-12-31 22:02:52</td>\n",
       "      <td>2000</td>\n",
       "      <td>5</td>\n",
       "    </tr>\n",
       "    <tr>\n",
       "      <th>3</th>\n",
       "      <td>1</td>\n",
       "      <td>3408</td>\n",
       "      <td>4</td>\n",
       "      <td>2000-12-31 22:04:35</td>\n",
       "      <td>2000</td>\n",
       "      <td>6</td>\n",
       "    </tr>\n",
       "    <tr>\n",
       "      <th>7</th>\n",
       "      <td>1</td>\n",
       "      <td>2804</td>\n",
       "      <td>5</td>\n",
       "      <td>2000-12-31 22:11:59</td>\n",
       "      <td>2000</td>\n",
       "      <td>7</td>\n",
       "    </tr>\n",
       "    <tr>\n",
       "      <th>47</th>\n",
       "      <td>1</td>\n",
       "      <td>1207</td>\n",
       "      <td>4</td>\n",
       "      <td>2000-12-31 22:11:59</td>\n",
       "      <td>2000</td>\n",
       "      <td>8</td>\n",
       "    </tr>\n",
       "    <tr>\n",
       "      <th>0</th>\n",
       "      <td>1</td>\n",
       "      <td>1193</td>\n",
       "      <td>5</td>\n",
       "      <td>2000-12-31 22:12:40</td>\n",
       "      <td>2000</td>\n",
       "      <td>9</td>\n",
       "    </tr>\n",
       "  </tbody>\n",
       "</table>\n",
       "</div>"
      ],
      "text/plain": [
       "    UserId  ItemId  Rating                Time  Year  item_idx\n",
       "31       1    3186       4 2000-12-31 22:00:19  2000         0\n",
       "22       1    1270       5 2000-12-31 22:00:55  2000         1\n",
       "27       1    1721       4 2000-12-31 22:00:55  2000         2\n",
       "37       1    1022       5 2000-12-31 22:00:55  2000         3\n",
       "24       1    2340       3 2000-12-31 22:01:43  2000         4\n",
       "36       1    1836       5 2000-12-31 22:02:52  2000         5\n",
       "3        1    3408       4 2000-12-31 22:04:35  2000         6\n",
       "7        1    2804       5 2000-12-31 22:11:59  2000         7\n",
       "47       1    1207       4 2000-12-31 22:11:59  2000         8\n",
       "0        1    1193       5 2000-12-31 22:12:40  2000         9"
      ]
     },
     "execution_count": 40,
     "metadata": {},
     "output_type": "execute_result"
    }
   ],
   "source": [
    "train_dataset = SessionDataset(train)\n",
    "train_dataset.df.head(10)"
   ]
  },
  {
   "cell_type": "code",
   "execution_count": 41,
   "id": "massive-greensboro",
   "metadata": {},
   "outputs": [
    {
     "data": {
      "text/plain": [
       "array([     0,     53,    169, ..., 595097, 595115, 595234], dtype=int32)"
      ]
     },
     "execution_count": 41,
     "metadata": {},
     "output_type": "execute_result"
    }
   ],
   "source": [
    "train_dataset.click_offsets"
   ]
  },
  {
   "cell_type": "code",
   "execution_count": 42,
   "id": "pacific-throw",
   "metadata": {},
   "outputs": [
    {
     "data": {
      "text/plain": [
       "array([   0,    1,    2, ..., 5165, 5166, 5167])"
      ]
     },
     "execution_count": 42,
     "metadata": {},
     "output_type": "execute_result"
    }
   ],
   "source": [
    "train_dataset.session_idx"
   ]
  },
  {
   "cell_type": "code",
   "execution_count": 43,
   "id": "academic-drill",
   "metadata": {},
   "outputs": [],
   "source": [
    "# Session DataLoader\n",
    "class SessionDataLoader:\n",
    "    \"\"\"Credit to yhs-968/pyGRU4REC.\"\"\"\n",
    "\n",
    "    def __init__(self, dataset: SessionDataset, batch_size=50):\n",
    "        self.dataset = dataset\n",
    "        self.batch_size = batch_size\n",
    "\n",
    "    def __iter__(self):\n",
    "        \"\"\" Returns the iterator for producing session-parallel training mini-batches.\n",
    "        Yields:\n",
    "            input (B,):  Item indices that will be encoded as one-hot vectors later.\n",
    "            target (B,): a Variable that stores the target item indices\n",
    "            masks: Numpy array indicating the positions of the sessions to be terminated\n",
    "        \"\"\"\n",
    "\n",
    "        start, end, mask, last_session, finished = self.initialize()  # initialize 메소드에서 확인해주세요.\n",
    "        \"\"\"\n",
    "        start : Index Where Session Start\n",
    "        end : Index Where Session End\n",
    "        mask : indicator for the sessions to be terminated\n",
    "        \"\"\"\n",
    "\n",
    "        while not finished:\n",
    "            min_len = (end - start).min() - 1  # Shortest Length Among Sessions\n",
    "            for i in range(min_len):\n",
    "                # Build inputs & targets\n",
    "                inp = self.dataset.df['item_idx'].values[start + i]\n",
    "                target = self.dataset.df['item_idx'].values[start + i + 1]\n",
    "                yield inp, target, mask\n",
    "\n",
    "            start, end, mask, last_session, finished = self.update_status(start, end, min_len, last_session, finished)\n",
    "\n",
    "    def initialize(self):\n",
    "        first_iters = np.arange(self.batch_size)    # 첫 배치에 사용할 세션 Index를 가져옵니다.\n",
    "        last_session = self.batch_size - 1    # 마지막으로 다루고 있는 세션 Index를 저장해둡니다.\n",
    "        start = self.dataset.click_offsets[self.dataset.session_idx[first_iters]]       # data 상에서 session이 시작된 위치를 가져옵니다.\n",
    "        end = self.dataset.click_offsets[self.dataset.session_idx[first_iters] + 1]  # session이 끝난 위치 바로 다음 위치를 가져옵니다.\n",
    "        mask = np.array([])   # session의 모든 아이템을 다 돌은 경우 mask에 추가해줄 것입니다.\n",
    "        finished = False         # data를 전부 돌았는지 기록하기 위한 변수입니다.\n",
    "        return start, end, mask, last_session, finished\n",
    "\n",
    "    def update_status(self, start: np.ndarray, end: np.ndarray, min_len: int, last_session: int, finished: bool):  \n",
    "        # 다음 배치 데이터를 생성하기 위해 상태를 update합니다.\n",
    "        \n",
    "        start += min_len   # __iter__에서 min_len 만큼 for문을 돌았으므로 start를 min_len 만큼 더해줍니다.\n",
    "        mask = np.arange(self.batch_size)[(end - start) == 1]  \n",
    "        # end는 다음 세션이 시작되는 위치인데 start와 한 칸 차이난다는 것은 session이 끝났다는 뜻입니다. mask에 기록해줍니다.\n",
    "\n",
    "        for i, idx in enumerate(mask, start=1):  # mask에 추가된 세션 개수만큼 새로운 세션을 돌것입니다.\n",
    "            new_session = last_session + i  \n",
    "            if new_session > self.dataset.session_idx[-1]:  # 만약 새로운 세션이 마지막 세션 index보다 크다면 모든 학습데이터를 돈 것입니다.\n",
    "                finished = True\n",
    "                break\n",
    "            # update the next starting/ending point\n",
    "            start[idx] = self.dataset.click_offsets[self.dataset.session_idx[new_session]]     # 종료된 세션 대신 새로운 세션의 시작점을 기록합니다.\n",
    "            end[idx] = self.dataset.click_offsets[self.dataset.session_idx[new_session] + 1]\n",
    "\n",
    "        last_session += len(mask)  # 마지막 세션의 위치를 기록해둡니다.\n",
    "        return start, end, mask, last_session, finished"
   ]
  },
  {
   "cell_type": "code",
   "execution_count": 44,
   "id": "obvious-angle",
   "metadata": {},
   "outputs": [
    {
     "data": {
      "text/html": [
       "<div>\n",
       "<style scoped>\n",
       "    .dataframe tbody tr th:only-of-type {\n",
       "        vertical-align: middle;\n",
       "    }\n",
       "\n",
       "    .dataframe tbody tr th {\n",
       "        vertical-align: top;\n",
       "    }\n",
       "\n",
       "    .dataframe thead th {\n",
       "        text-align: right;\n",
       "    }\n",
       "</style>\n",
       "<table border=\"1\" class=\"dataframe\">\n",
       "  <thead>\n",
       "    <tr style=\"text-align: right;\">\n",
       "      <th></th>\n",
       "      <th>UserId</th>\n",
       "      <th>ItemId</th>\n",
       "      <th>Rating</th>\n",
       "      <th>Time</th>\n",
       "      <th>Year</th>\n",
       "      <th>item_idx</th>\n",
       "    </tr>\n",
       "  </thead>\n",
       "  <tbody>\n",
       "    <tr>\n",
       "      <th>31</th>\n",
       "      <td>1</td>\n",
       "      <td>3186</td>\n",
       "      <td>4</td>\n",
       "      <td>2000-12-31 22:00:19</td>\n",
       "      <td>2000</td>\n",
       "      <td>0</td>\n",
       "    </tr>\n",
       "    <tr>\n",
       "      <th>22</th>\n",
       "      <td>1</td>\n",
       "      <td>1270</td>\n",
       "      <td>5</td>\n",
       "      <td>2000-12-31 22:00:55</td>\n",
       "      <td>2000</td>\n",
       "      <td>1</td>\n",
       "    </tr>\n",
       "    <tr>\n",
       "      <th>27</th>\n",
       "      <td>1</td>\n",
       "      <td>1721</td>\n",
       "      <td>4</td>\n",
       "      <td>2000-12-31 22:00:55</td>\n",
       "      <td>2000</td>\n",
       "      <td>2</td>\n",
       "    </tr>\n",
       "    <tr>\n",
       "      <th>37</th>\n",
       "      <td>1</td>\n",
       "      <td>1022</td>\n",
       "      <td>5</td>\n",
       "      <td>2000-12-31 22:00:55</td>\n",
       "      <td>2000</td>\n",
       "      <td>3</td>\n",
       "    </tr>\n",
       "    <tr>\n",
       "      <th>24</th>\n",
       "      <td>1</td>\n",
       "      <td>2340</td>\n",
       "      <td>3</td>\n",
       "      <td>2000-12-31 22:01:43</td>\n",
       "      <td>2000</td>\n",
       "      <td>4</td>\n",
       "    </tr>\n",
       "    <tr>\n",
       "      <th>36</th>\n",
       "      <td>1</td>\n",
       "      <td>1836</td>\n",
       "      <td>5</td>\n",
       "      <td>2000-12-31 22:02:52</td>\n",
       "      <td>2000</td>\n",
       "      <td>5</td>\n",
       "    </tr>\n",
       "    <tr>\n",
       "      <th>3</th>\n",
       "      <td>1</td>\n",
       "      <td>3408</td>\n",
       "      <td>4</td>\n",
       "      <td>2000-12-31 22:04:35</td>\n",
       "      <td>2000</td>\n",
       "      <td>6</td>\n",
       "    </tr>\n",
       "    <tr>\n",
       "      <th>7</th>\n",
       "      <td>1</td>\n",
       "      <td>2804</td>\n",
       "      <td>5</td>\n",
       "      <td>2000-12-31 22:11:59</td>\n",
       "      <td>2000</td>\n",
       "      <td>7</td>\n",
       "    </tr>\n",
       "    <tr>\n",
       "      <th>47</th>\n",
       "      <td>1</td>\n",
       "      <td>1207</td>\n",
       "      <td>4</td>\n",
       "      <td>2000-12-31 22:11:59</td>\n",
       "      <td>2000</td>\n",
       "      <td>8</td>\n",
       "    </tr>\n",
       "    <tr>\n",
       "      <th>0</th>\n",
       "      <td>1</td>\n",
       "      <td>1193</td>\n",
       "      <td>5</td>\n",
       "      <td>2000-12-31 22:12:40</td>\n",
       "      <td>2000</td>\n",
       "      <td>9</td>\n",
       "    </tr>\n",
       "    <tr>\n",
       "      <th>21</th>\n",
       "      <td>1</td>\n",
       "      <td>720</td>\n",
       "      <td>3</td>\n",
       "      <td>2000-12-31 22:12:40</td>\n",
       "      <td>2000</td>\n",
       "      <td>10</td>\n",
       "    </tr>\n",
       "    <tr>\n",
       "      <th>44</th>\n",
       "      <td>1</td>\n",
       "      <td>260</td>\n",
       "      <td>4</td>\n",
       "      <td>2000-12-31 22:12:40</td>\n",
       "      <td>2000</td>\n",
       "      <td>11</td>\n",
       "    </tr>\n",
       "    <tr>\n",
       "      <th>9</th>\n",
       "      <td>1</td>\n",
       "      <td>919</td>\n",
       "      <td>4</td>\n",
       "      <td>2000-12-31 22:22:48</td>\n",
       "      <td>2000</td>\n",
       "      <td>12</td>\n",
       "    </tr>\n",
       "    <tr>\n",
       "      <th>51</th>\n",
       "      <td>1</td>\n",
       "      <td>608</td>\n",
       "      <td>4</td>\n",
       "      <td>2000-12-31 22:23:18</td>\n",
       "      <td>2000</td>\n",
       "      <td>13</td>\n",
       "    </tr>\n",
       "    <tr>\n",
       "      <th>43</th>\n",
       "      <td>1</td>\n",
       "      <td>2692</td>\n",
       "      <td>4</td>\n",
       "      <td>2000-12-31 22:26:10</td>\n",
       "      <td>2000</td>\n",
       "      <td>14</td>\n",
       "    </tr>\n",
       "  </tbody>\n",
       "</table>\n",
       "</div>"
      ],
      "text/plain": [
       "    UserId  ItemId  Rating                Time  Year  item_idx\n",
       "31       1    3186       4 2000-12-31 22:00:19  2000         0\n",
       "22       1    1270       5 2000-12-31 22:00:55  2000         1\n",
       "27       1    1721       4 2000-12-31 22:00:55  2000         2\n",
       "37       1    1022       5 2000-12-31 22:00:55  2000         3\n",
       "24       1    2340       3 2000-12-31 22:01:43  2000         4\n",
       "36       1    1836       5 2000-12-31 22:02:52  2000         5\n",
       "3        1    3408       4 2000-12-31 22:04:35  2000         6\n",
       "7        1    2804       5 2000-12-31 22:11:59  2000         7\n",
       "47       1    1207       4 2000-12-31 22:11:59  2000         8\n",
       "0        1    1193       5 2000-12-31 22:12:40  2000         9\n",
       "21       1     720       3 2000-12-31 22:12:40  2000        10\n",
       "44       1     260       4 2000-12-31 22:12:40  2000        11\n",
       "9        1     919       4 2000-12-31 22:22:48  2000        12\n",
       "51       1     608       4 2000-12-31 22:23:18  2000        13\n",
       "43       1    2692       4 2000-12-31 22:26:10  2000        14"
      ]
     },
     "execution_count": 44,
     "metadata": {},
     "output_type": "execute_result"
    }
   ],
   "source": [
    "train_data_loader = SessionDataLoader(train_dataset, batch_size=4)\n",
    "train_dataset.df.head(15)"
   ]
  },
  {
   "cell_type": "code",
   "execution_count": 45,
   "id": "equipped-logan",
   "metadata": {},
   "outputs": [],
   "source": [
    "iter_ex = iter(train_data_loader)"
   ]
  },
  {
   "cell_type": "code",
   "execution_count": 46,
   "id": "least-green",
   "metadata": {},
   "outputs": [
    {
     "name": "stdout",
     "output_type": "stream",
     "text": [
      "Model Input Item Idx are : [ 0 53 64 54]\n",
      "Label Item Idx are :       [ 1 54 62 24]\n",
      "Previous Masked Input Idx are []\n"
     ]
    }
   ],
   "source": [
    "inputs, labels, mask =  next(iter_ex)\n",
    "print(f'Model Input Item Idx are : {inputs}')\n",
    "print(f'Label Item Idx are : {\"\":5} {labels}')\n",
    "print(f'Previous Masked Input Idx are {mask}')"
   ]
  },
  {
   "cell_type": "markdown",
   "id": "aboriginal-instrument",
   "metadata": {},
   "source": [
    "## 3. 모델 구성"
   ]
  },
  {
   "cell_type": "code",
   "execution_count": 48,
   "id": "correct-cover",
   "metadata": {},
   "outputs": [],
   "source": [
    "def mrr_k(pred, truth: int, k: int):\n",
    "    indexing = np.where(pred[:k] == truth)[0]\n",
    "    if len(indexing) > 0:\n",
    "        return 1 / (indexing[0] + 1)\n",
    "    else:\n",
    "        return 0\n",
    "\n",
    "\n",
    "def recall_k(pred, truth: int, k: int) -> int:\n",
    "    answer = truth in pred[:k]\n",
    "    return int(answer)"
   ]
  },
  {
   "cell_type": "code",
   "execution_count": 49,
   "id": "geological-seattle",
   "metadata": {},
   "outputs": [],
   "source": [
    "import numpy as np\n",
    "import tensorflow as tf\n",
    "from tensorflow.keras.layers import Input, Dense, Dropout, GRU\n",
    "from tensorflow.keras.losses import categorical_crossentropy\n",
    "from tensorflow.keras.models import Model\n",
    "from tensorflow.keras.optimizers import Adam\n",
    "from tensorflow.keras.utils import to_categorical\n",
    "from tqdm import tqdm"
   ]
  },
  {
   "cell_type": "code",
   "execution_count": 50,
   "id": "aggressive-approval",
   "metadata": {},
   "outputs": [],
   "source": [
    "def create_model(args):\n",
    "    inputs = Input(batch_shape=(args.batch_size, 1, args.num_items))\n",
    "    gru, _ = GRU(args.hsz, stateful=True, return_state=True, name='GRU')(inputs)\n",
    "    dropout = Dropout(args.drop_rate)(gru)\n",
    "    predictions = Dense(args.num_items, activation='softmax')(dropout)\n",
    "    model = Model(inputs=inputs, outputs=[predictions])\n",
    "    model.compile(loss=categorical_crossentropy, optimizer=Adam(args.lr), metrics=['accuracy'])\n",
    "    model.summary()\n",
    "    return model"
   ]
  },
  {
   "cell_type": "code",
   "execution_count": 56,
   "id": "empirical-swift",
   "metadata": {},
   "outputs": [],
   "source": [
    "class Args:\n",
    "    def __init__(self, train, val, test, batch_size, hsz, drop_rate, lr, epochs, k):\n",
    "        self.train = train\n",
    "        self.val = val\n",
    "        self.test = test\n",
    "        self.num_items = train['ItemId'].nunique()\n",
    "        self.num_sessions = train['UserId'].nunique()\n",
    "        self.batch_size = batch_size\n",
    "        self.hsz = hsz\n",
    "        self.drop_rate = drop_rate\n",
    "        self.lr = lr\n",
    "        self.epochs = epochs\n",
    "        self.k = k\n",
    "\n",
    "args = Args(train, val, test, batch_size=256, hsz=50, drop_rate=0.1, lr=0.001, epochs=50, k=20)"
   ]
  },
  {
   "cell_type": "code",
   "execution_count": 57,
   "id": "yellow-counter",
   "metadata": {},
   "outputs": [
    {
     "name": "stdout",
     "output_type": "stream",
     "text": [
      "Model: \"model\"\n",
      "_________________________________________________________________\n",
      "Layer (type)                 Output Shape              Param #   \n",
      "=================================================================\n",
      "input_1 (InputLayer)         [(256, 1, 3556)]          0         \n",
      "_________________________________________________________________\n",
      "GRU (GRU)                    [(256, 50), (256, 50)]    541200    \n",
      "_________________________________________________________________\n",
      "dropout (Dropout)            (256, 50)                 0         \n",
      "_________________________________________________________________\n",
      "dense (Dense)                (256, 3556)               181356    \n",
      "=================================================================\n",
      "Total params: 722,556\n",
      "Trainable params: 722,556\n",
      "Non-trainable params: 0\n",
      "_________________________________________________________________\n"
     ]
    }
   ],
   "source": [
    "model = create_model(args)"
   ]
  },
  {
   "cell_type": "markdown",
   "id": "comparative-headline",
   "metadata": {},
   "source": [
    "## 4. 모델 학습"
   ]
  },
  {
   "cell_type": "code",
   "execution_count": 58,
   "id": "material-membership",
   "metadata": {},
   "outputs": [],
   "source": [
    "def train_model(model, args):\n",
    "    train_dataset = SessionDataset(args.train)\n",
    "    train_loader = SessionDataLoader(train_dataset, batch_size=args.batch_size)\n",
    "\n",
    "    for epoch in range(1, args.epochs + 1):\n",
    "        total_step = len(args.train) - args.train['UserId'].nunique()\n",
    "        tr_loader = tqdm(train_loader, total=total_step // args.batch_size, desc='Train', mininterval=1)\n",
    "        for feat, target, mask in tr_loader:\n",
    "            reset_hidden_states(model, mask)  # 종료된 session은 hidden_state를 초기화합니다. 아래 메서드에서 확인해주세요.\n",
    "\n",
    "            input_ohe = to_categorical(feat, num_classes=args.num_items)\n",
    "            input_ohe = np.expand_dims(input_ohe, axis=1)\n",
    "            target_ohe = to_categorical(target, num_classes=args.num_items)\n",
    "\n",
    "            result = model.train_on_batch(input_ohe, target_ohe)\n",
    "            tr_loader.set_postfix(train_loss=result[0], accuracy = result[1])\n",
    "\n",
    "        val_recall, val_mrr = get_metrics(args.val, model, args, args.k)  # valid set에 대해 검증합니다.\n",
    "\n",
    "        print(f\"\\t - Recall@{args.k} epoch {epoch}: {val_recall:3f}\")\n",
    "        print(f\"\\t - MRR@{args.k}    epoch {epoch}: {val_mrr:3f}\\n\")\n",
    "\n",
    "\n",
    "def reset_hidden_states(model, mask):\n",
    "    gru_layer = model.get_layer(name='GRU')  # model에서 gru layer를 가져옵니다.\n",
    "    hidden_states = gru_layer.states[0].numpy()  # gru_layer의 parameter를 가져옵니다.\n",
    "    for elt in mask:  # mask된 인덱스 즉, 종료된 세션의 인덱스를 돌면서\n",
    "        hidden_states[elt, :] = 0  # parameter를 초기화 합니다.\n",
    "    gru_layer.reset_states(states=hidden_states)\n",
    "\n",
    "\n",
    "def get_metrics(data, model, args, k: int):  # valid셋과 test셋을 평가하는 코드입니다. \n",
    "                                             # train과 거의 같지만 mrr, recall을 구하는 라인이 있습니다.\n",
    "    dataset = SessionDataset(data)\n",
    "    loader = SessionDataLoader(dataset, batch_size=args.batch_size)\n",
    "    recall_list, mrr_list = [], []\n",
    "\n",
    "    total_step = len(data) - data['UserId'].nunique()\n",
    "    for inputs, label, mask in tqdm(loader, total=total_step // args.batch_size, desc='Evaluation', mininterval=1):\n",
    "        reset_hidden_states(model, mask)\n",
    "        input_ohe = to_categorical(inputs, num_classes=args.num_items)\n",
    "        input_ohe = np.expand_dims(input_ohe, axis=1)\n",
    "\n",
    "        pred = model.predict(input_ohe, batch_size=args.batch_size)\n",
    "        pred_arg = tf.argsort(pred, direction='DESCENDING')  # softmax 값이 큰 순서대로 sorting 합니다.\n",
    "\n",
    "        length = len(inputs)\n",
    "        recall_list.extend([recall_k(pred_arg[i], label[i], k) for i in range(length)])\n",
    "        mrr_list.extend([mrr_k(pred_arg[i], label[i], k) for i in range(length)])\n",
    "\n",
    "    recall, mrr = np.mean(recall_list), np.mean(mrr_list)\n",
    "    return recall, mrr"
   ]
  },
  {
   "cell_type": "code",
   "execution_count": 59,
   "id": "demanding-spank",
   "metadata": {
    "scrolled": true
   },
   "outputs": [
    {
     "name": "stderr",
     "output_type": "stream",
     "text": [
      "Train:  95%|█████████▍| 2187/2304 [00:50<00:02, 43.63it/s, accuracy=0.0117, train_loss=6.84] \n",
      "Evaluation:  21%|██▏       | 51/240 [01:17<04:45,  1.51s/it]\n",
      "Train:   0%|          | 0/2304 [00:00<?, ?it/s, accuracy=0.00781, train_loss=6.55]"
     ]
    },
    {
     "name": "stdout",
     "output_type": "stream",
     "text": [
      "\t - Recall@20 epoch 1: 0.163450\n",
      "\t - MRR@20    epoch 1: 0.039653\n",
      "\n"
     ]
    },
    {
     "name": "stderr",
     "output_type": "stream",
     "text": [
      "Train:  95%|█████████▍| 2187/2304 [00:49<00:02, 43.77it/s, accuracy=0.0195, train_loss=6.28] \n",
      "Evaluation:  21%|██▏       | 51/240 [01:12<04:28,  1.42s/it]\n",
      "Train:   0%|          | 0/2304 [00:00<?, ?it/s, accuracy=0.043, train_loss=5.97]  "
     ]
    },
    {
     "name": "stdout",
     "output_type": "stream",
     "text": [
      "\t - Recall@20 epoch 2: 0.274280\n",
      "\t - MRR@20    epoch 2: 0.071157\n",
      "\n"
     ]
    },
    {
     "name": "stderr",
     "output_type": "stream",
     "text": [
      "Train:  95%|█████████▍| 2187/2304 [00:50<00:02, 43.39it/s, accuracy=0.0312, train_loss=5.96] \n",
      "Evaluation:  21%|██▏       | 51/240 [01:10<04:22,  1.39s/it]\n",
      "Train:   0%|          | 0/2304 [00:00<?, ?it/s, accuracy=0.0469, train_loss=5.69] "
     ]
    },
    {
     "name": "stdout",
     "output_type": "stream",
     "text": [
      "\t - Recall@20 epoch 3: 0.317479\n",
      "\t - MRR@20    epoch 3: 0.088611\n",
      "\n"
     ]
    },
    {
     "name": "stderr",
     "output_type": "stream",
     "text": [
      "Train:  95%|█████████▍| 2187/2304 [00:50<00:02, 43.37it/s, accuracy=0.0273, train_loss=5.86] \n",
      "Evaluation:  21%|██▏       | 51/240 [01:09<04:17,  1.36s/it]\n",
      "Train:   0%|          | 0/2304 [00:00<?, ?it/s, accuracy=0.0391, train_loss=5.53] "
     ]
    },
    {
     "name": "stdout",
     "output_type": "stream",
     "text": [
      "\t - Recall@20 epoch 4: 0.342371\n",
      "\t - MRR@20    epoch 4: 0.099512\n",
      "\n"
     ]
    },
    {
     "name": "stderr",
     "output_type": "stream",
     "text": [
      "Train:  95%|█████████▍| 2187/2304 [00:50<00:02, 43.20it/s, accuracy=0.0352, train_loss=5.74] \n",
      "Evaluation:  21%|██▏       | 51/240 [01:08<04:14,  1.34s/it]\n",
      "Train:   0%|          | 0/2304 [00:00<?, ?it/s, accuracy=0.0547, train_loss=5.44] "
     ]
    },
    {
     "name": "stdout",
     "output_type": "stream",
     "text": [
      "\t - Recall@20 epoch 5: 0.354167\n",
      "\t - MRR@20    epoch 5: 0.107407\n",
      "\n"
     ]
    },
    {
     "name": "stderr",
     "output_type": "stream",
     "text": [
      "Train:  95%|█████████▍| 2187/2304 [00:51<00:02, 42.79it/s, accuracy=0.0273, train_loss=5.66] \n",
      "Evaluation:  21%|██▏       | 51/240 [01:08<04:14,  1.35s/it]\n",
      "Train:   0%|          | 0/2304 [00:00<?, ?it/s, accuracy=0.043, train_loss=5.41]  "
     ]
    },
    {
     "name": "stdout",
     "output_type": "stream",
     "text": [
      "\t - Recall@20 epoch 6: 0.364200\n",
      "\t - MRR@20    epoch 6: 0.112111\n",
      "\n"
     ]
    },
    {
     "name": "stderr",
     "output_type": "stream",
     "text": [
      "Train:  95%|█████████▍| 2187/2304 [00:50<00:02, 43.51it/s, accuracy=0.0234, train_loss=5.64] \n",
      "Evaluation:  21%|██▏       | 51/240 [01:09<04:15,  1.35s/it]\n",
      "Train:   0%|          | 0/2304 [00:00<?, ?it/s, accuracy=0.0625, train_loss=5.34] "
     ]
    },
    {
     "name": "stdout",
     "output_type": "stream",
     "text": [
      "\t - Recall@20 epoch 7: 0.368949\n",
      "\t - MRR@20    epoch 7: 0.116225\n",
      "\n"
     ]
    },
    {
     "name": "stderr",
     "output_type": "stream",
     "text": [
      "Train:  95%|█████████▍| 2187/2304 [00:50<00:02, 43.65it/s, accuracy=0.0352, train_loss=5.58] \n",
      "Evaluation:  21%|██▏       | 51/240 [01:08<04:12,  1.34s/it]\n",
      "Train:   0%|          | 0/2304 [00:00<?, ?it/s, accuracy=0.0508, train_loss=5.36]"
     ]
    },
    {
     "name": "stdout",
     "output_type": "stream",
     "text": [
      "\t - Recall@20 epoch 8: 0.373238\n",
      "\t - MRR@20    epoch 8: 0.118904\n",
      "\n"
     ]
    },
    {
     "name": "stderr",
     "output_type": "stream",
     "text": [
      "Train:  95%|█████████▍| 2187/2304 [00:50<00:02, 42.97it/s, accuracy=0.0352, train_loss=5.57]\n",
      "Evaluation:  21%|██▏       | 51/240 [01:08<04:12,  1.34s/it]\n",
      "Train:   0%|          | 0/2304 [00:00<?, ?it/s, accuracy=0.0625, train_loss=5.29] "
     ]
    },
    {
     "name": "stdout",
     "output_type": "stream",
     "text": [
      "\t - Recall@20 epoch 9: 0.376608\n",
      "\t - MRR@20    epoch 9: 0.120638\n",
      "\n"
     ]
    },
    {
     "name": "stderr",
     "output_type": "stream",
     "text": [
      "Train:  95%|█████████▍| 2187/2304 [00:50<00:02, 43.04it/s, accuracy=0.0352, train_loss=5.54]\n",
      "Evaluation:  21%|██▏       | 51/240 [01:06<04:08,  1.31s/it]\n",
      "Train:   0%|          | 0/2304 [00:00<?, ?it/s, accuracy=0.0586, train_loss=5.35] "
     ]
    },
    {
     "name": "stdout",
     "output_type": "stream",
     "text": [
      "\t - Recall@20 epoch 10: 0.377834\n",
      "\t - MRR@20    epoch 10: 0.123027\n",
      "\n"
     ]
    },
    {
     "name": "stderr",
     "output_type": "stream",
     "text": [
      "Train:  95%|█████████▍| 2187/2304 [00:51<00:02, 42.82it/s, accuracy=0.0547, train_loss=5.5] \n",
      "Evaluation:  21%|██▏       | 51/240 [01:07<04:08,  1.32s/it]\n",
      "Train:   0%|          | 0/2304 [00:00<?, ?it/s, accuracy=0.0586, train_loss=5.25] "
     ]
    },
    {
     "name": "stdout",
     "output_type": "stream",
     "text": [
      "\t - Recall@20 epoch 11: 0.380438\n",
      "\t - MRR@20    epoch 11: 0.123414\n",
      "\n"
     ]
    },
    {
     "name": "stderr",
     "output_type": "stream",
     "text": [
      "Train:  95%|█████████▍| 2187/2304 [00:49<00:02, 44.09it/s, accuracy=0.0312, train_loss=5.49] \n",
      "Evaluation:  21%|██▏       | 51/240 [01:07<04:09,  1.32s/it]\n",
      "Train:   0%|          | 0/2304 [00:00<?, ?it/s, accuracy=0.0625, train_loss=5.36] "
     ]
    },
    {
     "name": "stdout",
     "output_type": "stream",
     "text": [
      "\t - Recall@20 epoch 12: 0.381740\n",
      "\t - MRR@20    epoch 12: 0.123898\n",
      "\n"
     ]
    },
    {
     "name": "stderr",
     "output_type": "stream",
     "text": [
      "Train:  95%|█████████▍| 2187/2304 [00:49<00:02, 44.30it/s, accuracy=0.0547, train_loss=5.46] \n",
      "Evaluation:  21%|██▏       | 51/240 [01:07<04:11,  1.33s/it]\n",
      "Train:   0%|          | 0/2304 [00:00<?, ?it/s, accuracy=0.0703, train_loss=5.21]"
     ]
    },
    {
     "name": "stdout",
     "output_type": "stream",
     "text": [
      "\t - Recall@20 epoch 13: 0.380362\n",
      "\t - MRR@20    epoch 13: 0.124549\n",
      "\n"
     ]
    },
    {
     "name": "stderr",
     "output_type": "stream",
     "text": [
      "Train:  95%|█████████▍| 2187/2304 [00:50<00:02, 43.18it/s, accuracy=0.0391, train_loss=5.46]\n",
      "Evaluation:  21%|██▏       | 51/240 [01:07<04:08,  1.32s/it]\n",
      "Train:   0%|          | 0/2304 [00:00<?, ?it/s, accuracy=0.0859, train_loss=5.33]"
     ]
    },
    {
     "name": "stdout",
     "output_type": "stream",
     "text": [
      "\t - Recall@20 epoch 14: 0.381357\n",
      "\t - MRR@20    epoch 14: 0.125483\n",
      "\n"
     ]
    },
    {
     "name": "stderr",
     "output_type": "stream",
     "text": [
      "Train:  95%|█████████▍| 2187/2304 [00:50<00:02, 43.37it/s, accuracy=0.0391, train_loss=5.46]\n",
      "Evaluation:  21%|██▏       | 51/240 [01:06<04:05,  1.30s/it]\n",
      "Train:   0%|          | 0/2304 [00:00<?, ?it/s, accuracy=0.0781, train_loss=5.32] "
     ]
    },
    {
     "name": "stdout",
     "output_type": "stream",
     "text": [
      "\t - Recall@20 epoch 15: 0.380898\n",
      "\t - MRR@20    epoch 15: 0.126489\n",
      "\n"
     ]
    },
    {
     "name": "stderr",
     "output_type": "stream",
     "text": [
      "Train:  95%|█████████▍| 2187/2304 [00:49<00:02, 44.55it/s, accuracy=0.0312, train_loss=5.47]\n",
      "Evaluation:  21%|██▏       | 51/240 [01:07<04:09,  1.32s/it]\n",
      "Train:   0%|          | 0/2304 [00:00<?, ?it/s, accuracy=0.0781, train_loss=5.19] "
     ]
    },
    {
     "name": "stdout",
     "output_type": "stream",
     "text": [
      "\t - Recall@20 epoch 16: 0.381587\n",
      "\t - MRR@20    epoch 16: 0.125671\n",
      "\n"
     ]
    },
    {
     "name": "stderr",
     "output_type": "stream",
     "text": [
      "Train:  95%|█████████▍| 2187/2304 [00:50<00:02, 43.54it/s, accuracy=0.0312, train_loss=5.46]\n",
      "Evaluation:  21%|██▏       | 51/240 [01:07<04:10,  1.33s/it]\n",
      "Train:   0%|          | 0/2304 [00:00<?, ?it/s, accuracy=0.0703, train_loss=5.14]"
     ]
    },
    {
     "name": "stdout",
     "output_type": "stream",
     "text": [
      "\t - Recall@20 epoch 17: 0.380438\n",
      "\t - MRR@20    epoch 17: 0.126367\n",
      "\n"
     ]
    },
    {
     "name": "stderr",
     "output_type": "stream",
     "text": [
      "Train:  95%|█████████▍| 2187/2304 [00:51<00:02, 42.38it/s, accuracy=0.0352, train_loss=5.46]\n",
      "Evaluation:  21%|██▏       | 51/240 [01:07<04:09,  1.32s/it]\n",
      "Train:   0%|          | 0/2304 [00:00<?, ?it/s, accuracy=0.082, train_loss=5.14]  "
     ]
    },
    {
     "name": "stdout",
     "output_type": "stream",
     "text": [
      "\t - Recall@20 epoch 18: 0.381127\n",
      "\t - MRR@20    epoch 18: 0.126507\n",
      "\n"
     ]
    },
    {
     "name": "stderr",
     "output_type": "stream",
     "text": [
      "Train:  95%|█████████▍| 2187/2304 [00:51<00:02, 42.78it/s, accuracy=0.0508, train_loss=5.44]\n",
      "Evaluation:  21%|██▏       | 51/240 [01:07<04:09,  1.32s/it]\n",
      "Train:   0%|          | 0/2304 [00:00<?, ?it/s, accuracy=0.0703, train_loss=5.14]"
     ]
    },
    {
     "name": "stdout",
     "output_type": "stream",
     "text": [
      "\t - Recall@20 epoch 19: 0.379902\n",
      "\t - MRR@20    epoch 19: 0.126547\n",
      "\n"
     ]
    },
    {
     "name": "stderr",
     "output_type": "stream",
     "text": [
      "Train:  95%|█████████▍| 2187/2304 [00:51<00:02, 42.35it/s, accuracy=0.0352, train_loss=5.44]\n",
      "Evaluation:  21%|██▏       | 51/240 [01:06<04:08,  1.31s/it]\n",
      "Train:   0%|          | 0/2304 [00:00<?, ?it/s, accuracy=0.0703, train_loss=5.19] "
     ]
    },
    {
     "name": "stdout",
     "output_type": "stream",
     "text": [
      "\t - Recall@20 epoch 20: 0.381204\n",
      "\t - MRR@20    epoch 20: 0.126311\n",
      "\n"
     ]
    },
    {
     "name": "stderr",
     "output_type": "stream",
     "text": [
      "Train:  95%|█████████▍| 2187/2304 [00:51<00:02, 42.55it/s, accuracy=0.0469, train_loss=5.44]\n",
      "Evaluation:  21%|██▏       | 51/240 [01:06<04:05,  1.30s/it]\n",
      "Train:   0%|          | 0/2304 [00:00<?, ?it/s, accuracy=0.0703, train_loss=5.14]"
     ]
    },
    {
     "name": "stdout",
     "output_type": "stream",
     "text": [
      "\t - Recall@20 epoch 21: 0.381051\n",
      "\t - MRR@20    epoch 21: 0.126377\n",
      "\n"
     ]
    },
    {
     "name": "stderr",
     "output_type": "stream",
     "text": [
      "Train:  95%|█████████▍| 2187/2304 [00:50<00:02, 43.33it/s, accuracy=0.0352, train_loss=5.41]\n",
      "Evaluation:  21%|██▏       | 51/240 [01:07<04:08,  1.31s/it]\n",
      "Train:   0%|          | 0/2304 [00:00<?, ?it/s, accuracy=0.0703, train_loss=5.17]"
     ]
    },
    {
     "name": "stdout",
     "output_type": "stream",
     "text": [
      "\t - Recall@20 epoch 22: 0.381051\n",
      "\t - MRR@20    epoch 22: 0.126212\n",
      "\n"
     ]
    },
    {
     "name": "stderr",
     "output_type": "stream",
     "text": [
      "Train:  95%|█████████▍| 2187/2304 [00:50<00:02, 43.55it/s, accuracy=0.0391, train_loss=5.47]\n",
      "Evaluation:  21%|██▏       | 51/240 [01:07<04:09,  1.32s/it]\n",
      "Train:   0%|          | 0/2304 [00:00<?, ?it/s, accuracy=0.0742, train_loss=5.17] "
     ]
    },
    {
     "name": "stdout",
     "output_type": "stream",
     "text": [
      "\t - Recall@20 epoch 23: 0.380744\n",
      "\t - MRR@20    epoch 23: 0.126434\n",
      "\n"
     ]
    },
    {
     "name": "stderr",
     "output_type": "stream",
     "text": [
      "Train:  95%|█████████▍| 2187/2304 [00:50<00:02, 43.21it/s, accuracy=0.0352, train_loss=5.39]\n",
      "Evaluation:  21%|██▏       | 51/240 [01:06<04:07,  1.31s/it]\n",
      "Train:   0%|          | 0/2304 [00:00<?, ?it/s, accuracy=0.0938, train_loss=5.27] "
     ]
    },
    {
     "name": "stdout",
     "output_type": "stream",
     "text": [
      "\t - Recall@20 epoch 24: 0.380668\n",
      "\t - MRR@20    epoch 24: 0.126909\n",
      "\n"
     ]
    },
    {
     "name": "stderr",
     "output_type": "stream",
     "text": [
      "Train:  95%|█████████▍| 2187/2304 [00:51<00:02, 42.68it/s, accuracy=0.0508, train_loss=5.39]\n",
      "Evaluation:  21%|██▏       | 51/240 [01:07<04:09,  1.32s/it]\n",
      "Train:   0%|          | 0/2304 [00:00<?, ?it/s, accuracy=0.0664, train_loss=5.16] "
     ]
    },
    {
     "name": "stdout",
     "output_type": "stream",
     "text": [
      "\t - Recall@20 epoch 25: 0.381817\n",
      "\t - MRR@20    epoch 25: 0.127398\n",
      "\n"
     ]
    },
    {
     "name": "stderr",
     "output_type": "stream",
     "text": [
      "Train:  95%|█████████▍| 2187/2304 [00:51<00:02, 42.53it/s, accuracy=0.0352, train_loss=5.41]\n",
      "Evaluation:  21%|██▏       | 51/240 [01:06<04:07,  1.31s/it]\n",
      "Train:   0%|          | 0/2304 [00:00<?, ?it/s, accuracy=0.0703, train_loss=5.15]"
     ]
    },
    {
     "name": "stdout",
     "output_type": "stream",
     "text": [
      "\t - Recall@20 epoch 26: 0.382736\n",
      "\t - MRR@20    epoch 26: 0.127663\n",
      "\n"
     ]
    },
    {
     "name": "stderr",
     "output_type": "stream",
     "text": [
      "Train:  95%|█████████▍| 2187/2304 [00:51<00:02, 42.79it/s, accuracy=0.0508, train_loss=5.41]\n",
      "Evaluation:  21%|██▏       | 51/240 [01:06<04:07,  1.31s/it]\n",
      "Train:   0%|          | 0/2304 [00:00<?, ?it/s, accuracy=0.0742, train_loss=5.17]"
     ]
    },
    {
     "name": "stdout",
     "output_type": "stream",
     "text": [
      "\t - Recall@20 epoch 27: 0.381893\n",
      "\t - MRR@20    epoch 27: 0.128191\n",
      "\n"
     ]
    },
    {
     "name": "stderr",
     "output_type": "stream",
     "text": [
      "Train:  95%|█████████▍| 2187/2304 [00:51<00:02, 42.72it/s, accuracy=0.0586, train_loss=5.37]\n",
      "Evaluation:  21%|██▏       | 51/240 [01:06<04:06,  1.30s/it]\n",
      "Train:   0%|          | 0/2304 [00:00<?, ?it/s, accuracy=0.0781, train_loss=5.15]"
     ]
    },
    {
     "name": "stdout",
     "output_type": "stream",
     "text": [
      "\t - Recall@20 epoch 28: 0.383195\n",
      "\t - MRR@20    epoch 28: 0.127143\n",
      "\n"
     ]
    },
    {
     "name": "stderr",
     "output_type": "stream",
     "text": [
      "Train:  95%|█████████▍| 2187/2304 [00:50<00:02, 43.07it/s, accuracy=0.0273, train_loss=5.39]\n",
      "Evaluation:  21%|██▏       | 51/240 [01:05<04:01,  1.28s/it]\n",
      "Train:   0%|          | 0/2304 [00:00<?, ?it/s, accuracy=0.0898, train_loss=5.12]"
     ]
    },
    {
     "name": "stdout",
     "output_type": "stream",
     "text": [
      "\t - Recall@20 epoch 29: 0.383808\n",
      "\t - MRR@20    epoch 29: 0.128533\n",
      "\n"
     ]
    },
    {
     "name": "stderr",
     "output_type": "stream",
     "text": [
      "Train:  95%|█████████▍| 2187/2304 [00:50<00:02, 43.72it/s, accuracy=0.043, train_loss=5.37] \n",
      "Evaluation:  21%|██▏       | 51/240 [01:03<03:56,  1.25s/it]\n",
      "Train:   0%|          | 0/2304 [00:00<?, ?it/s, accuracy=0.0742, train_loss=5.14]"
     ]
    },
    {
     "name": "stdout",
     "output_type": "stream",
     "text": [
      "\t - Recall@20 epoch 30: 0.383349\n",
      "\t - MRR@20    epoch 30: 0.126952\n",
      "\n"
     ]
    },
    {
     "name": "stderr",
     "output_type": "stream",
     "text": [
      "Train:  95%|█████████▍| 2187/2304 [00:50<00:02, 43.61it/s, accuracy=0.0391, train_loss=5.35]\n",
      "Evaluation:  21%|██▏       | 51/240 [01:03<03:56,  1.25s/it]\n",
      "Train:   0%|          | 0/2304 [00:00<?, ?it/s, accuracy=0.0742, train_loss=5.11]"
     ]
    },
    {
     "name": "stdout",
     "output_type": "stream",
     "text": [
      "\t - Recall@20 epoch 31: 0.383119\n",
      "\t - MRR@20    epoch 31: 0.128208\n",
      "\n"
     ]
    },
    {
     "name": "stderr",
     "output_type": "stream",
     "text": [
      "Train:  95%|█████████▍| 2187/2304 [00:49<00:02, 44.27it/s, accuracy=0.0352, train_loss=5.4] \n",
      "Evaluation:  21%|██▏       | 51/240 [01:04<03:57,  1.26s/it]\n",
      "Train:   0%|          | 0/2304 [00:00<?, ?it/s, accuracy=0.0742, train_loss=5.12] "
     ]
    },
    {
     "name": "stdout",
     "output_type": "stream",
     "text": [
      "\t - Recall@20 epoch 32: 0.382966\n",
      "\t - MRR@20    epoch 32: 0.127280\n",
      "\n"
     ]
    },
    {
     "name": "stderr",
     "output_type": "stream",
     "text": [
      "Train:  95%|█████████▍| 2187/2304 [00:49<00:02, 43.76it/s, accuracy=0.0156, train_loss=5.38]\n",
      "Evaluation:  21%|██▏       | 51/240 [01:03<03:55,  1.25s/it]\n",
      "Train:   0%|          | 0/2304 [00:00<?, ?it/s, accuracy=0.0938, train_loss=5.13]"
     ]
    },
    {
     "name": "stdout",
     "output_type": "stream",
     "text": [
      "\t - Recall@20 epoch 33: 0.381893\n",
      "\t - MRR@20    epoch 33: 0.127281\n",
      "\n"
     ]
    },
    {
     "name": "stderr",
     "output_type": "stream",
     "text": [
      "Train:  95%|█████████▍| 2187/2304 [00:49<00:02, 43.83it/s, accuracy=0.0586, train_loss=5.34]\n",
      "Evaluation:  21%|██▏       | 51/240 [01:03<03:53,  1.24s/it]\n",
      "Train:   0%|          | 0/2304 [00:00<?, ?it/s, accuracy=0.0781, train_loss=5.11]"
     ]
    },
    {
     "name": "stdout",
     "output_type": "stream",
     "text": [
      "\t - Recall@20 epoch 34: 0.381740\n",
      "\t - MRR@20    epoch 34: 0.127271\n",
      "\n"
     ]
    },
    {
     "name": "stderr",
     "output_type": "stream",
     "text": [
      "Train:  95%|█████████▍| 2187/2304 [00:49<00:02, 44.37it/s, accuracy=0.0508, train_loss=5.34]\n",
      "Evaluation:  21%|██▏       | 51/240 [01:02<03:51,  1.22s/it]\n",
      "Train:   0%|          | 0/2304 [00:00<?, ?it/s, accuracy=0.0664, train_loss=5.11]"
     ]
    },
    {
     "name": "stdout",
     "output_type": "stream",
     "text": [
      "\t - Recall@20 epoch 35: 0.381204\n",
      "\t - MRR@20    epoch 35: 0.127054\n",
      "\n"
     ]
    },
    {
     "name": "stderr",
     "output_type": "stream",
     "text": [
      "Train:  95%|█████████▍| 2187/2304 [00:49<00:02, 44.25it/s, accuracy=0.0391, train_loss=5.41]\n",
      "Evaluation:  21%|██▏       | 51/240 [01:01<03:49,  1.21s/it]\n",
      "Train:   0%|          | 0/2304 [00:00<?, ?it/s, accuracy=0.0781, train_loss=5.13]"
     ]
    },
    {
     "name": "stdout",
     "output_type": "stream",
     "text": [
      "\t - Recall@20 epoch 36: 0.381510\n",
      "\t - MRR@20    epoch 36: 0.126741\n",
      "\n"
     ]
    },
    {
     "name": "stderr",
     "output_type": "stream",
     "text": [
      "Train:  95%|█████████▍| 2187/2304 [00:48<00:02, 45.19it/s, accuracy=0.0469, train_loss=5.36]\n",
      "Evaluation:  21%|██▏       | 51/240 [01:02<03:51,  1.22s/it]\n",
      "Train:   0%|          | 0/2304 [00:00<?, ?it/s, accuracy=0.0859, train_loss=5.15]"
     ]
    },
    {
     "name": "stdout",
     "output_type": "stream",
     "text": [
      "\t - Recall@20 epoch 37: 0.382047\n",
      "\t - MRR@20    epoch 37: 0.126962\n",
      "\n"
     ]
    },
    {
     "name": "stderr",
     "output_type": "stream",
     "text": [
      "Train:  95%|█████████▍| 2187/2304 [00:49<00:02, 44.58it/s, accuracy=0.0703, train_loss=5.32]\n",
      "Evaluation:  21%|██▏       | 51/240 [01:02<03:51,  1.23s/it]\n",
      "Train:   0%|          | 0/2304 [00:00<?, ?it/s, accuracy=0.0742, train_loss=5.13]"
     ]
    },
    {
     "name": "stdout",
     "output_type": "stream",
     "text": [
      "\t - Recall@20 epoch 38: 0.380974\n",
      "\t - MRR@20    epoch 38: 0.126576\n",
      "\n"
     ]
    },
    {
     "name": "stderr",
     "output_type": "stream",
     "text": [
      "Train:  95%|█████████▍| 2187/2304 [00:49<00:02, 44.51it/s, accuracy=0.0312, train_loss=5.37]\n",
      "Evaluation:  21%|██▏       | 51/240 [01:03<03:55,  1.24s/it]\n",
      "Train:   0%|          | 0/2304 [00:00<?, ?it/s, accuracy=0.082, train_loss=5.13] "
     ]
    },
    {
     "name": "stdout",
     "output_type": "stream",
     "text": [
      "\t - Recall@20 epoch 39: 0.380208\n",
      "\t - MRR@20    epoch 39: 0.127271\n",
      "\n"
     ]
    },
    {
     "name": "stderr",
     "output_type": "stream",
     "text": [
      "Train:  95%|█████████▍| 2187/2304 [00:49<00:02, 44.26it/s, accuracy=0.043, train_loss=5.38] \n",
      "Evaluation:  21%|██▏       | 51/240 [01:03<03:55,  1.24s/it]\n",
      "Train:   0%|          | 0/2304 [00:00<?, ?it/s, accuracy=0.0938, train_loss=5.14]"
     ]
    },
    {
     "name": "stdout",
     "output_type": "stream",
     "text": [
      "\t - Recall@20 epoch 40: 0.379902\n",
      "\t - MRR@20    epoch 40: 0.127107\n",
      "\n"
     ]
    },
    {
     "name": "stderr",
     "output_type": "stream",
     "text": [
      "Train:  95%|█████████▍| 2187/2304 [00:50<00:02, 43.66it/s, accuracy=0.0469, train_loss=5.31]\n",
      "Evaluation:  21%|██▏       | 51/240 [01:03<03:55,  1.25s/it]\n",
      "Train:   0%|          | 0/2304 [00:00<?, ?it/s, accuracy=0.082, train_loss=5.13] "
     ]
    },
    {
     "name": "stdout",
     "output_type": "stream",
     "text": [
      "\t - Recall@20 epoch 41: 0.379672\n",
      "\t - MRR@20    epoch 41: 0.126453\n",
      "\n"
     ]
    },
    {
     "name": "stderr",
     "output_type": "stream",
     "text": [
      "Train:  95%|█████████▍| 2187/2304 [00:49<00:02, 44.02it/s, accuracy=0.0547, train_loss=5.34]\n",
      "Evaluation:  21%|██▏       | 51/240 [01:02<03:51,  1.23s/it]\n",
      "Train:   0%|          | 0/2304 [00:00<?, ?it/s, accuracy=0.0781, train_loss=5.13]"
     ]
    },
    {
     "name": "stdout",
     "output_type": "stream",
     "text": [
      "\t - Recall@20 epoch 42: 0.379442\n",
      "\t - MRR@20    epoch 42: 0.126562\n",
      "\n"
     ]
    },
    {
     "name": "stderr",
     "output_type": "stream",
     "text": [
      "Train:  95%|█████████▍| 2187/2304 [00:49<00:02, 44.51it/s, accuracy=0.0508, train_loss=5.35]\n",
      "Evaluation:  21%|██▏       | 51/240 [01:02<03:51,  1.22s/it]\n",
      "Train:   0%|          | 0/2304 [00:00<?, ?it/s, accuracy=0.082, train_loss=5.13]  "
     ]
    },
    {
     "name": "stdout",
     "output_type": "stream",
     "text": [
      "\t - Recall@20 epoch 43: 0.381664\n",
      "\t - MRR@20    epoch 43: 0.127132\n",
      "\n"
     ]
    },
    {
     "name": "stderr",
     "output_type": "stream",
     "text": [
      "Train:  95%|█████████▍| 2187/2304 [00:50<00:02, 43.63it/s, accuracy=0.0312, train_loss=5.34]\n",
      "Evaluation:  21%|██▏       | 51/240 [01:02<03:53,  1.23s/it]\n",
      "Train:   0%|          | 0/2304 [00:00<?, ?it/s, accuracy=0.0664, train_loss=5.14]"
     ]
    },
    {
     "name": "stdout",
     "output_type": "stream",
     "text": [
      "\t - Recall@20 epoch 44: 0.380744\n",
      "\t - MRR@20    epoch 44: 0.127281\n",
      "\n"
     ]
    },
    {
     "name": "stderr",
     "output_type": "stream",
     "text": [
      "Train:  95%|█████████▍| 2187/2304 [00:50<00:02, 43.55it/s, accuracy=0.0508, train_loss=5.33]\n",
      "Evaluation:  21%|██▏       | 51/240 [01:02<03:51,  1.22s/it]\n",
      "Train:   0%|          | 0/2304 [00:00<?, ?it/s, accuracy=0.0898, train_loss=5.15]"
     ]
    },
    {
     "name": "stdout",
     "output_type": "stream",
     "text": [
      "\t - Recall@20 epoch 45: 0.380974\n",
      "\t - MRR@20    epoch 45: 0.126866\n",
      "\n"
     ]
    },
    {
     "name": "stderr",
     "output_type": "stream",
     "text": [
      "Train:  95%|█████████▍| 2187/2304 [00:49<00:02, 44.36it/s, accuracy=0.043, train_loss=5.35] \n",
      "Evaluation:  21%|██▏       | 51/240 [01:02<03:50,  1.22s/it]\n",
      "Train:   0%|          | 0/2304 [00:00<?, ?it/s, accuracy=0.0859, train_loss=5.12]"
     ]
    },
    {
     "name": "stdout",
     "output_type": "stream",
     "text": [
      "\t - Recall@20 epoch 46: 0.381357\n",
      "\t - MRR@20    epoch 46: 0.127089\n",
      "\n"
     ]
    },
    {
     "name": "stderr",
     "output_type": "stream",
     "text": [
      "Train:  95%|█████████▍| 2187/2304 [00:49<00:02, 44.16it/s, accuracy=0.0547, train_loss=5.36]\n",
      "Evaluation:  21%|██▏       | 51/240 [01:03<03:54,  1.24s/it]\n",
      "Train:   0%|          | 0/2304 [00:00<?, ?it/s, accuracy=0.0938, train_loss=5.12]"
     ]
    },
    {
     "name": "stdout",
     "output_type": "stream",
     "text": [
      "\t - Recall@20 epoch 47: 0.381127\n",
      "\t - MRR@20    epoch 47: 0.127067\n",
      "\n"
     ]
    },
    {
     "name": "stderr",
     "output_type": "stream",
     "text": [
      "Train:  95%|█████████▍| 2187/2304 [00:50<00:02, 43.73it/s, accuracy=0.0469, train_loss=5.36]\n",
      "Evaluation:  21%|██▏       | 51/240 [01:02<03:50,  1.22s/it]\n",
      "Train:   0%|          | 0/2304 [00:00<?, ?it/s, accuracy=0.0781, train_loss=5.12]"
     ]
    },
    {
     "name": "stdout",
     "output_type": "stream",
     "text": [
      "\t - Recall@20 epoch 48: 0.380668\n",
      "\t - MRR@20    epoch 48: 0.126885\n",
      "\n"
     ]
    },
    {
     "name": "stderr",
     "output_type": "stream",
     "text": [
      "Train:  95%|█████████▍| 2187/2304 [00:49<00:02, 43.86it/s, accuracy=0.0469, train_loss=5.39]\n",
      "Evaluation:  21%|██▏       | 51/240 [01:03<03:53,  1.24s/it]\n",
      "Train:   0%|          | 0/2304 [00:00<?, ?it/s, accuracy=0.0977, train_loss=5.09]"
     ]
    },
    {
     "name": "stdout",
     "output_type": "stream",
     "text": [
      "\t - Recall@20 epoch 49: 0.382047\n",
      "\t - MRR@20    epoch 49: 0.127106\n",
      "\n"
     ]
    },
    {
     "name": "stderr",
     "output_type": "stream",
     "text": [
      "Train:  95%|█████████▍| 2187/2304 [00:50<00:02, 43.67it/s, accuracy=0.0547, train_loss=5.35]\n",
      "Evaluation:  21%|██▏       | 51/240 [01:02<03:52,  1.23s/it]"
     ]
    },
    {
     "name": "stdout",
     "output_type": "stream",
     "text": [
      "\t - Recall@20 epoch 50: 0.382353\n",
      "\t - MRR@20    epoch 50: 0.127197\n",
      "\n"
     ]
    },
    {
     "name": "stderr",
     "output_type": "stream",
     "text": [
      "\n"
     ]
    }
   ],
   "source": [
    "train_model(model, args)"
   ]
  },
  {
   "cell_type": "markdown",
   "id": "maritime-format",
   "metadata": {},
   "source": [
    "## 5. 모델 테스트(1)"
   ]
  },
  {
   "cell_type": "code",
   "execution_count": 60,
   "id": "stable-morning",
   "metadata": {},
   "outputs": [
    {
     "name": "stderr",
     "output_type": "stream",
     "text": [
      "Evaluation:  67%|██████▋   | 468/697 [10:21<05:04,  1.33s/it]"
     ]
    },
    {
     "name": "stdout",
     "output_type": "stream",
     "text": [
      "\t - Recall@20: 0.279472\n",
      "\t - MRR@20: 0.085910\n",
      "\n"
     ]
    },
    {
     "name": "stderr",
     "output_type": "stream",
     "text": [
      "\n"
     ]
    }
   ],
   "source": [
    "def test_model(model, args, test):\n",
    "    test_recall, test_mrr = get_metrics(test, model, args, 20)\n",
    "    print(f\"\\t - Recall@{args.k}: {test_recall:3f}\")\n",
    "    print(f\"\\t - MRR@{args.k}: {test_mrr:3f}\\n\")\n",
    "\n",
    "test_model(model, args, test)"
   ]
  },
  {
   "cell_type": "markdown",
   "id": "personal-national",
   "metadata": {},
   "source": [
    "## 6. 모델 테스트(2)"
   ]
  },
  {
   "cell_type": "code",
   "execution_count": 76,
   "id": "vocal-typing",
   "metadata": {},
   "outputs": [],
   "source": [
    "args = Args(train, val, test, batch_size=128, hsz=50, drop_rate=0.1, lr=0.001, epochs=20, k=20)"
   ]
  },
  {
   "cell_type": "code",
   "execution_count": 77,
   "id": "spread-edmonton",
   "metadata": {},
   "outputs": [
    {
     "name": "stdout",
     "output_type": "stream",
     "text": [
      "Model: \"model_6\"\n",
      "_________________________________________________________________\n",
      "Layer (type)                 Output Shape              Param #   \n",
      "=================================================================\n",
      "input_7 (InputLayer)         [(128, 1, 3556)]          0         \n",
      "_________________________________________________________________\n",
      "GRU (GRU)                    [(128, 50), (128, 50)]    541200    \n",
      "_________________________________________________________________\n",
      "dropout_6 (Dropout)          (128, 50)                 0         \n",
      "_________________________________________________________________\n",
      "dense_6 (Dense)              (128, 3556)               181356    \n",
      "=================================================================\n",
      "Total params: 722,556\n",
      "Trainable params: 722,556\n",
      "Non-trainable params: 0\n",
      "_________________________________________________________________\n"
     ]
    }
   ],
   "source": [
    "model = create_model(args)"
   ]
  },
  {
   "cell_type": "code",
   "execution_count": 78,
   "id": "civic-luxembourg",
   "metadata": {
    "scrolled": true
   },
   "outputs": [
    {
     "name": "stderr",
     "output_type": "stream",
     "text": [
      "Train:  98%|█████████▊| 4499/4609 [01:11<00:01, 62.97it/s, accuracy=0.00781, train_loss=6.36]\n",
      "Evaluation:  59%|█████▉    | 283/481 [03:22<02:21,  1.40it/s]\n",
      "Train:   0%|          | 0/4609 [00:00<?, ?it/s, accuracy=0.0391, train_loss=5.9]  "
     ]
    },
    {
     "name": "stdout",
     "output_type": "stream",
     "text": [
      "\t - Recall@20 epoch 1: 0.194981\n",
      "\t - MRR@20    epoch 1: 0.046812\n",
      "\n"
     ]
    },
    {
     "name": "stderr",
     "output_type": "stream",
     "text": [
      "Train:  98%|█████████▊| 4499/4609 [01:09<00:01, 64.30it/s, accuracy=0.0234, train_loss=6.01] \n",
      "Evaluation:  59%|█████▉    | 283/481 [03:15<02:17,  1.44it/s]\n",
      "Train:   0%|          | 0/4609 [00:00<?, ?it/s, accuracy=0.0312, train_loss=5.38] "
     ]
    },
    {
     "name": "stdout",
     "output_type": "stream",
     "text": [
      "\t - Recall@20 epoch 2: 0.268662\n",
      "\t - MRR@20    epoch 2: 0.071115\n",
      "\n"
     ]
    },
    {
     "name": "stderr",
     "output_type": "stream",
     "text": [
      "Train:  98%|█████████▊| 4499/4609 [01:08<00:01, 65.98it/s, accuracy=0.0234, train_loss=5.88] \n",
      "Evaluation:  59%|█████▉    | 283/481 [03:11<02:14,  1.48it/s]\n",
      "Train:   0%|          | 0/4609 [00:00<?, ?it/s, accuracy=0.0547, train_loss=5.2]  "
     ]
    },
    {
     "name": "stdout",
     "output_type": "stream",
     "text": [
      "\t - Recall@20 epoch 3: 0.296571\n",
      "\t - MRR@20    epoch 3: 0.082089\n",
      "\n"
     ]
    },
    {
     "name": "stderr",
     "output_type": "stream",
     "text": [
      "Train:  98%|█████████▊| 4499/4609 [01:08<00:01, 65.24it/s, accuracy=0.0391, train_loss=5.81] \n",
      "Evaluation:  59%|█████▉    | 283/481 [03:14<02:15,  1.46it/s]\n",
      "Train:   0%|          | 0/4609 [00:00<?, ?it/s, accuracy=0.0391, train_loss=5.21]"
     ]
    },
    {
     "name": "stdout",
     "output_type": "stream",
     "text": [
      "\t - Recall@20 epoch 4: 0.310871\n",
      "\t - MRR@20    epoch 4: 0.089057\n",
      "\n"
     ]
    },
    {
     "name": "stderr",
     "output_type": "stream",
     "text": [
      "Train:  98%|█████████▊| 4499/4609 [01:13<00:01, 60.85it/s, accuracy=0.0391, train_loss=5.77] \n",
      "Evaluation:  59%|█████▉    | 283/481 [03:10<02:13,  1.48it/s]\n",
      "Train:   0%|          | 0/4609 [00:00<?, ?it/s, accuracy=0.0859, train_loss=4.99] "
     ]
    },
    {
     "name": "stdout",
     "output_type": "stream",
     "text": [
      "\t - Recall@20 epoch 5: 0.317662\n",
      "\t - MRR@20    epoch 5: 0.092885\n",
      "\n"
     ]
    },
    {
     "name": "stderr",
     "output_type": "stream",
     "text": [
      "Train:  98%|█████████▊| 4499/4609 [01:10<00:01, 64.26it/s, accuracy=0.0703, train_loss=5.65] \n",
      "Evaluation:  59%|█████▉    | 283/481 [03:08<02:11,  1.50it/s]\n",
      "Train:   0%|          | 0/4609 [00:00<?, ?it/s, accuracy=0.0547, train_loss=5.03]"
     ]
    },
    {
     "name": "stdout",
     "output_type": "stream",
     "text": [
      "\t - Recall@20 epoch 6: 0.322383\n",
      "\t - MRR@20    epoch 6: 0.096257\n",
      "\n"
     ]
    },
    {
     "name": "stderr",
     "output_type": "stream",
     "text": [
      "Train:  98%|█████████▊| 4499/4609 [01:10<00:01, 63.53it/s, accuracy=0.0234, train_loss=5.66] \n",
      "Evaluation:  59%|█████▉    | 283/481 [03:07<02:11,  1.51it/s]\n",
      "Train:   0%|          | 0/4609 [00:00<?, ?it/s, accuracy=0.0859, train_loss=5.03]"
     ]
    },
    {
     "name": "stdout",
     "output_type": "stream",
     "text": [
      "\t - Recall@20 epoch 7: 0.327214\n",
      "\t - MRR@20    epoch 7: 0.098508\n",
      "\n"
     ]
    },
    {
     "name": "stderr",
     "output_type": "stream",
     "text": [
      "Train:  98%|█████████▊| 4499/4609 [01:10<00:01, 63.63it/s, accuracy=0.0469, train_loss=5.64] \n",
      "Evaluation:  59%|█████▉    | 283/481 [03:08<02:11,  1.50it/s]\n",
      "Train:   0%|          | 0/4609 [00:00<?, ?it/s, accuracy=0.0703, train_loss=4.99]"
     ]
    },
    {
     "name": "stdout",
     "output_type": "stream",
     "text": [
      "\t - Recall@20 epoch 8: 0.329146\n",
      "\t - MRR@20    epoch 8: 0.099811\n",
      "\n"
     ]
    },
    {
     "name": "stderr",
     "output_type": "stream",
     "text": [
      "Train:  98%|█████████▊| 4499/4609 [01:09<00:01, 64.46it/s, accuracy=0.0625, train_loss=5.63] \n",
      "Evaluation:  59%|█████▉    | 283/481 [03:07<02:11,  1.51it/s]\n",
      "Train:   0%|          | 0/4609 [00:00<?, ?it/s, accuracy=0.0625, train_loss=4.98]"
     ]
    },
    {
     "name": "stdout",
     "output_type": "stream",
     "text": [
      "\t - Recall@20 epoch 9: 0.329340\n",
      "\t - MRR@20    epoch 9: 0.100425\n",
      "\n"
     ]
    },
    {
     "name": "stderr",
     "output_type": "stream",
     "text": [
      "Train:  98%|█████████▊| 4499/4609 [01:10<00:01, 63.79it/s, accuracy=0.0703, train_loss=5.66] \n",
      "Evaluation:  59%|█████▉    | 283/481 [03:06<02:10,  1.51it/s]\n",
      "Train:   0%|          | 0/4609 [00:00<?, ?it/s, accuracy=0.0938, train_loss=5.01]"
     ]
    },
    {
     "name": "stdout",
     "output_type": "stream",
     "text": [
      "\t - Recall@20 epoch 10: 0.332183\n",
      "\t - MRR@20    epoch 10: 0.100892\n",
      "\n"
     ]
    },
    {
     "name": "stderr",
     "output_type": "stream",
     "text": [
      "Train:  98%|█████████▊| 4499/4609 [01:10<00:01, 63.48it/s, accuracy=0.0781, train_loss=5.6]  \n",
      "Evaluation:  59%|█████▉    | 283/481 [03:06<02:10,  1.52it/s]\n",
      "Train:   0%|          | 0/4609 [00:00<?, ?it/s, accuracy=0.0859, train_loss=4.98]"
     ]
    },
    {
     "name": "stdout",
     "output_type": "stream",
     "text": [
      "\t - Recall@20 epoch 11: 0.330858\n",
      "\t - MRR@20    epoch 11: 0.101398\n",
      "\n"
     ]
    },
    {
     "name": "stderr",
     "output_type": "stream",
     "text": [
      "Train:  98%|█████████▊| 4499/4609 [01:10<00:01, 63.66it/s, accuracy=0.0547, train_loss=5.6]  \n",
      "Evaluation:  59%|█████▉    | 283/481 [03:07<02:10,  1.51it/s]\n",
      "Train:   0%|          | 0/4609 [00:00<?, ?it/s, accuracy=0.0938, train_loss=4.94]"
     ]
    },
    {
     "name": "stdout",
     "output_type": "stream",
     "text": [
      "\t - Recall@20 epoch 12: 0.329781\n",
      "\t - MRR@20    epoch 12: 0.101582\n",
      "\n"
     ]
    },
    {
     "name": "stderr",
     "output_type": "stream",
     "text": [
      "Train:  98%|█████████▊| 4499/4609 [01:11<00:01, 63.15it/s, accuracy=0.0703, train_loss=5.59] \n",
      "Evaluation:  59%|█████▉    | 283/481 [03:06<02:10,  1.51it/s]\n",
      "Train:   0%|          | 0/4609 [00:00<?, ?it/s, accuracy=0.0547, train_loss=5]    "
     ]
    },
    {
     "name": "stdout",
     "output_type": "stream",
     "text": [
      "\t - Recall@20 epoch 13: 0.328622\n",
      "\t - MRR@20    epoch 13: 0.101302\n",
      "\n"
     ]
    },
    {
     "name": "stderr",
     "output_type": "stream",
     "text": [
      "Train:  98%|█████████▊| 4499/4609 [01:10<00:01, 63.72it/s, accuracy=0.0781, train_loss=5.5]  \n",
      "Evaluation:  59%|█████▉    | 283/481 [03:07<02:11,  1.51it/s]\n",
      "Train:   0%|          | 0/4609 [00:00<?, ?it/s, accuracy=0.0938, train_loss=4.92]"
     ]
    },
    {
     "name": "stdout",
     "output_type": "stream",
     "text": [
      "\t - Recall@20 epoch 14: 0.328926\n",
      "\t - MRR@20    epoch 14: 0.101292\n",
      "\n"
     ]
    },
    {
     "name": "stderr",
     "output_type": "stream",
     "text": [
      "Train:  98%|█████████▊| 4499/4609 [01:10<00:01, 63.38it/s, accuracy=0.0391, train_loss=5.56] \n",
      "Evaluation:  59%|█████▉    | 283/481 [03:06<02:10,  1.52it/s]\n",
      "Train:   0%|          | 0/4609 [00:00<?, ?it/s, accuracy=0.0859, train_loss=4.91]"
     ]
    },
    {
     "name": "stdout",
     "output_type": "stream",
     "text": [
      "\t - Recall@20 epoch 15: 0.330444\n",
      "\t - MRR@20    epoch 15: 0.101636\n",
      "\n"
     ]
    },
    {
     "name": "stderr",
     "output_type": "stream",
     "text": [
      "Train:  98%|█████████▊| 4499/4609 [01:09<00:01, 64.41it/s, accuracy=0.0938, train_loss=5.54] \n",
      "Evaluation:  59%|█████▉    | 283/481 [03:07<02:11,  1.51it/s]\n",
      "Train:   0%|          | 0/4609 [00:00<?, ?it/s, accuracy=0.0703, train_loss=4.9] "
     ]
    },
    {
     "name": "stdout",
     "output_type": "stream",
     "text": [
      "\t - Recall@20 epoch 16: 0.329975\n",
      "\t - MRR@20    epoch 16: 0.101776\n",
      "\n"
     ]
    },
    {
     "name": "stderr",
     "output_type": "stream",
     "text": [
      "Train:  98%|█████████▊| 4499/4609 [01:10<00:01, 63.54it/s, accuracy=0.0625, train_loss=5.54] \n",
      "Evaluation:  59%|█████▉    | 283/481 [03:05<02:10,  1.52it/s]\n",
      "Train:   0%|          | 0/4609 [00:00<?, ?it/s, accuracy=0.102, train_loss=4.89] "
     ]
    },
    {
     "name": "stdout",
     "output_type": "stream",
     "text": [
      "\t - Recall@20 epoch 17: 0.330002\n",
      "\t - MRR@20    epoch 17: 0.101295\n",
      "\n"
     ]
    },
    {
     "name": "stderr",
     "output_type": "stream",
     "text": [
      "Train:  98%|█████████▊| 4499/4609 [01:09<00:01, 64.50it/s, accuracy=0.0625, train_loss=5.58] \n",
      "Evaluation:  59%|█████▉    | 283/481 [03:07<02:11,  1.51it/s]\n",
      "Train:   0%|          | 0/4609 [00:00<?, ?it/s, accuracy=0.0312, train_loss=5.02]"
     ]
    },
    {
     "name": "stdout",
     "output_type": "stream",
     "text": [
      "\t - Recall@20 epoch 18: 0.330665\n",
      "\t - MRR@20    epoch 18: 0.101731\n",
      "\n"
     ]
    },
    {
     "name": "stderr",
     "output_type": "stream",
     "text": [
      "Train:  98%|█████████▊| 4499/4609 [01:09<00:01, 64.52it/s, accuracy=0.0547, train_loss=5.51] \n",
      "Evaluation:  59%|█████▉    | 283/481 [03:06<02:10,  1.52it/s]\n",
      "Train:   0%|          | 0/4609 [00:00<?, ?it/s, accuracy=0.0859, train_loss=4.88] "
     ]
    },
    {
     "name": "stdout",
     "output_type": "stream",
     "text": [
      "\t - Recall@20 epoch 19: 0.329699\n",
      "\t - MRR@20    epoch 19: 0.101280\n",
      "\n"
     ]
    },
    {
     "name": "stderr",
     "output_type": "stream",
     "text": [
      "Train:  98%|█████████▊| 4499/4609 [01:10<00:01, 63.87it/s, accuracy=0.0547, train_loss=5.54] \n",
      "Evaluation:  59%|█████▉    | 283/481 [03:06<02:10,  1.51it/s]"
     ]
    },
    {
     "name": "stdout",
     "output_type": "stream",
     "text": [
      "\t - Recall@20 epoch 20: 0.329975\n",
      "\t - MRR@20    epoch 20: 0.101644\n",
      "\n"
     ]
    },
    {
     "name": "stderr",
     "output_type": "stream",
     "text": [
      "\n"
     ]
    }
   ],
   "source": [
    "train_model(model, args)"
   ]
  },
  {
   "cell_type": "code",
   "execution_count": 79,
   "id": "devoted-personal",
   "metadata": {},
   "outputs": [
    {
     "name": "stderr",
     "output_type": "stream",
     "text": [
      "Evaluation:  83%|████████▎ | 1155/1395 [13:17<02:45,  1.45it/s]"
     ]
    },
    {
     "name": "stdout",
     "output_type": "stream",
     "text": [
      "\t - Recall@20: 0.267289\n",
      "\t - MRR@20: 0.080439\n",
      "\n"
     ]
    },
    {
     "name": "stderr",
     "output_type": "stream",
     "text": [
      "\n"
     ]
    }
   ],
   "source": [
    "def test_model(model, args, test):\n",
    "    test_recall, test_mrr = get_metrics(test, model, args, 20)\n",
    "    print(f\"\\t - Recall@{args.k}: {test_recall:3f}\")\n",
    "    print(f\"\\t - MRR@{args.k}: {test_mrr:3f}\\n\")\n",
    "\n",
    "test_model(model, args, test)"
   ]
  },
  {
   "cell_type": "markdown",
   "id": "roman-tamil",
   "metadata": {},
   "source": [
    "## 7. 모델 테스트(3)"
   ]
  },
  {
   "cell_type": "code",
   "execution_count": 83,
   "id": "boring-birmingham",
   "metadata": {},
   "outputs": [],
   "source": [
    "args = Args(train, val, test, batch_size=128, hsz=50, drop_rate=0.1, lr=0.001, epochs=20, k=5)"
   ]
  },
  {
   "cell_type": "code",
   "execution_count": 84,
   "id": "fancy-processing",
   "metadata": {},
   "outputs": [
    {
     "name": "stdout",
     "output_type": "stream",
     "text": [
      "Model: \"model_8\"\n",
      "_________________________________________________________________\n",
      "Layer (type)                 Output Shape              Param #   \n",
      "=================================================================\n",
      "input_9 (InputLayer)         [(128, 1, 3556)]          0         \n",
      "_________________________________________________________________\n",
      "GRU (GRU)                    [(128, 50), (128, 50)]    541200    \n",
      "_________________________________________________________________\n",
      "dropout_8 (Dropout)          (128, 50)                 0         \n",
      "_________________________________________________________________\n",
      "dense_8 (Dense)              (128, 3556)               181356    \n",
      "=================================================================\n",
      "Total params: 722,556\n",
      "Trainable params: 722,556\n",
      "Non-trainable params: 0\n",
      "_________________________________________________________________\n"
     ]
    }
   ],
   "source": [
    "model = create_model(args)"
   ]
  },
  {
   "cell_type": "code",
   "execution_count": 85,
   "id": "designing-inclusion",
   "metadata": {},
   "outputs": [
    {
     "name": "stderr",
     "output_type": "stream",
     "text": [
      "Train:  98%|█████████▊| 4499/4609 [01:10<00:01, 63.46it/s, accuracy=0.00781, train_loss=6.48]\n",
      "Evaluation:  59%|█████▉    | 283/481 [01:22<00:57,  3.41it/s]\n",
      "Train:   0%|          | 0/4609 [00:00<?, ?it/s, accuracy=0.0312, train_loss=5.97] "
     ]
    },
    {
     "name": "stdout",
     "output_type": "stream",
     "text": [
      "\t - Recall@5 epoch 1: 0.067414\n",
      "\t - MRR@5    epoch 1: 0.034321\n",
      "\n"
     ]
    },
    {
     "name": "stderr",
     "output_type": "stream",
     "text": [
      "Train:  98%|█████████▊| 4499/4609 [01:10<00:01, 64.21it/s, accuracy=0.0156, train_loss=6.1]  \n",
      "Evaluation:  59%|█████▉    | 283/481 [01:22<00:57,  3.45it/s]\n",
      "Train:   0%|          | 0/4609 [00:00<?, ?it/s, accuracy=0.0625, train_loss=5.38] "
     ]
    },
    {
     "name": "stdout",
     "output_type": "stream",
     "text": [
      "\t - Recall@5 epoch 2: 0.104019\n",
      "\t - MRR@5    epoch 2: 0.055470\n",
      "\n"
     ]
    },
    {
     "name": "stderr",
     "output_type": "stream",
     "text": [
      "Train:  98%|█████████▊| 4499/4609 [01:09<00:01, 64.52it/s, accuracy=0.0391, train_loss=5.89] \n",
      "Evaluation:  59%|█████▉    | 283/481 [01:21<00:57,  3.46it/s]\n",
      "Train:   0%|          | 0/4609 [00:00<?, ?it/s, accuracy=0.0391, train_loss=5.21] "
     ]
    },
    {
     "name": "stdout",
     "output_type": "stream",
     "text": [
      "\t - Recall@5 epoch 3: 0.119727\n",
      "\t - MRR@5    epoch 3: 0.065260\n",
      "\n"
     ]
    },
    {
     "name": "stderr",
     "output_type": "stream",
     "text": [
      "Train:  98%|█████████▊| 4499/4609 [01:09<00:01, 64.36it/s, accuracy=0.0547, train_loss=5.77] \n",
      "Evaluation:  59%|█████▉    | 283/481 [01:21<00:57,  3.47it/s]\n",
      "Train:   0%|          | 0/4609 [00:00<?, ?it/s, accuracy=0.0625, train_loss=5.17] "
     ]
    },
    {
     "name": "stdout",
     "output_type": "stream",
     "text": [
      "\t - Recall@5 epoch 4: 0.129527\n",
      "\t - MRR@5    epoch 4: 0.070252\n",
      "\n"
     ]
    },
    {
     "name": "stderr",
     "output_type": "stream",
     "text": [
      "Train:  98%|█████████▊| 4499/4609 [01:09<00:01, 64.58it/s, accuracy=0.0469, train_loss=5.75] \n",
      "Evaluation:  59%|█████▉    | 283/481 [01:21<00:56,  3.48it/s]\n",
      "Train:   0%|          | 0/4609 [00:00<?, ?it/s, accuracy=0.0625, train_loss=5.1]  "
     ]
    },
    {
     "name": "stdout",
     "output_type": "stream",
     "text": [
      "\t - Recall@5 epoch 5: 0.137671\n",
      "\t - MRR@5    epoch 5: 0.074554\n",
      "\n"
     ]
    },
    {
     "name": "stderr",
     "output_type": "stream",
     "text": [
      "Train:  98%|█████████▊| 4499/4609 [01:11<00:01, 63.24it/s, accuracy=0.0625, train_loss=5.73] \n",
      "Evaluation:  59%|█████▉    | 283/481 [01:20<00:56,  3.52it/s]\n",
      "Train:   0%|          | 0/4609 [00:00<?, ?it/s, accuracy=0.0703, train_loss=5.05] "
     ]
    },
    {
     "name": "stdout",
     "output_type": "stream",
     "text": [
      "\t - Recall@5 epoch 6: 0.142861\n",
      "\t - MRR@5    epoch 6: 0.077675\n",
      "\n"
     ]
    },
    {
     "name": "stderr",
     "output_type": "stream",
     "text": [
      "Train:  98%|█████████▊| 4499/4609 [01:09<00:01, 64.60it/s, accuracy=0.0469, train_loss=5.7]  \n",
      "Evaluation:  59%|█████▉    | 283/481 [01:21<00:56,  3.49it/s]\n",
      "Train:   0%|          | 0/4609 [00:00<?, ?it/s, accuracy=0.0781, train_loss=5.02] "
     ]
    },
    {
     "name": "stdout",
     "output_type": "stream",
     "text": [
      "\t - Recall@5 epoch 7: 0.144407\n",
      "\t - MRR@5    epoch 7: 0.079316\n",
      "\n"
     ]
    },
    {
     "name": "stderr",
     "output_type": "stream",
     "text": [
      "Train:  98%|█████████▊| 4499/4609 [01:10<00:01, 63.83it/s, accuracy=0.0547, train_loss=5.68] \n",
      "Evaluation:  59%|█████▉    | 283/481 [01:21<00:56,  3.49it/s]\n",
      "Train:   0%|          | 0/4609 [00:00<?, ?it/s, accuracy=0.0703, train_loss=4.97] "
     ]
    },
    {
     "name": "stdout",
     "output_type": "stream",
     "text": [
      "\t - Recall@5 epoch 8: 0.147499\n",
      "\t - MRR@5    epoch 8: 0.081540\n",
      "\n"
     ]
    },
    {
     "name": "stderr",
     "output_type": "stream",
     "text": [
      "Train:  98%|█████████▊| 4499/4609 [01:09<00:01, 64.64it/s, accuracy=0.0859, train_loss=5.66] \n",
      "Evaluation:  59%|█████▉    | 283/481 [01:21<00:56,  3.49it/s]\n",
      "Train:   0%|          | 0/4609 [00:00<?, ?it/s, accuracy=0.0625, train_loss=4.92] "
     ]
    },
    {
     "name": "stdout",
     "output_type": "stream",
     "text": [
      "\t - Recall@5 epoch 9: 0.148299\n",
      "\t - MRR@5    epoch 9: 0.082897\n",
      "\n"
     ]
    },
    {
     "name": "stderr",
     "output_type": "stream",
     "text": [
      "Train:  98%|█████████▊| 4499/4609 [01:11<00:01, 62.81it/s, accuracy=0.0625, train_loss=5.62] \n",
      "Evaluation:  59%|█████▉    | 283/481 [01:20<00:56,  3.53it/s]\n",
      "Train:   0%|          | 0/4609 [00:00<?, ?it/s, accuracy=0.0938, train_loss=4.91] "
     ]
    },
    {
     "name": "stdout",
     "output_type": "stream",
     "text": [
      "\t - Recall@5 epoch 10: 0.150011\n",
      "\t - MRR@5    epoch 10: 0.083333\n",
      "\n"
     ]
    },
    {
     "name": "stderr",
     "output_type": "stream",
     "text": [
      "Train:  98%|█████████▊| 4499/4609 [01:09<00:01, 64.62it/s, accuracy=0.0625, train_loss=5.56] \n",
      "Evaluation:  59%|█████▉    | 283/481 [01:20<00:56,  3.52it/s]\n",
      "Train:   0%|          | 0/4609 [00:00<?, ?it/s, accuracy=0.0703, train_loss=4.99] "
     ]
    },
    {
     "name": "stdout",
     "output_type": "stream",
     "text": [
      "\t - Recall@5 epoch 11: 0.150563\n",
      "\t - MRR@5    epoch 11: 0.084061\n",
      "\n"
     ]
    },
    {
     "name": "stderr",
     "output_type": "stream",
     "text": [
      "Train:  98%|█████████▊| 4499/4609 [01:10<00:01, 63.60it/s, accuracy=0.0859, train_loss=5.51] \n",
      "Evaluation:  59%|█████▉    | 283/481 [01:20<00:56,  3.50it/s]\n",
      "Train:   0%|          | 0/4609 [00:00<?, ?it/s, accuracy=0.0703, train_loss=4.95]"
     ]
    },
    {
     "name": "stdout",
     "output_type": "stream",
     "text": [
      "\t - Recall@5 epoch 12: 0.150618\n",
      "\t - MRR@5    epoch 12: 0.084302\n",
      "\n"
     ]
    },
    {
     "name": "stderr",
     "output_type": "stream",
     "text": [
      "Train:  98%|█████████▊| 4499/4609 [01:09<00:01, 64.70it/s, accuracy=0.0859, train_loss=5.55] \n",
      "Evaluation:  59%|█████▉    | 283/481 [01:20<00:56,  3.50it/s]\n",
      "Train:   0%|          | 0/4609 [00:00<?, ?it/s, accuracy=0.0703, train_loss=4.92]"
     ]
    },
    {
     "name": "stdout",
     "output_type": "stream",
     "text": [
      "\t - Recall@5 epoch 13: 0.151281\n",
      "\t - MRR@5    epoch 13: 0.084108\n",
      "\n"
     ]
    },
    {
     "name": "stderr",
     "output_type": "stream",
     "text": [
      "Train:  98%|█████████▊| 4499/4609 [01:10<00:01, 63.63it/s, accuracy=0.0625, train_loss=5.56] \n",
      "Evaluation:  59%|█████▉    | 283/481 [01:20<00:56,  3.52it/s]\n",
      "Train:   0%|          | 0/4609 [00:00<?, ?it/s, accuracy=0.117, train_loss=4.95] "
     ]
    },
    {
     "name": "stdout",
     "output_type": "stream",
     "text": [
      "\t - Recall@5 epoch 14: 0.151281\n",
      "\t - MRR@5    epoch 14: 0.084261\n",
      "\n"
     ]
    },
    {
     "name": "stderr",
     "output_type": "stream",
     "text": [
      "Train:  98%|█████████▊| 4499/4609 [01:09<00:01, 64.76it/s, accuracy=0.0703, train_loss=5.54] \n",
      "Evaluation:  59%|█████▉    | 283/481 [01:20<00:56,  3.52it/s]\n",
      "Train:   0%|          | 0/4609 [00:00<?, ?it/s, accuracy=0.0781, train_loss=4.91]"
     ]
    },
    {
     "name": "stdout",
     "output_type": "stream",
     "text": [
      "\t - Recall@5 epoch 15: 0.151364\n",
      "\t - MRR@5    epoch 15: 0.084291\n",
      "\n"
     ]
    },
    {
     "name": "stderr",
     "output_type": "stream",
     "text": [
      "Train:  98%|█████████▊| 4499/4609 [01:09<00:01, 64.68it/s, accuracy=0.102, train_loss=5.45]  \n",
      "Evaluation:  59%|█████▉    | 283/481 [01:20<00:56,  3.49it/s]\n",
      "Train:   0%|          | 0/4609 [00:00<?, ?it/s, accuracy=0.0938, train_loss=4.86]"
     ]
    },
    {
     "name": "stdout",
     "output_type": "stream",
     "text": [
      "\t - Recall@5 epoch 16: 0.152496\n",
      "\t - MRR@5    epoch 16: 0.084955\n",
      "\n"
     ]
    },
    {
     "name": "stderr",
     "output_type": "stream",
     "text": [
      "Train:  98%|█████████▊| 4499/4609 [01:09<00:01, 64.38it/s, accuracy=0.0859, train_loss=5.5]  \n",
      "Evaluation:  59%|█████▉    | 283/481 [01:20<00:56,  3.52it/s]\n",
      "Train:   0%|          | 0/4609 [00:00<?, ?it/s, accuracy=0.0703, train_loss=4.92]"
     ]
    },
    {
     "name": "stdout",
     "output_type": "stream",
     "text": [
      "\t - Recall@5 epoch 17: 0.152192\n",
      "\t - MRR@5    epoch 17: 0.084997\n",
      "\n"
     ]
    },
    {
     "name": "stderr",
     "output_type": "stream",
     "text": [
      "Train:  98%|█████████▊| 4499/4609 [01:10<00:01, 63.73it/s, accuracy=0.0859, train_loss=5.47] \n",
      "Evaluation:  59%|█████▉    | 283/481 [01:20<00:56,  3.52it/s]\n",
      "Train:   0%|          | 0/4609 [00:00<?, ?it/s, accuracy=0.0859, train_loss=4.9] "
     ]
    },
    {
     "name": "stdout",
     "output_type": "stream",
     "text": [
      "\t - Recall@5 epoch 18: 0.151612\n",
      "\t - MRR@5    epoch 18: 0.084898\n",
      "\n"
     ]
    },
    {
     "name": "stderr",
     "output_type": "stream",
     "text": [
      "Train:  98%|█████████▊| 4499/4609 [01:09<00:01, 64.56it/s, accuracy=0.0703, train_loss=5.54] \n",
      "Evaluation:  59%|█████▉    | 283/481 [01:20<00:56,  3.52it/s]\n",
      "Train:   0%|          | 0/4609 [00:00<?, ?it/s, accuracy=0.0547, train_loss=4.92]"
     ]
    },
    {
     "name": "stdout",
     "output_type": "stream",
     "text": [
      "\t - Recall@5 epoch 19: 0.152716\n",
      "\t - MRR@5    epoch 19: 0.084721\n",
      "\n"
     ]
    },
    {
     "name": "stderr",
     "output_type": "stream",
     "text": [
      "Train:  98%|█████████▊| 4499/4609 [01:10<00:01, 63.84it/s, accuracy=0.0781, train_loss=5.41] \n",
      "Evaluation:  59%|█████▉    | 283/481 [01:20<00:56,  3.52it/s]"
     ]
    },
    {
     "name": "stdout",
     "output_type": "stream",
     "text": [
      "\t - Recall@5 epoch 20: 0.152385\n",
      "\t - MRR@5    epoch 20: 0.084732\n",
      "\n"
     ]
    },
    {
     "name": "stderr",
     "output_type": "stream",
     "text": [
      "\n"
     ]
    }
   ],
   "source": [
    "train_model(model, args)"
   ]
  },
  {
   "cell_type": "code",
   "execution_count": 86,
   "id": "furnished-litigation",
   "metadata": {},
   "outputs": [
    {
     "name": "stderr",
     "output_type": "stream",
     "text": [
      "Evaluation:  83%|████████▎ | 1155/1395 [13:19<02:46,  1.44it/s]"
     ]
    },
    {
     "name": "stdout",
     "output_type": "stream",
     "text": [
      "\t - Recall@5: 0.267438\n",
      "\t - MRR@5: 0.079391\n",
      "\n"
     ]
    },
    {
     "name": "stderr",
     "output_type": "stream",
     "text": [
      "\n"
     ]
    }
   ],
   "source": [
    "def test_model(model, args, test):\n",
    "    test_recall, test_mrr = get_metrics(test, model, args, 20)\n",
    "    print(f\"\\t - Recall@{args.k}: {test_recall:3f}\")\n",
    "    print(f\"\\t - MRR@{args.k}: {test_mrr:3f}\\n\")\n",
    "\n",
    "test_model(model, args, test)"
   ]
  },
  {
   "cell_type": "markdown",
   "id": "ranging-woman",
   "metadata": {},
   "source": [
    "## 8. 결과"
   ]
  },
  {
   "cell_type": "markdown",
   "id": "scheduled-frequency",
   "metadata": {},
   "source": [
    "### 전처리 방법\n",
    "- rating 3점 이하 제거\n",
    "- 이상치 제거(가장 많은 리뷰 수를 가진 userID 제거)\n",
    "- 결측치 확인\n",
    "\n",
    "\n",
    "### 추천 시스템 모델 성능 지표\n",
    "제시된 추천 리스트가 유저에게 적합한 영화인지 여부를 판단하는 것이 성능 평가에 가장 중요한 요소\n",
    "- Precision@K : 추천된 K개의 영화 목록 중 몇개의 영화를 좋아하는가\n",
    "- Recall@K : 추천된 K개의 영화 목록 중 몇개의 영화들이 선택되었는가\n",
    "- MRR@K : 추천된 K개의 영화 목록들 중 어느정도 순위로 추천하였는가\n",
    "    \n",
    "    \n",
    "### 모델 테스트 결과\n",
    "모델 1. Recall@20: 0.279472, MRR@20: 0.085910     \n",
    "모델 2. Recall@20: 0.267289, MRR@20: 0.080439       \n",
    "모델 3. Recall@5: 0.267438, MRR@5: 0.079391   \n",
    "\n",
    "모델1이 가장 좋은 성능이 나옴.    \n",
    "k값의 차이도 성능에 영향이 있음을 알 수 있음."
   ]
  }
 ],
 "metadata": {
  "kernelspec": {
   "display_name": "Python 3",
   "language": "python",
   "name": "python3"
  }
 },
 "nbformat": 4,
 "nbformat_minor": 5
}
