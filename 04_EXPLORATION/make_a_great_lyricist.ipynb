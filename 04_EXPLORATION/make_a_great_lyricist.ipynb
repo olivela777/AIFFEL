{
 "cells": [
  {
   "cell_type": "markdown",
   "id": "liberal-alberta",
   "metadata": {},
   "source": [
    "# [EX4] 멋진 작사가 만들기"
   ]
  },
  {
   "cell_type": "markdown",
   "id": "corrected-decade",
   "metadata": {},
   "source": [
    "#### * 목표\n",
    "작사하는 모델 만들기\n",
    "\n",
    "#### * 목차\n",
    "1. 데이터 다운로드      \n",
    "2. 라이브러리 import    \n",
    "3. 데이터 준비       \n",
    " 1) 데이터 읽어오기      \n",
    " 2) 데이터 정제     \n",
    " 3) tokenizer 및 padding     \n",
    " 4) tensor, tokenizer 확인      \n",
    "4. 평가 데이터셋 분리       \n",
    " 1) 소스문장, 타겟문장 생성   \n",
    " 2) train, test test 분리    \n",
    "5. 모델 학습 준비      \n",
    " 1) Embedding 레이어 생성        \n",
    " 2) 데이터셋 객체 생성    \n",
    " 3) model에 데이터 배치 테스트     \n",
    " 4) summary 확인        \n",
    "6. 모델 학습     \n",
    "7. 모델 테스트     \n",
    "8. 회고        "
   ]
  },
  {
   "cell_type": "markdown",
   "id": "artistic-habitat",
   "metadata": {},
   "source": [
    "## 1. 데이터 다운로드"
   ]
  },
  {
   "cell_type": "code",
   "execution_count": 1,
   "id": "political-french",
   "metadata": {},
   "outputs": [
    {
     "name": "stdout",
     "output_type": "stream",
     "text": [
      "download success\n"
     ]
    }
   ],
   "source": [
    "# wget https://d3s0tskafalll9.cloudfront.net/media/documents/song_lyrics.zip\n",
    "# unzip song_lyrics.zip -d ~/aiffel/lyricist/data/lyrics\n",
    "\n",
    "# 또는 https://www.kaggle.com/paultimothymooney/poetry/data 에서 다운로드\n",
    "\n",
    "print('download success')"
   ]
  },
  {
   "cell_type": "markdown",
   "id": "specific-america",
   "metadata": {},
   "source": [
    "## 2. 라이브러리 Import"
   ]
  },
  {
   "cell_type": "code",
   "execution_count": 2,
   "id": "federal-enforcement",
   "metadata": {},
   "outputs": [
    {
     "name": "stdout",
     "output_type": "stream",
     "text": [
      "import success\n"
     ]
    }
   ],
   "source": [
    "import glob\n",
    "import os\n",
    "import re\n",
    "import tensorflow as tf   \n",
    "from sklearn.model_selection import train_test_split\n",
    "\n",
    "#import numpy as np         \n",
    "#import tensorflow as tf    \n",
    "\n",
    "print('import success')"
   ]
  },
  {
   "cell_type": "markdown",
   "id": "integrated-liberal",
   "metadata": {},
   "source": [
    "## 3. 데이터 준비"
   ]
  },
  {
   "cell_type": "markdown",
   "id": "motivated-supervision",
   "metadata": {},
   "source": [
    "#### 1) 데이터 읽어오기"
   ]
  },
  {
   "cell_type": "code",
   "execution_count": 3,
   "id": "friendly-grill",
   "metadata": {},
   "outputs": [
    {
     "name": "stdout",
     "output_type": "stream",
     "text": [
      "데이터 크기: 187088\n",
      "Examples:\n",
      " ['At first I was afraid', 'I was petrified', 'I kept thinking I could never live without you']\n"
     ]
    }
   ],
   "source": [
    "txt_file_path = os.getenv('HOME') + '/aiffel/lyricist/data/lyrics/*' # 파일 경로\n",
    "\n",
    "txt_list = glob.glob(txt_file_path) # glob 모듈을 사용하여 파일 내용 읽기\n",
    "\n",
    "raw_corpus = []\n",
    "\n",
    "# 여러개의 txt 파일을 모두 읽어서 raw_corpus 에 담기\n",
    "for txt_file in txt_list:\n",
    "    with open(txt_file, \"r\") as f:\n",
    "        raw = f.read().splitlines() # txt 파일 읽기\n",
    "        raw_corpus.extend(raw) # raw_corpus 리스트에 문장 단위로 저장\n",
    "\n",
    "print(\"데이터 크기:\", len(raw_corpus))\n",
    "print(\"Examples:\\n\", raw_corpus[:3]) # 문장 확인"
   ]
  },
  {
   "cell_type": "markdown",
   "id": "genetic-white",
   "metadata": {},
   "source": [
    "#### 2) 데이터 정제 "
   ]
  },
  {
   "cell_type": "code",
   "execution_count": 4,
   "id": "ready-highland",
   "metadata": {},
   "outputs": [
    {
     "data": {
      "text/plain": [
       "['<start> at first i was afraid <end>',\n",
       " '<start> i was petrified <end>',\n",
       " '<start> i kept thinking i could never live without you <end>',\n",
       " '<start> by my side but then i spent so many nights <end>',\n",
       " '<start> just thinking how you ve done me wrong <end>',\n",
       " '<start> i grew strong <end>',\n",
       " '<start> i learned how to get along and so you re back <end>',\n",
       " '<start> from outer space <end>',\n",
       " '<start> i just walked in to find you <end>',\n",
       " '<start> i would have made you leave your key <end>']"
      ]
     },
     "execution_count": 4,
     "metadata": {},
     "output_type": "execute_result"
    }
   ],
   "source": [
    "# 정규표현식(Regex)을 이용한 필터링\n",
    "def preprocess_sentence(sentence):\n",
    "    sentence = sentence.lower().strip() # 소문자로 바꾸고, 양쪽 공백을 지움\n",
    "    sentence = re.sub(r\"([?.!,¿])\", r\" \\1 \", sentence) # 특수문자 양쪽에 공백을 넣고\n",
    "    sentence = re.sub(r'[\" \"]+', \" \", sentence) # 여러개의 공백은 하나의 공백으로 바꿈\n",
    "    sentence = re.sub(r\"[^a-zA-Z?.!,¿]+\", \" \", sentence) #  a-zA-Z?.!,¿가 아닌 모든 문자를 하나의 공백으로 바꿈\n",
    "    sentence = sentence.strip() # 다시 양쪽 공백을 지움\n",
    "    sentence = '<start> ' + sentence + ' <end>' # 문장 시작에는 <start>, 끝에는 <end>를 추가\n",
    "    return sentence\n",
    "    \n",
    "# corpus에 정제 문장 모으기\n",
    "corpus = []\n",
    "\n",
    "# 원하지 않는 문장은 건너뛰기\n",
    "for sentence in raw_corpus:\n",
    "    if len(sentence) == 0: continue  # 길이가 0인 문장 제외\n",
    "    if sentence[-1] == \":\": continue # : 로 끝나는 문장 제외\n",
    "    if len(sentence.split(' ')) > 13: continue # 13개 단어 이상 문장 제외\n",
    "                \n",
    "# 정제 후 담기\n",
    "    preprocessed_sentence = preprocess_sentence(sentence)\n",
    "    corpus.append(preprocessed_sentence)\n",
    "        \n",
    "corpus[:10] # 정제 결과 확인"
   ]
  },
  {
   "cell_type": "markdown",
   "id": "completed-hampton",
   "metadata": {},
   "source": [
    "#### 3) tokenizer 및 padding"
   ]
  },
  {
   "cell_type": "code",
   "execution_count": 5,
   "id": "thousand-computer",
   "metadata": {},
   "outputs": [
    {
     "name": "stdout",
     "output_type": "stream",
     "text": [
      "[[   2   71  256 ...    0    0    0]\n",
      " [   2    5   57 ...    0    0    0]\n",
      " [   2    5 1135 ...    0    0    0]\n",
      " ...\n",
      " [   2    8    5 ...    0    0    0]\n",
      " [   2   46   16 ...    0    0    0]\n",
      " [   2    6  176 ...    0    0    0]] <keras_preprocessing.text.Tokenizer object at 0x7f437ddd35d0>\n"
     ]
    }
   ],
   "source": [
    "# 텐서플로우의 Tokenizer와 pad_sequences를 사용\n",
    "def tokenize(corpus):\n",
    "    tokenizer = tf.keras.preprocessing.text.Tokenizer(\n",
    "        num_words = 7000,  # 7000단어를 기억할 수 있는 tokenizer\n",
    "        filters = ' ', # 텍스트에서 필터링될 문자인 문자열\n",
    "        oov_token = \"<unk>\" # 7000단어에 포함되지 못한 단어는 '<unk>'로 바꿈\n",
    "    )\n",
    "    \n",
    "    # tokenize() 함수로 데이터를 Tensor로 변환\n",
    "    tokenizer.fit_on_texts(corpus) # corpus를 이용해 tokenizer 내부의 단어장을 완성\n",
    "    tensor = tokenizer.texts_to_sequences(corpus) # 준비한 tokenizer를 이용해 corpus를 Tensor로 변환\n",
    "    \n",
    "    # 입력 데이터의 시퀀스 길이를 일정하게 맞추기\n",
    "    # 만약 시퀀스가 짧다면 문장 뒤에 패딩을 붙여 길이를 맞춤\n",
    "    tensor = tf.keras.preprocessing.sequence.pad_sequences(tensor, padding='post')  \n",
    "    \n",
    "    print(tensor,tokenizer)\n",
    "    return tensor, tokenizer\n",
    "\n",
    "tensor, tokenizer = tokenize(corpus)"
   ]
  },
  {
   "cell_type": "markdown",
   "id": "external-constraint",
   "metadata": {},
   "source": [
    "#### 4) tensor, tokenizer 확인"
   ]
  },
  {
   "cell_type": "code",
   "execution_count": 6,
   "id": "cognitive-croatia",
   "metadata": {},
   "outputs": [
    {
     "name": "stdout",
     "output_type": "stream",
     "text": [
      "[[   2   71  256    5   57  666    3    0    0    0]\n",
      " [   2    5   57 6459    3    0    0    0    0    0]\n",
      " [   2    5 1135  512    5  104   79  200  257    7]]\n",
      "\n",
      "1 : <unk>\n",
      "2 : <start>\n",
      "3 : <end>\n",
      "4 : ,\n",
      "5 : i\n",
      "6 : the\n",
      "7 : you\n",
      "8 : and\n",
      "9 : a\n",
      "10 : to\n"
     ]
    }
   ],
   "source": [
    "# 생성된 텐서 데이터를 3번째 행, 10번째 열까지만 출력\n",
    "# 2은 <start>, 3은 <end>, 0은 <pad>\n",
    "print(tensor[:3, :10])\n",
    "print()\n",
    "\n",
    "# 단어사전 구축 확인(텐서 데이터는 모두 정수)\n",
    "# tokenizer에 구축된 단어 사전의 인덱스\n",
    "for idx in tokenizer.index_word:\n",
    "    print(idx, \":\", tokenizer.index_word[idx])\n",
    "\n",
    "    if idx >= 10: break"
   ]
  },
  {
   "cell_type": "markdown",
   "id": "virgin-commander",
   "metadata": {},
   "source": [
    "## 4. 평가 데이터셋 분리"
   ]
  },
  {
   "cell_type": "markdown",
   "id": "fitting-moscow",
   "metadata": {},
   "source": [
    "#### 1) 소스문장, 타겟 문장 생성"
   ]
  },
  {
   "cell_type": "code",
   "execution_count": 7,
   "id": "major-nerve",
   "metadata": {},
   "outputs": [
    {
     "name": "stdout",
     "output_type": "stream",
     "text": [
      "[  2  71 256   5  57 666   3   0   0   0   0   0   0   0   0   0   0   0\n",
      "   0   0   0   0   0   0   0   0   0   0   0   0   0   0]\n",
      "[ 71 256   5  57 666   3   0   0   0   0   0   0   0   0   0   0   0   0\n",
      "   0   0   0   0   0   0   0   0   0   0   0   0   0   0]\n"
     ]
    }
   ],
   "source": [
    "src_input = tensor[:, :-1] # tensor에서 마지막 토큰을 잘라내서 소스 문장을 생성\n",
    "tgt_input = tensor[:, 1:] # tensor에서 <start>를 잘라내서 타겟 문장을 생성   \n",
    "\n",
    "print(src_input[0])\n",
    "print(tgt_input[0])"
   ]
  },
  {
   "cell_type": "markdown",
   "id": "statutory-western",
   "metadata": {},
   "source": [
    "#### 2) train, test set 분리"
   ]
  },
  {
   "cell_type": "code",
   "execution_count": 8,
   "id": "applicable-reserve",
   "metadata": {},
   "outputs": [
    {
     "name": "stdout",
     "output_type": "stream",
     "text": [
      "Source Train: (130250, 32)\n",
      "Target Train: (130250, 32)\n"
     ]
    }
   ],
   "source": [
    "# sklearn 모듈의 train_test_split() 함수를 사용해 훈련 데이터와 평가 데이터를 분리\n",
    "enc_train, enc_val, dec_train, dec_val  = train_test_split(src_input, \n",
    "                                                          tgt_input,\n",
    "                                                          test_size=0.2,\n",
    "                                                          random_state=32)\n",
    "print(\"Source Train:\", enc_train.shape)\n",
    "print(\"Target Train:\", dec_train.shape) # <end> 제외"
   ]
  },
  {
   "cell_type": "markdown",
   "id": "severe-darwin",
   "metadata": {},
   "source": [
    "## 5. 모델 학습 준비"
   ]
  },
  {
   "cell_type": "markdown",
   "id": "signed-trainer",
   "metadata": {},
   "source": [
    "#### 1) Embedding 레이어 생성"
   ]
  },
  {
   "cell_type": "code",
   "execution_count": 9,
   "id": "acoustic-concrete",
   "metadata": {},
   "outputs": [
    {
     "name": "stdout",
     "output_type": "stream",
     "text": [
      "Embedding success\n"
     ]
    }
   ],
   "source": [
    "class TextGenerator(tf.keras.Model):\n",
    "    def __init__(self, vocab_size, embedding_size, hidden_size):\n",
    "        super(TextGenerator, self).__init__()\n",
    "        \n",
    "        # embedding_size 는 워드 벡터의 차원수, 즉 단어가 추상적으로 표현되는 크기\n",
    "        self.embedding = tf.keras.layers.Embedding(vocab_size, embedding_size)\n",
    "        self.rnn_1 = tf.keras.layers.LSTM(hidden_size, return_sequences=True)\n",
    "        self.rnn_2 = tf.keras.layers.LSTM(hidden_size, return_sequences=True)\n",
    "        self.linear = tf.keras.layers.Dense(vocab_size)\n",
    "        \n",
    "    def call(self, x):\n",
    "        out = self.embedding(x)\n",
    "        out = self.rnn_1(out)\n",
    "        out = self.rnn_2(out)\n",
    "        out = self.linear(out)\n",
    "        \n",
    "        return out\n",
    "\n",
    "embedding_size = 32 # 벡터 차원의 수, 값이 커질수록 단어의 추상적인 특징들을 더 잡아낼 수 있음\n",
    "hidden_size = 2048 # LSTM 레이어의 hidden state 의 차원수\n",
    "model = TextGenerator(tokenizer.num_words + 1, embedding_size , hidden_size)\n",
    "\n",
    "print('Embedding success')"
   ]
  },
  {
   "cell_type": "markdown",
   "id": "sorted-david",
   "metadata": {},
   "source": [
    "#### 2) 데이터셋 객체 생성"
   ]
  },
  {
   "cell_type": "code",
   "execution_count": 10,
   "id": "breathing-pollution",
   "metadata": {},
   "outputs": [
    {
     "data": {
      "text/plain": [
       "<BatchDataset shapes: ((256, 32), (256, 32)), types: (tf.int32, tf.int32)>"
      ]
     },
     "execution_count": 10,
     "metadata": {},
     "output_type": "execute_result"
    }
   ],
   "source": [
    "# tf.data.Dataset.from_tensor_slices() 메소드를 이용해 tf.data.Dataset객체를 생성\n",
    "BUFFER_SIZE = len(src_input)\n",
    "BATCH_SIZE = 256\n",
    "steps_per_epoch = len(src_input) // BATCH_SIZE\n",
    "\n",
    "# tokenizer가 구축한 단어사전 내 7000개와, 여기 포함되지 않은 0:<pad>를 포함하여 7001개\n",
    "VOCAB_SIZE = tokenizer.num_words + 1   \n",
    "\n",
    "# 준비한 데이터 소스로부터 데이터셋을 만듬\n",
    "dataset = tf.data.Dataset.from_tensor_slices((src_input, tgt_input))\n",
    "dataset = dataset.shuffle(BUFFER_SIZE)\n",
    "dataset = dataset.batch(BATCH_SIZE, drop_remainder=True)\n",
    "dataset"
   ]
  },
  {
   "cell_type": "markdown",
   "id": "proper-doubt",
   "metadata": {},
   "source": [
    "#### 3) model에 데이터 배치 테스트"
   ]
  },
  {
   "cell_type": "code",
   "execution_count": 11,
   "id": "southwest-decimal",
   "metadata": {
    "scrolled": true
   },
   "outputs": [
    {
     "data": {
      "text/plain": [
       "<tf.Tensor: shape=(256, 32, 7001), dtype=float32, numpy=\n",
       "array([[[ 6.98107215e-06, -3.43116371e-05,  1.00308243e-05, ...,\n",
       "          2.15480486e-05, -1.47061601e-05, -3.35423465e-06],\n",
       "        [ 1.04622295e-05, -8.11904320e-05,  1.90454411e-05, ...,\n",
       "         -2.62516533e-05, -9.38203157e-05, -6.80318844e-05],\n",
       "        [-2.12608556e-05, -1.15545765e-04,  6.19280254e-05, ...,\n",
       "         -9.55341384e-05, -1.62852099e-04, -1.82818578e-04],\n",
       "        ...,\n",
       "        [-4.99359041e-04,  6.41416991e-04, -1.69942575e-03, ...,\n",
       "          7.79174035e-04,  7.41559139e-04,  1.24906213e-03],\n",
       "        [-4.95993823e-04,  6.41874503e-04, -1.70822919e-03, ...,\n",
       "          7.82408868e-04,  7.47190265e-04,  1.29128573e-03],\n",
       "        [-4.93068306e-04,  6.41717692e-04, -1.71450654e-03, ...,\n",
       "          7.84918549e-04,  7.51683256e-04,  1.32837961e-03]],\n",
       "\n",
       "       [[ 6.98107215e-06, -3.43116371e-05,  1.00308243e-05, ...,\n",
       "          2.15480486e-05, -1.47061601e-05, -3.35423465e-06],\n",
       "        [ 1.04622295e-05, -8.11904320e-05,  1.90454411e-05, ...,\n",
       "         -2.62516533e-05, -9.38203157e-05, -6.80318844e-05],\n",
       "        [-1.84322107e-05, -8.41115980e-05,  5.06064971e-05, ...,\n",
       "          1.55469716e-05, -1.04557737e-04, -7.88587058e-05],\n",
       "        ...,\n",
       "        [-5.39995264e-04,  6.55893062e-04, -1.62758422e-03, ...,\n",
       "          6.83432503e-04,  6.85652893e-04,  1.04749342e-03],\n",
       "        [-5.33569488e-04,  6.59475569e-04, -1.65207218e-03, ...,\n",
       "          7.03896105e-04,  6.98880292e-04,  1.10783451e-03],\n",
       "        [-5.27358963e-04,  6.61193859e-04, -1.67162262e-03, ...,\n",
       "          7.20749784e-04,  7.10587658e-04,  1.16277253e-03]],\n",
       "\n",
       "       [[ 6.98107215e-06, -3.43116371e-05,  1.00308243e-05, ...,\n",
       "          2.15480486e-05, -1.47061601e-05, -3.35423465e-06],\n",
       "        [ 4.24895870e-06, -9.24652923e-05, -5.91975186e-06, ...,\n",
       "          9.82178317e-05, -9.57271041e-05, -3.60477134e-05],\n",
       "        [-4.03178419e-05, -1.40880395e-04, -3.03338002e-05, ...,\n",
       "          1.26154584e-04, -1.88295206e-04, -3.59238802e-05],\n",
       "        ...,\n",
       "        [-5.02453011e-04,  6.39688340e-04, -1.69822853e-03, ...,\n",
       "          7.92376697e-04,  7.55995221e-04,  1.34656962e-03],\n",
       "        [-5.00077615e-04,  6.38547528e-04, -1.70534686e-03, ...,\n",
       "          7.94125488e-04,  7.59449787e-04,  1.37612433e-03],\n",
       "        [-4.97748144e-04,  6.37283491e-04, -1.71042292e-03, ...,\n",
       "          7.95280735e-04,  7.61934090e-04,  1.40183163e-03]],\n",
       "\n",
       "       ...,\n",
       "\n",
       "       [[ 6.98107215e-06, -3.43116371e-05,  1.00308243e-05, ...,\n",
       "          2.15480486e-05, -1.47061601e-05, -3.35423465e-06],\n",
       "        [ 4.54953442e-05, -5.79414773e-05,  4.12196750e-05, ...,\n",
       "          1.71472439e-05, -3.94962044e-05, -4.00922436e-05],\n",
       "        [ 1.12380898e-04, -2.93421563e-05,  5.06624820e-05, ...,\n",
       "          2.33521241e-05, -1.62227472e-04, -1.22765909e-04],\n",
       "        ...,\n",
       "        [-4.96775378e-04,  6.28040463e-04, -1.69830152e-03, ...,\n",
       "          7.90125050e-04,  7.47303944e-04,  1.34618499e-03],\n",
       "        [-4.94253356e-04,  6.28933194e-04, -1.70490134e-03, ...,\n",
       "          7.91250321e-04,  7.52134889e-04,  1.37637276e-03],\n",
       "        [-4.91957704e-04,  6.29416201e-04, -1.70954061e-03, ...,\n",
       "          7.91980361e-04,  7.55703251e-04,  1.40261813e-03]],\n",
       "\n",
       "       [[ 6.98107215e-06, -3.43116371e-05,  1.00308243e-05, ...,\n",
       "          2.15480486e-05, -1.47061601e-05, -3.35423465e-06],\n",
       "        [ 4.38445240e-05, -1.36874041e-05,  7.49552564e-05, ...,\n",
       "         -2.65325525e-05, -5.04892596e-05, -1.66808150e-06],\n",
       "        [ 1.07220683e-06, -5.79176958e-06,  1.36680770e-04, ...,\n",
       "          4.29222637e-05, -1.91586864e-07,  6.63525861e-05],\n",
       "        ...,\n",
       "        [-5.07910969e-04,  6.53908355e-04, -1.62837119e-03, ...,\n",
       "          7.71516352e-04,  6.99030294e-04,  1.21358968e-03],\n",
       "        [-5.04789408e-04,  6.54333970e-04, -1.64909917e-03, ...,\n",
       "          7.76009634e-04,  7.10982713e-04,  1.26075314e-03],\n",
       "        [-5.01777336e-04,  6.53832569e-04, -1.66559382e-03, ...,\n",
       "          7.79461232e-04,  7.21042452e-04,  1.30222307e-03]],\n",
       "\n",
       "       [[ 6.98107215e-06, -3.43116371e-05,  1.00308243e-05, ...,\n",
       "          2.15480486e-05, -1.47061601e-05, -3.35423465e-06],\n",
       "        [-5.57446110e-05, -5.64099719e-05, -7.44401405e-05, ...,\n",
       "          6.69688525e-05, -9.22738400e-06, -4.64214645e-05],\n",
       "        [-1.70450279e-04, -6.48041896e-05, -1.27532112e-04, ...,\n",
       "          9.88593019e-05, -2.68311596e-05, -6.39661303e-05],\n",
       "        ...,\n",
       "        [-5.08321857e-04,  6.50471658e-04, -1.67012122e-03, ...,\n",
       "          7.78691669e-04,  7.38172210e-04,  1.29989348e-03],\n",
       "        [-5.04746044e-04,  6.49556809e-04, -1.68255554e-03, ...,\n",
       "          7.83103867e-04,  7.43776967e-04,  1.33518514e-03],\n",
       "        [-5.01415983e-04,  6.48181827e-04, -1.69202988e-03, ...,\n",
       "          7.86400633e-04,  7.48216058e-04,  1.36612763e-03]]],\n",
       "      dtype=float32)>"
      ]
     },
     "execution_count": 11,
     "metadata": {},
     "output_type": "execute_result"
    }
   ],
   "source": [
    "# model의 input shape가 결정되면서 model.build()가 자동으로 호출\n",
    "for src_sample, tgt_sample in dataset.take(1): break\n",
    "\n",
    "# 한 배치만 불러온 데이터를 모델에 넣기\n",
    "model(src_sample)"
   ]
  },
  {
   "cell_type": "markdown",
   "id": "featured-innocent",
   "metadata": {},
   "source": [
    "#### 4) summary 확인"
   ]
  },
  {
   "cell_type": "code",
   "execution_count": 12,
   "id": "actual-sodium",
   "metadata": {},
   "outputs": [
    {
     "name": "stdout",
     "output_type": "stream",
     "text": [
      "Model: \"text_generator\"\n",
      "_________________________________________________________________\n",
      "Layer (type)                 Output Shape              Param #   \n",
      "=================================================================\n",
      "embedding (Embedding)        multiple                  133019    \n",
      "_________________________________________________________________\n",
      "lstm (LSTM)                  multiple                  16941056  \n",
      "_________________________________________________________________\n",
      "lstm_1 (LSTM)                multiple                  33562624  \n",
      "_________________________________________________________________\n",
      "dense (Dense)                multiple                  14345049  \n",
      "=================================================================\n",
      "Total params: 64,981,748\n",
      "Trainable params: 64,981,748\n",
      "Non-trainable params: 0\n",
      "_________________________________________________________________\n"
     ]
    }
   ],
   "source": [
    "model.summary()\n",
    "# Output Shape : 모델은 입력 시퀀스의 길이를 모르기 때문에 Output Shape를 특정할 수 없다."
   ]
  },
  {
   "cell_type": "markdown",
   "id": "received-footage",
   "metadata": {},
   "source": [
    "## 6. 모델 학습"
   ]
  },
  {
   "cell_type": "code",
   "execution_count": 13,
   "id": "boolean-tamil",
   "metadata": {
    "scrolled": true
   },
   "outputs": [
    {
     "name": "stdout",
     "output_type": "stream",
     "text": [
      "Epoch 1/10\n",
      "509/509 [==============================] - 952s 2s/step - loss: 1.9905 - val_loss: 1.3669\n",
      "Epoch 2/10\n",
      "509/509 [==============================] - 949s 2s/step - loss: 1.4184 - val_loss: 1.3495\n",
      "Epoch 3/10\n",
      "509/509 [==============================] - 949s 2s/step - loss: 1.3168 - val_loss: 1.2937\n",
      "Epoch 4/10\n",
      "509/509 [==============================] - 948s 2s/step - loss: 1.2525 - val_loss: 1.2582\n",
      "Epoch 5/10\n",
      "509/509 [==============================] - 948s 2s/step - loss: 1.1967 - val_loss: 1.2253\n",
      "Epoch 6/10\n",
      "509/509 [==============================] - 948s 2s/step - loss: 1.1388 - val_loss: 1.1972\n",
      "Epoch 7/10\n",
      "509/509 [==============================] - 947s 2s/step - loss: 1.0787 - val_loss: 1.1735\n",
      "Epoch 8/10\n",
      "509/509 [==============================] - 946s 2s/step - loss: 1.0220 - val_loss: 1.1490\n",
      "Epoch 9/10\n",
      "509/509 [==============================] - 947s 2s/step - loss: 0.9573 - val_loss: 1.1296\n",
      "Epoch 10/10\n",
      "509/509 [==============================] - 945s 2s/step - loss: 0.8994 - val_loss: 1.1135\n"
     ]
    }
   ],
   "source": [
    "# 사이킷런 학습\n",
    "optimizer = tf.keras.optimizers.Adam()\n",
    "loss = tf.keras.losses.SparseCategoricalCrossentropy(\n",
    "    from_logits=True,\n",
    "    reduction='none'\n",
    ")\n",
    "\n",
    "model.compile(loss=loss, optimizer=optimizer)\n",
    "\n",
    "history = model.fit(\n",
    "    enc_train,\n",
    "    dec_train,\n",
    "    batch_size = 256, # 배치 size\n",
    "    epochs = 10, # 10번 학습\n",
    "    validation_data=(enc_val, dec_val),\n",
    ")"
   ]
  },
  {
   "cell_type": "markdown",
   "id": "metallic-works",
   "metadata": {},
   "source": [
    "## 7. 모델 테스트"
   ]
  },
  {
   "cell_type": "code",
   "execution_count": 14,
   "id": "sustainable-luxembourg",
   "metadata": {},
   "outputs": [
    {
     "data": {
      "text/plain": [
       "'<start> i love you , i love you <end> '"
      ]
     },
     "execution_count": 14,
     "metadata": {},
     "output_type": "execute_result"
    }
   ],
   "source": [
    "# generate_text 함수는 모델에게 시작 문장을 전달하면 모델이 시작 문장을 바탕으로 작문을 진행\n",
    "def generate_text(model, tokenizer, init_sentence=\"<start>\", max_len=20):\n",
    "    # 테스트를 위해서 입력받은 init_sentence도 텐서로 변환\n",
    "    test_input = tokenizer.texts_to_sequences([init_sentence])\n",
    "    test_tensor = tf.convert_to_tensor(test_input, dtype=tf.int64)\n",
    "    end_token = tokenizer.word_index[\"<end>\"]\n",
    "\n",
    "    while True:\n",
    "        predict = model(test_tensor) # 입력받은 문장의 텐서를 입력\n",
    "        predict_word = tf.argmax(tf.nn.softmax(predict, axis=-1), axis=-1)[:, -1]  # 예측된 값 중 가장 높은 확률인 word index를 뽑음\n",
    "        test_tensor = tf.concat([test_tensor, tf.expand_dims(predict_word, axis = 0)], axis =- 1) # 2에서 예측된 word index를 문장 뒤에 붙\n",
    "        # 모델이 <end>를 예측했거나, max_len에 도달했다면 문장 생성을 마침\n",
    "        if predict_word.numpy()[0] == end_token: break\n",
    "        if test_tensor.shape[1] >= max_len: break\n",
    "\n",
    "    generated = \"\"\n",
    "    # tokenizer를 이용해 word index를 단어로 하나씩 변환\n",
    "    for word_index in test_tensor[0].numpy():\n",
    "        generated += tokenizer.index_word[word_index] + \" \"\n",
    "\n",
    "    return generated\n",
    "\n",
    "generate_text(model, tokenizer, init_sentence=\"<start> i love\", max_len=20)"
   ]
  },
  {
   "cell_type": "markdown",
   "id": "institutional-wonder",
   "metadata": {},
   "source": [
    "## 8. 회고"
   ]
  },
  {
   "cell_type": "markdown",
   "id": "discrete-forth",
   "metadata": {},
   "source": [
    "#### 1. '토큰화 했을 때 토큰의 개수가 15개를 넘어가는 문장을 학습 데이터에서 제외' 방법 고민\n",
    "if len(sentence.split(' ')) > 13: continue       \n",
    " -> start와 end를 제외한, 단어 13개 이상을 가진 문장은 필터링 하였음 \n",
    "\n",
    "#### 2. tensorflow의 model.fit() 코드 고민\n",
    " -> 아래 사이트에서 인자 참고하여 작성     \n",
    "[참고] https://www.tensorflow.org/guide/keras/train_and_evaluate?hl=ko\n",
    "\n",
    "#### 3. RNN - LSTM 이해\n",
    " -> embedding_size 와 hidden_size 의 값 지정의 여러번의 시도가 있었다     \n",
    " -> input, output 의 개념 더 자세히 알아봐야겠다     \n",
    "[참고] https://engineer-mole.tistory.com/22"
   ]
  },
  {
   "cell_type": "code",
   "execution_count": null,
   "id": "regional-david",
   "metadata": {},
   "outputs": [],
   "source": []
  }
 ],
 "metadata": {
  "kernelspec": {
   "display_name": "Python 3",
   "language": "python",
   "name": "python3"
  },
  "language_info": {
   "codemirror_mode": {
    "name": "ipython",
    "version": 3
   },
   "file_extension": ".py",
   "mimetype": "text/x-python",
   "name": "python",
   "nbconvert_exporter": "python",
   "pygments_lexer": "ipython3",
   "version": "3.7.9"
  }
 },
 "nbformat": 4,
 "nbformat_minor": 5
}
