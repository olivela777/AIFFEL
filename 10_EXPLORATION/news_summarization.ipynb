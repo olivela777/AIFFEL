{
 "cells": [
  {
   "cell_type": "markdown",
   "id": "behind-reality",
   "metadata": {},
   "source": [
    "# [EX10] 뉴스기사 요약해보기"
   ]
  },
  {
   "cell_type": "markdown",
   "id": "polyphonic-destination",
   "metadata": {},
   "source": [
    "#### * 목차\n",
    "1. 데이터 수집하기\n",
    "2. 데이터 전처리하기 (추상적 요약)    \n",
    "    1) 데이터 수집하기    \n",
    "    2) 데이터 분리    \n",
    "    3) 단어집합 만들기, 정수 인코딩하기    \n",
    "3. 어텐션 메커니즘 사용하기 (추상적 요약)\n",
    "4. 실제 결과와 요약문 비교하기 (추상적 요약)\n",
    "5. Summa을 이용해서 추출적 요약해보기\n",
    "6. 요약 결과 비교"
   ]
  },
  {
   "cell_type": "markdown",
   "id": "intimate-novel",
   "metadata": {},
   "source": [
    "## 1. 데이터 수집하기"
   ]
  },
  {
   "cell_type": "code",
   "execution_count": 1,
   "id": "distinguished-grill",
   "metadata": {},
   "outputs": [
    {
     "name": "stderr",
     "output_type": "stream",
     "text": [
      "[nltk_data] Downloading package stopwords to /aiffel/nltk_data...\n",
      "[nltk_data]   Unzipping corpora/stopwords.zip.\n"
     ]
    }
   ],
   "source": [
    "import nltk\n",
    "nltk.download('stopwords')\n",
    "\n",
    "import numpy as np\n",
    "import pandas as pd\n",
    "import os\n",
    "import re\n",
    "import matplotlib.pyplot as plt\n",
    "from nltk.corpus import stopwords\n",
    "from bs4 import BeautifulSoup \n",
    "from tensorflow.keras.preprocessing.text import Tokenizer \n",
    "from tensorflow.keras.preprocessing.sequence import pad_sequences\n",
    "import urllib.request"
   ]
  },
  {
   "cell_type": "code",
   "execution_count": 2,
   "id": "exterior-certification",
   "metadata": {},
   "outputs": [],
   "source": [
    "urllib.request.urlretrieve(\"https://raw.githubusercontent.com/sunnysai12345/News_Summary/master/news_summary_more.csv\", filename=\"news_summary_more.csv\")\n",
    "data = pd.read_csv('news_summary_more.csv', encoding='iso-8859-1')"
   ]
  },
  {
   "cell_type": "code",
   "execution_count": 3,
   "id": "formal-patrick",
   "metadata": {},
   "outputs": [
    {
     "data": {
      "text/html": [
       "<div>\n",
       "<style scoped>\n",
       "    .dataframe tbody tr th:only-of-type {\n",
       "        vertical-align: middle;\n",
       "    }\n",
       "\n",
       "    .dataframe tbody tr th {\n",
       "        vertical-align: top;\n",
       "    }\n",
       "\n",
       "    .dataframe thead th {\n",
       "        text-align: right;\n",
       "    }\n",
       "</style>\n",
       "<table border=\"1\" class=\"dataframe\">\n",
       "  <thead>\n",
       "    <tr style=\"text-align: right;\">\n",
       "      <th></th>\n",
       "      <th>headlines</th>\n",
       "      <th>text</th>\n",
       "    </tr>\n",
       "  </thead>\n",
       "  <tbody>\n",
       "    <tr>\n",
       "      <th>21144</th>\n",
       "      <td>US concerned over Russian satellite's 'abnorma...</td>\n",
       "      <td>The US has expressed concerns over a Russian s...</td>\n",
       "    </tr>\n",
       "    <tr>\n",
       "      <th>9022</th>\n",
       "      <td>47-year-old Tambe takes hat-trick, 1st ever fi...</td>\n",
       "      <td>Sindhis' 47-year-old Indian leg-spinner Pravin...</td>\n",
       "    </tr>\n",
       "    <tr>\n",
       "      <th>4232</th>\n",
       "      <td>Bumrah becomes top wicket-taker in internation...</td>\n",
       "      <td>India fast bowler Jasprit Bumrah has become th...</td>\n",
       "    </tr>\n",
       "    <tr>\n",
       "      <th>86515</th>\n",
       "      <td>IPL viewership increased by over 20% in 2017: ...</td>\n",
       "      <td>As per a Broadcast Audience Research Council r...</td>\n",
       "    </tr>\n",
       "    <tr>\n",
       "      <th>66015</th>\n",
       "      <td>Scientists discover ring around a dwarf planet...</td>\n",
       "      <td>In a first, Europe-based astronomers have disc...</td>\n",
       "    </tr>\n",
       "    <tr>\n",
       "      <th>20040</th>\n",
       "      <td>We feel we shouldn't make Iqbal's sequel: Shre...</td>\n",
       "      <td>Actor Shreyas Talpade, while talking about his...</td>\n",
       "    </tr>\n",
       "    <tr>\n",
       "      <th>35773</th>\n",
       "      <td>Parents, sister sentenced to life for murderin...</td>\n",
       "      <td>A Haryana court has awarded life sentence to p...</td>\n",
       "    </tr>\n",
       "    <tr>\n",
       "      <th>45964</th>\n",
       "      <td>Pichai holds no authority over resource alloca...</td>\n",
       "      <td>Google CEO Sundar Pichai doesn't have authorit...</td>\n",
       "    </tr>\n",
       "    <tr>\n",
       "      <th>26885</th>\n",
       "      <td>After yrs wife allowed me to post pic I took: ...</td>\n",
       "      <td>Actor Shah Rukh Khan, while sharing a selfie w...</td>\n",
       "    </tr>\n",
       "    <tr>\n",
       "      <th>53963</th>\n",
       "      <td>Cong calls PM Modi 'mauni baba' over silence o...</td>\n",
       "      <td>Slamming Prime Minister Narendra Modi over his...</td>\n",
       "    </tr>\n",
       "  </tbody>\n",
       "</table>\n",
       "</div>"
      ],
      "text/plain": [
       "                                               headlines  \\\n",
       "21144  US concerned over Russian satellite's 'abnorma...   \n",
       "9022   47-year-old Tambe takes hat-trick, 1st ever fi...   \n",
       "4232   Bumrah becomes top wicket-taker in internation...   \n",
       "86515  IPL viewership increased by over 20% in 2017: ...   \n",
       "66015  Scientists discover ring around a dwarf planet...   \n",
       "20040  We feel we shouldn't make Iqbal's sequel: Shre...   \n",
       "35773  Parents, sister sentenced to life for murderin...   \n",
       "45964  Pichai holds no authority over resource alloca...   \n",
       "26885  After yrs wife allowed me to post pic I took: ...   \n",
       "53963  Cong calls PM Modi 'mauni baba' over silence o...   \n",
       "\n",
       "                                                    text  \n",
       "21144  The US has expressed concerns over a Russian s...  \n",
       "9022   Sindhis' 47-year-old Indian leg-spinner Pravin...  \n",
       "4232   India fast bowler Jasprit Bumrah has become th...  \n",
       "86515  As per a Broadcast Audience Research Council r...  \n",
       "66015  In a first, Europe-based astronomers have disc...  \n",
       "20040  Actor Shreyas Talpade, while talking about his...  \n",
       "35773  A Haryana court has awarded life sentence to p...  \n",
       "45964  Google CEO Sundar Pichai doesn't have authorit...  \n",
       "26885  Actor Shah Rukh Khan, while sharing a selfie w...  \n",
       "53963  Slamming Prime Minister Narendra Modi over his...  "
      ]
     },
     "execution_count": 3,
     "metadata": {},
     "output_type": "execute_result"
    }
   ],
   "source": [
    "data.sample(10)"
   ]
  },
  {
   "cell_type": "markdown",
   "id": "perfect-funeral",
   "metadata": {},
   "source": [
    "## 2. 데이터 전처리하기 (추상적 요약)"
   ]
  },
  {
   "cell_type": "markdown",
   "id": "honest-maintenance",
   "metadata": {},
   "source": [
    "### 1) 데이터 수집하기"
   ]
  },
  {
   "cell_type": "code",
   "execution_count": 4,
   "id": "assured-recall",
   "metadata": {},
   "outputs": [
    {
     "name": "stdout",
     "output_type": "stream",
     "text": [
      "Text 열에서 중복을 배제한 유일한 샘플의 수 : 98360\n",
      "Summary 열에서 중복을 배제한 유일한 샘플의 수 : 98280\n"
     ]
    }
   ],
   "source": [
    "# 데이터 중복 후 개수 확인\n",
    "print('Text 열에서 중복을 배제한 유일한 샘플의 수 :', data['text'].nunique())\n",
    "print('Summary 열에서 중복을 배제한 유일한 샘플의 수 :', data['headlines'].nunique())"
   ]
  },
  {
   "cell_type": "code",
   "execution_count": 5,
   "id": "collect-capture",
   "metadata": {},
   "outputs": [
    {
     "name": "stdout",
     "output_type": "stream",
     "text": [
      "전체 샘플수 : 98280\n"
     ]
    }
   ],
   "source": [
    "# headlines 중복 샘플 제거\n",
    "data.drop_duplicates(subset = ['headlines'], inplace = True)\n",
    "print('전체 샘플수 :',(len(data)))"
   ]
  },
  {
   "cell_type": "code",
   "execution_count": 6,
   "id": "tired-spanish",
   "metadata": {},
   "outputs": [
    {
     "name": "stdout",
     "output_type": "stream",
     "text": [
      "headlines    0\n",
      "text         0\n",
      "dtype: int64\n"
     ]
    }
   ],
   "source": [
    "# 데이터프레임에 Null값이 있는지 확인\n",
    "print(data.isnull().sum())"
   ]
  },
  {
   "cell_type": "code",
   "execution_count": 7,
   "id": "planned-headquarters",
   "metadata": {},
   "outputs": [
    {
     "name": "stdout",
     "output_type": "stream",
     "text": [
      "정규화 사전의 수:  120\n"
     ]
    }
   ],
   "source": [
    "# 텍스트 정규화 및 불용화 제거\n",
    "contractions = {\"ain't\": \"is not\", \"aren't\": \"are not\",\"can't\": \"cannot\", \"'cause\": \"because\", \"could've\": \"could have\", \"couldn't\": \"could not\",\n",
    "                           \"didn't\": \"did not\",  \"doesn't\": \"does not\", \"don't\": \"do not\", \"hadn't\": \"had not\", \"hasn't\": \"has not\", \"haven't\": \"have not\",\n",
    "                           \"he'd\": \"he would\",\"he'll\": \"he will\", \"he's\": \"he is\", \"how'd\": \"how did\", \"how'd'y\": \"how do you\", \"how'll\": \"how will\", \"how's\": \"how is\",\n",
    "                           \"I'd\": \"I would\", \"I'd've\": \"I would have\", \"I'll\": \"I will\", \"I'll've\": \"I will have\",\"I'm\": \"I am\", \"I've\": \"I have\", \"i'd\": \"i would\",\n",
    "                           \"i'd've\": \"i would have\", \"i'll\": \"i will\",  \"i'll've\": \"i will have\",\"i'm\": \"i am\", \"i've\": \"i have\", \"isn't\": \"is not\", \"it'd\": \"it would\",\n",
    "                           \"it'd've\": \"it would have\", \"it'll\": \"it will\", \"it'll've\": \"it will have\",\"it's\": \"it is\", \"let's\": \"let us\", \"ma'am\": \"madam\",\n",
    "                           \"mayn't\": \"may not\", \"might've\": \"might have\",\"mightn't\": \"might not\",\"mightn't've\": \"might not have\", \"must've\": \"must have\",\n",
    "                           \"mustn't\": \"must not\", \"mustn't've\": \"must not have\", \"needn't\": \"need not\", \"needn't've\": \"need not have\",\"o'clock\": \"of the clock\",\n",
    "                           \"oughtn't\": \"ought not\", \"oughtn't've\": \"ought not have\", \"shan't\": \"shall not\", \"sha'n't\": \"shall not\", \"shan't've\": \"shall not have\",\n",
    "                           \"she'd\": \"she would\", \"she'd've\": \"she would have\", \"she'll\": \"she will\", \"she'll've\": \"she will have\", \"she's\": \"she is\",\n",
    "                           \"should've\": \"should have\", \"shouldn't\": \"should not\", \"shouldn't've\": \"should not have\", \"so've\": \"so have\",\"so's\": \"so as\",\n",
    "                           \"this's\": \"this is\",\"that'd\": \"that would\", \"that'd've\": \"that would have\", \"that's\": \"that is\", \"there'd\": \"there would\",\n",
    "                           \"there'd've\": \"there would have\", \"there's\": \"there is\", \"here's\": \"here is\",\"they'd\": \"they would\", \"they'd've\": \"they would have\",\n",
    "                           \"they'll\": \"they will\", \"they'll've\": \"they will have\", \"they're\": \"they are\", \"they've\": \"they have\", \"to've\": \"to have\",\n",
    "                           \"wasn't\": \"was not\", \"we'd\": \"we would\", \"we'd've\": \"we would have\", \"we'll\": \"we will\", \"we'll've\": \"we will have\", \"we're\": \"we are\",\n",
    "                           \"we've\": \"we have\", \"weren't\": \"were not\", \"what'll\": \"what will\", \"what'll've\": \"what will have\", \"what're\": \"what are\",\n",
    "                           \"what's\": \"what is\", \"what've\": \"what have\", \"when's\": \"when is\", \"when've\": \"when have\", \"where'd\": \"where did\", \"where's\": \"where is\",\n",
    "                           \"where've\": \"where have\", \"who'll\": \"who will\", \"who'll've\": \"who will have\", \"who's\": \"who is\", \"who've\": \"who have\",\n",
    "                           \"why's\": \"why is\", \"why've\": \"why have\", \"will've\": \"will have\", \"won't\": \"will not\", \"won't've\": \"will not have\",\n",
    "                           \"would've\": \"would have\", \"wouldn't\": \"would not\", \"wouldn't've\": \"would not have\", \"y'all\": \"you all\",\n",
    "                           \"y'all'd\": \"you all would\",\"y'all'd've\": \"you all would have\",\"y'all're\": \"you all are\",\"y'all've\": \"you all have\",\n",
    "                           \"you'd\": \"you would\", \"you'd've\": \"you would have\", \"you'll\": \"you will\", \"you'll've\": \"you will have\",\n",
    "                           \"you're\": \"you are\", \"you've\": \"you have\"}\n",
    "\n",
    "print(\"정규화 사전의 수: \",len(contractions))"
   ]
  },
  {
   "cell_type": "code",
   "execution_count": 8,
   "id": "minute-liberia",
   "metadata": {},
   "outputs": [
    {
     "name": "stdout",
     "output_type": "stream",
     "text": [
      "불용어 개수 : 179\n",
      "['i', 'me', 'my', 'myself', 'we', 'our', 'ours', 'ourselves', 'you', \"you're\", \"you've\", \"you'll\", \"you'd\", 'your', 'yours', 'yourself', 'yourselves', 'he', 'him', 'his', 'himself', 'she', \"she's\", 'her', 'hers', 'herself', 'it', \"it's\", 'its', 'itself', 'they', 'them', 'their', 'theirs', 'themselves', 'what', 'which', 'who', 'whom', 'this', 'that', \"that'll\", 'these', 'those', 'am', 'is', 'are', 'was', 'were', 'be', 'been', 'being', 'have', 'has', 'had', 'having', 'do', 'does', 'did', 'doing', 'a', 'an', 'the', 'and', 'but', 'if', 'or', 'because', 'as', 'until', 'while', 'of', 'at', 'by', 'for', 'with', 'about', 'against', 'between', 'into', 'through', 'during', 'before', 'after', 'above', 'below', 'to', 'from', 'up', 'down', 'in', 'out', 'on', 'off', 'over', 'under', 'again', 'further', 'then', 'once', 'here', 'there', 'when', 'where', 'why', 'how', 'all', 'any', 'both', 'each', 'few', 'more', 'most', 'other', 'some', 'such', 'no', 'nor', 'not', 'only', 'own', 'same', 'so', 'than', 'too', 'very', 's', 't', 'can', 'will', 'just', 'don', \"don't\", 'should', \"should've\", 'now', 'd', 'll', 'm', 'o', 're', 've', 'y', 'ain', 'aren', \"aren't\", 'couldn', \"couldn't\", 'didn', \"didn't\", 'doesn', \"doesn't\", 'hadn', \"hadn't\", 'hasn', \"hasn't\", 'haven', \"haven't\", 'isn', \"isn't\", 'ma', 'mightn', \"mightn't\", 'mustn', \"mustn't\", 'needn', \"needn't\", 'shan', \"shan't\", 'shouldn', \"shouldn't\", 'wasn', \"wasn't\", 'weren', \"weren't\", 'won', \"won't\", 'wouldn', \"wouldn't\"]\n"
     ]
    }
   ],
   "source": [
    "print('불용어 개수 :', len(stopwords.words('english') ))\n",
    "print(stopwords.words('english'))"
   ]
  },
  {
   "cell_type": "code",
   "execution_count": 9,
   "id": "individual-brand",
   "metadata": {},
   "outputs": [],
   "source": [
    "#데이터 전처리 함수\n",
    "def preprocess_sentence(sentence, remove_stopwords=True):\n",
    "    sentence = sentence.lower() # 텍스트 소문자화\n",
    "    sentence = BeautifulSoup(sentence, \"lxml\").text # <br />, <a href = ...> 등의 html 태그 제거\n",
    "    sentence = re.sub(r'\\([^)]*\\)', '', sentence) # 괄호로 닫힌 문자열 (...) 제거 Ex) my husband (and myself!) for => my husband for\n",
    "    sentence = re.sub('\"','', sentence) # 쌍따옴표 \" 제거\n",
    "    sentence = ' '.join([contractions[t] if t in contractions else t for t in sentence.split(\" \")]) # 약어 정규화\n",
    "    sentence = re.sub(r\"'s\\b\",\"\",sentence) # 소유격 제거. Ex) roland's -> roland\n",
    "    sentence = re.sub(\"[^a-zA-Z]\", \" \", sentence) # 영어 외 문자(숫자, 특수문자 등) 공백으로 변환\n",
    "    sentence = re.sub('[m]{2,}', 'mm', sentence) # m이 3개 이상이면 2개로 변경. Ex) ummmmmmm yeah -> umm yeah\n",
    "    \n",
    "    # 불용어 제거 (Text)\n",
    "    if remove_stopwords:\n",
    "        tokens = ' '.join(word for word in sentence.split() if not word in stopwords.words('english') if len(word) > 1)\n",
    "    # 불용어 미제거 (Summary)\n",
    "    else:\n",
    "        tokens = ' '.join(word for word in sentence.split() if len(word) > 1)\n",
    "    return tokens"
   ]
  },
  {
   "cell_type": "code",
   "execution_count": 10,
   "id": "healthy-audio",
   "metadata": {},
   "outputs": [
    {
     "name": "stdout",
     "output_type": "stream",
     "text": [
      "everything bought great infact ordered twice third ordered wasfor mother father\n",
      "great way to start the day\n"
     ]
    }
   ],
   "source": [
    "temp_text = 'Everything I bought was great, infact I ordered twice and the third ordered was<br />for my mother and father.'\n",
    "temp_summary = 'Great way to start (or finish) the day!!!'\n",
    "\n",
    "print(preprocess_sentence(temp_text))\n",
    "print(preprocess_sentence(temp_summary, False))  # 불용어를 제거하지 않습니다."
   ]
  },
  {
   "cell_type": "code",
   "execution_count": 11,
   "id": "thrown-encyclopedia",
   "metadata": {},
   "outputs": [
    {
     "data": {
      "text/plain": [
       "['saurav kant alumnus upgrad iiit pg program machine learning artificial intelligence sr systems engineer infosys almost years work experience program upgrad degree career support helped transition data scientist tech mahindra salary hike upgrad online power learning powered lakh careers',\n",
       " 'kunal shah credit card bill payment platform cred gave users chance win free food swiggy one year pranav kaushik delhi techie bagged reward spending cred coins users get one cred coin per rupee bill paid used avail rewards brands like ixigo bookmyshow ubereats cult fit',\n",
       " 'new zealand defeated india wickets fourth odi hamilton thursday win first match five match odi series india lost international match rohit sharma captaincy consecutive victories dating back march match witnessed india getting seventh lowest total odi cricket history',\n",
       " 'aegon life iterm insurance plan customers enjoy tax benefits premiums paid save taxes plan provides life cover age years also customers options insure critical illnesses disability accidental death benefit rider life cover age years',\n",
       " 'speaking sexual harassment allegations rajkumar hirani sonam kapoor said known hirani many years true metoo movement get derailed metoo movement always believe woman case need reserve judgment added hirani accused assistant worked sanju']"
      ]
     },
     "execution_count": 11,
     "metadata": {},
     "output_type": "execute_result"
    }
   ],
   "source": [
    "clean_text = []\n",
    "\n",
    "# 전체 Text 데이터에 대한 전처리 (10분정도 소요)\n",
    "for s in data['text']:\n",
    "    clean_text.append(preprocess_sentence(s))\n",
    "\n",
    "# 전처리 후 출력\n",
    "clean_text[:5]"
   ]
  },
  {
   "cell_type": "code",
   "execution_count": 12,
   "id": "motivated-mayor",
   "metadata": {},
   "outputs": [
    {
     "data": {
      "text/plain": [
       "['upgrad learner switches to career in ml al with salary hike',\n",
       " 'delhi techie wins free food from swiggy for one year on cred',\n",
       " 'new zealand end rohit sharma led india match winning streak',\n",
       " 'aegon life iterm insurance plan helps customers save tax',\n",
       " 'have known hirani for yrs what if metoo claims are not true sonam']"
      ]
     },
     "execution_count": 12,
     "metadata": {},
     "output_type": "execute_result"
    }
   ],
   "source": [
    "clean_headline = []\n",
    "\n",
    "# 전체 Summary 데이터에 대한 전처리 (5분정도 소요)\n",
    "for s in data['headlines']:\n",
    "    clean_headline.append(preprocess_sentence(s, False))\n",
    "\n",
    "clean_headline[:5]"
   ]
  },
  {
   "cell_type": "code",
   "execution_count": 13,
   "id": "otherwise-winner",
   "metadata": {},
   "outputs": [],
   "source": [
    "# 정제 과정에서 문장의 모든 단어가 사라지는 경우가 있을 수 있으므로 빈 값을 Null로 변환\n",
    "\n",
    "data['text'] = clean_text\n",
    "data['headlines'] = clean_headline\n",
    "\n",
    "# 빈 값을 Null 값으로 변환\n",
    "data.replace('', np.nan, inplace=True)"
   ]
  },
  {
   "cell_type": "code",
   "execution_count": 14,
   "id": "worse-yacht",
   "metadata": {},
   "outputs": [
    {
     "data": {
      "text/plain": [
       "headlines    0\n",
       "text         0\n",
       "dtype: int64"
      ]
     },
     "execution_count": 14,
     "metadata": {},
     "output_type": "execute_result"
    }
   ],
   "source": [
    "data.isnull().sum()"
   ]
  },
  {
   "cell_type": "code",
   "execution_count": 15,
   "id": "isolated-subject",
   "metadata": {},
   "outputs": [
    {
     "name": "stdout",
     "output_type": "stream",
     "text": [
      "텍스트의 최소 길이 : 1\n",
      "텍스트의 최대 길이 : 60\n",
      "텍스트의 평균 길이 : 35.10031542531542\n",
      "요약의 최소 길이 : 1\n",
      "요약의 최대 길이 : 16\n",
      "요약의 평균 길이 : 9.2995115995116\n"
     ]
    },
    {
     "data": {
      "image/png": "[encoded data removed]",
      "text/plain": [
       "<Figure size 432x288 with 2 Axes>"
      ]
     },
     "metadata": {
      "needs_background": "light"
     },
     "output_type": "display_data"
    },
    {
     "data": {
      "image/png": "[encoded data removed]",
      "text/plain": [
       "<Figure size 432x288 with 1 Axes>"
      ]
     },
     "metadata": {
      "needs_background": "light"
     },
     "output_type": "display_data"
    },
    {
     "data": {
      "image/png": "[encoded data removed]",
      "text/plain": [
       "<Figure size 432x288 with 1 Axes>"
      ]
     },
     "metadata": {
      "needs_background": "light"
     },
     "output_type": "display_data"
    }
   ],
   "source": [
    "# 길이 분포 출력\n",
    "import matplotlib.pyplot as plt\n",
    "\n",
    "text_len = [len(s.split()) for s in data['text']]\n",
    "headline_len = [len(s.split()) for s in data['headlines']]\n",
    "\n",
    "print('텍스트의 최소 길이 : {}'.format(np.min(text_len)))\n",
    "print('텍스트의 최대 길이 : {}'.format(np.max(text_len)))\n",
    "print('텍스트의 평균 길이 : {}'.format(np.mean(text_len)))\n",
    "print('요약의 최소 길이 : {}'.format(np.min(headline_len)))\n",
    "print('요약의 최대 길이 : {}'.format(np.max(headline_len)))\n",
    "print('요약의 평균 길이 : {}'.format(np.mean(headline_len)))\n",
    "\n",
    "plt.subplot(1,2,1)\n",
    "plt.boxplot(headline_len)\n",
    "plt.title('headline')\n",
    "plt.subplot(1,2,2)\n",
    "plt.boxplot(text_len)\n",
    "plt.title('text')\n",
    "plt.tight_layout()\n",
    "plt.show()\n",
    "\n",
    "plt.title('headline')\n",
    "plt.hist(headline_len, bins = 40)\n",
    "plt.xlabel('length of samples')\n",
    "plt.ylabel('number of samples')\n",
    "plt.show()\n",
    "\n",
    "plt.title('text')\n",
    "plt.hist(text_len, bins = 40)\n",
    "plt.xlabel('length of samples')\n",
    "plt.ylabel('number of samples')\n",
    "plt.show()"
   ]
  },
  {
   "cell_type": "code",
   "execution_count": 16,
   "id": "compliant-return",
   "metadata": {},
   "outputs": [],
   "source": [
    "# 최대길이 임의 설정\n",
    "text_max_len = 38\n",
    "headline_max_len = 11"
   ]
  },
  {
   "cell_type": "code",
   "execution_count": 17,
   "id": "photographic-residence",
   "metadata": {},
   "outputs": [],
   "source": [
    "def below_threshold_len(max_len, nested_list):\n",
    "    cnt = 0\n",
    "    for s in nested_list:\n",
    "        if (len(s.split()) <= max_len):\n",
    "            cnt = cnt + 1\n",
    "    print('전체 샘플 중 길이가 %s 이하인 샘플의 비율: %s'%(max_len, (cnt / len(nested_list))))"
   ]
  },
  {
   "cell_type": "code",
   "execution_count": 18,
   "id": "acceptable-example",
   "metadata": {},
   "outputs": [
    {
     "name": "stdout",
     "output_type": "stream",
     "text": [
      "전체 샘플 중 길이가 38 이하인 샘플의 비율: 0.8163105413105413\n",
      "전체 샘플 중 길이가 11 이하인 샘플의 비율: 0.944993894993895\n"
     ]
    }
   ],
   "source": [
    "below_threshold_len(text_max_len, data['text'])\n",
    "below_threshold_len(headline_max_len,  data['headlines'])"
   ]
  },
  {
   "cell_type": "code",
   "execution_count": 19,
   "id": "graphic-tourism",
   "metadata": {},
   "outputs": [
    {
     "name": "stdout",
     "output_type": "stream",
     "text": [
      "전체 샘플수 : 75692\n"
     ]
    }
   ],
   "source": [
    "data = data[data['text'].apply(lambda x: len(x.split()) <= text_max_len)]\n",
    "data = data[data['headlines'].apply(lambda x: len(x.split()) <= headline_max_len)]\n",
    "print('전체 샘플수 :',(len(data)))"
   ]
  },
  {
   "cell_type": "code",
   "execution_count": 20,
   "id": "roman-portfolio",
   "metadata": {},
   "outputs": [
    {
     "data": {
      "text/html": [
       "<div>\n",
       "<style scoped>\n",
       "    .dataframe tbody tr th:only-of-type {\n",
       "        vertical-align: middle;\n",
       "    }\n",
       "\n",
       "    .dataframe tbody tr th {\n",
       "        vertical-align: top;\n",
       "    }\n",
       "\n",
       "    .dataframe thead th {\n",
       "        text-align: right;\n",
       "    }\n",
       "</style>\n",
       "<table border=\"1\" class=\"dataframe\">\n",
       "  <thead>\n",
       "    <tr style=\"text-align: right;\">\n",
       "      <th></th>\n",
       "      <th>headlines</th>\n",
       "      <th>text</th>\n",
       "      <th>decoder_input</th>\n",
       "      <th>decoder_target</th>\n",
       "    </tr>\n",
       "  </thead>\n",
       "  <tbody>\n",
       "    <tr>\n",
       "      <th>2</th>\n",
       "      <td>new zealand end rohit sharma led india match w...</td>\n",
       "      <td>new zealand defeated india wickets fourth odi ...</td>\n",
       "      <td>sostoken new zealand end rohit sharma led indi...</td>\n",
       "      <td>new zealand end rohit sharma led india match w...</td>\n",
       "    </tr>\n",
       "    <tr>\n",
       "      <th>3</th>\n",
       "      <td>aegon life iterm insurance plan helps customer...</td>\n",
       "      <td>aegon life iterm insurance plan customers enjo...</td>\n",
       "      <td>sostoken aegon life iterm insurance plan helps...</td>\n",
       "      <td>aegon life iterm insurance plan helps customer...</td>\n",
       "    </tr>\n",
       "    <tr>\n",
       "      <th>5</th>\n",
       "      <td>rahat fateh ali khan denies getting notice for...</td>\n",
       "      <td>pakistani singer rahat fateh ali khan denied r...</td>\n",
       "      <td>sostoken rahat fateh ali khan denies getting n...</td>\n",
       "      <td>rahat fateh ali khan denies getting notice for...</td>\n",
       "    </tr>\n",
       "    <tr>\n",
       "      <th>7</th>\n",
       "      <td>govt directs alok verma to join work day befor...</td>\n",
       "      <td>weeks ex cbi director alok verma told departme...</td>\n",
       "      <td>sostoken govt directs alok verma to join work ...</td>\n",
       "      <td>govt directs alok verma to join work day befor...</td>\n",
       "    </tr>\n",
       "    <tr>\n",
       "      <th>8</th>\n",
       "      <td>called pm modi sir times to satisfy his ego an...</td>\n",
       "      <td>andhra pradesh cm chandrababu naidu said met u...</td>\n",
       "      <td>sostoken called pm modi sir times to satisfy h...</td>\n",
       "      <td>called pm modi sir times to satisfy his ego an...</td>\n",
       "    </tr>\n",
       "  </tbody>\n",
       "</table>\n",
       "</div>"
      ],
      "text/plain": [
       "                                           headlines  \\\n",
       "2  new zealand end rohit sharma led india match w...   \n",
       "3  aegon life iterm insurance plan helps customer...   \n",
       "5  rahat fateh ali khan denies getting notice for...   \n",
       "7  govt directs alok verma to join work day befor...   \n",
       "8  called pm modi sir times to satisfy his ego an...   \n",
       "\n",
       "                                                text  \\\n",
       "2  new zealand defeated india wickets fourth odi ...   \n",
       "3  aegon life iterm insurance plan customers enjo...   \n",
       "5  pakistani singer rahat fateh ali khan denied r...   \n",
       "7  weeks ex cbi director alok verma told departme...   \n",
       "8  andhra pradesh cm chandrababu naidu said met u...   \n",
       "\n",
       "                                       decoder_input  \\\n",
       "2  sostoken new zealand end rohit sharma led indi...   \n",
       "3  sostoken aegon life iterm insurance plan helps...   \n",
       "5  sostoken rahat fateh ali khan denies getting n...   \n",
       "7  sostoken govt directs alok verma to join work ...   \n",
       "8  sostoken called pm modi sir times to satisfy h...   \n",
       "\n",
       "                                      decoder_target  \n",
       "2  new zealand end rohit sharma led india match w...  \n",
       "3  aegon life iterm insurance plan helps customer...  \n",
       "5  rahat fateh ali khan denies getting notice for...  \n",
       "7  govt directs alok verma to join work day befor...  \n",
       "8  called pm modi sir times to satisfy his ego an...  "
      ]
     },
     "execution_count": 20,
     "metadata": {},
     "output_type": "execute_result"
    }
   ],
   "source": [
    "# 요약 데이터에는 시작 토큰과 종료 토큰을 추가.\n",
    "\n",
    "data['decoder_input'] = data['headlines'].apply(lambda x : 'sostoken '+ x)\n",
    "data['decoder_target'] = data['headlines'].apply(lambda x : x + ' eostoken')\n",
    "data.head()"
   ]
  },
  {
   "cell_type": "code",
   "execution_count": 21,
   "id": "impossible-logging",
   "metadata": {},
   "outputs": [],
   "source": [
    "# 인코더의 입력, 디코더의 입력과 레이블을 각각 다시 Numpy 타입으로 저장\n",
    "encoder_input = np.array(data['text']) # 인코더의 입력\n",
    "decoder_input = np.array(data['decoder_input']) # 디코더의 입력\n",
    "decoder_target = np.array(data['decoder_target']) # 디코더의 레이블"
   ]
  },
  {
   "cell_type": "markdown",
   "id": "encouraging-galaxy",
   "metadata": {},
   "source": [
    "### 2) 데이터 분리"
   ]
  },
  {
   "cell_type": "code",
   "execution_count": 22,
   "id": "parallel-chance",
   "metadata": {},
   "outputs": [
    {
     "name": "stdout",
     "output_type": "stream",
     "text": [
      "[37737 30325 48693 ... 46413 42215 16766]\n"
     ]
    }
   ],
   "source": [
    "# 훈련 데이터 테스트 데이터 분리\n",
    "indices = np.arange(encoder_input.shape[0]) # encoder_input과 크기와 형태가 같은 정수 시퀀스 생성\n",
    "np.random.shuffle(indices) # 랜덤하게 섞기\n",
    "print(indices) # 순서가 섞인 정수 시퀀스 생성"
   ]
  },
  {
   "cell_type": "code",
   "execution_count": 23,
   "id": "meaning-contractor",
   "metadata": {},
   "outputs": [],
   "source": [
    "# 샘플 순서를 랜덤 시퀀스를 이용해서 정의\n",
    "encoder_input = encoder_input[indices]\n",
    "decoder_input = decoder_input[indices]\n",
    "decoder_target = decoder_target[indices]"
   ]
  },
  {
   "cell_type": "code",
   "execution_count": 24,
   "id": "tribal-perfume",
   "metadata": {},
   "outputs": [
    {
     "name": "stdout",
     "output_type": "stream",
     "text": [
      "테스트 데이터의 수 : 15138\n"
     ]
    }
   ],
   "source": [
    "# 8:2의 비율로 훈련 데이터와 테스트 데이터로 분리\n",
    "n_of_val = int(len(encoder_input)*0.2)\n",
    "print('테스트 데이터의 수 :',n_of_val)"
   ]
  },
  {
   "cell_type": "code",
   "execution_count": 25,
   "id": "horizontal-environment",
   "metadata": {},
   "outputs": [
    {
     "name": "stdout",
     "output_type": "stream",
     "text": [
      "훈련 데이터의 개수 :  60554\n",
      "훈련 레이블의 개수 :  60554\n",
      "테스트 데이터의 개수 :  15138\n",
      "테스트 데이터의 개수 :  15138\n"
     ]
    }
   ],
   "source": [
    "# 정의한 테스트 데이터의 개수를 이용해 전체 데이터를 양분\n",
    "\n",
    "encoder_input_train = encoder_input[:-n_of_val] # 맨뒤 n_of_val개를 제외한 나머지\n",
    "decoder_input_train = decoder_input[:-n_of_val] \n",
    "decoder_target_train = decoder_target[:-n_of_val]\n",
    "\n",
    "encoder_input_test = encoder_input[-n_of_val:] # 맨앞 n_of_val개를 제외한 나머지\n",
    "decoder_input_test = decoder_input[-n_of_val:]\n",
    "decoder_target_test = decoder_target[-n_of_val:]\n",
    "\n",
    "print('훈련 데이터의 개수 : ', len(encoder_input_train))\n",
    "print('훈련 레이블의 개수 : ', len(decoder_input_train))\n",
    "print('테스트 데이터의 개수 : ', len(encoder_input_test))\n",
    "print('테스트 데이터의 개수 : ', len(decoder_input_test))"
   ]
  },
  {
   "cell_type": "markdown",
   "id": "continental-edgar",
   "metadata": {},
   "source": [
    "### 3) 단어집합 만들기, 정수 인코딩하기"
   ]
  },
  {
   "cell_type": "code",
   "execution_count": 26,
   "id": "transsexual-amateur",
   "metadata": {},
   "outputs": [],
   "source": [
    "src_tokenizer = Tokenizer() # 토크나이저 정의\n",
    "src_tokenizer.fit_on_texts(encoder_input_train) # 입력된 데이터로부터 단어 집합 생성"
   ]
  },
  {
   "cell_type": "code",
   "execution_count": 27,
   "id": "boring-liver",
   "metadata": {},
   "outputs": [
    {
     "name": "stdout",
     "output_type": "stream",
     "text": [
      "단어 집합(vocabulary)의 크기 : 60298\n",
      "등장 빈도가 7번 이하인 희귀 단어의 수: 42578\n",
      "단어 집합에서 희귀 단어를 제외시킬 경우의 단어 집합의 크기 17720\n",
      "단어 집합에서 희귀 단어의 비율: 70.61262396762746\n",
      "전체 등장 빈도에서 희귀 단어 등장 빈도 비율: 4.545664956197134\n"
     ]
    }
   ],
   "source": [
    "threshold = 8 # 등장 빈도수\n",
    "total_cnt = len(src_tokenizer.word_index) # 단어의 수\n",
    "rare_cnt = 0 # 등장 빈도수가 threshold보다 작은 단어의 개수를 카운트\n",
    "total_freq = 0 # 훈련 데이터의 전체 단어 빈도수 총 합\n",
    "rare_freq = 0 # 등장 빈도수가 threshold보다 작은 단어의 등장 빈도수의 총 합\n",
    "\n",
    "# 단어와 빈도수의 쌍(pair)을 key와 value로 받는다.\n",
    "for key, value in src_tokenizer.word_counts.items():\n",
    "    total_freq = total_freq + value\n",
    "\n",
    "    # 단어의 등장 빈도수가 threshold보다 작으면\n",
    "    if(value < threshold):\n",
    "        rare_cnt = rare_cnt + 1\n",
    "        rare_freq = rare_freq + value\n",
    "\n",
    "print('단어 집합(vocabulary)의 크기 :',total_cnt)\n",
    "print('등장 빈도가 %s번 이하인 희귀 단어의 수: %s'%(threshold - 1, rare_cnt))\n",
    "print('단어 집합에서 희귀 단어를 제외시킬 경우의 단어 집합의 크기 %s'%(total_cnt - rare_cnt))\n",
    "print(\"단어 집합에서 희귀 단어의 비율:\", (rare_cnt / total_cnt)*100)\n",
    "print(\"전체 등장 빈도에서 희귀 단어 등장 빈도 비율:\", (rare_freq / total_freq)*100)"
   ]
  },
  {
   "cell_type": "code",
   "execution_count": 28,
   "id": "nervous-float",
   "metadata": {},
   "outputs": [],
   "source": [
    "src_vocab = 17000\n",
    "src_tokenizer = Tokenizer(num_words = src_vocab) # 단어 집합의 크기를 11,000으로 제한\n",
    "src_tokenizer.fit_on_texts(encoder_input_train) # 단어 집합 재생성."
   ]
  },
  {
   "cell_type": "code",
   "execution_count": 29,
   "id": "fossil-democrat",
   "metadata": {},
   "outputs": [
    {
     "name": "stdout",
     "output_type": "stream",
     "text": [
      "[[188, 836, 1269, 397, 78, 398, 348, 156, 1327, 1410, 634, 4146, 345, 277, 2110, 275, 3106, 2043, 54, 562, 1318, 965, 10847, 1210, 85, 118, 3535, 281, 223, 227, 3954, 3106, 92], [630, 11578, 13523, 14869, 14151, 535, 630, 4838, 897, 1606, 6020, 103, 469, 3161, 111, 5168, 7583, 11578, 1, 897, 1606, 975, 11190, 979, 349, 475], [494, 9, 52, 2321, 477, 16614, 179, 6917, 3536, 199, 2816, 1781, 9, 258, 4114, 546, 62, 93, 6311, 5293, 65, 511, 561, 383, 424, 1431, 6597, 117, 28, 9, 1177, 4303, 477, 4528, 167, 888]]\n",
      "[[213, 3, 13, 337, 885, 3726, 6083, 73, 129, 293, 3719, 7, 1, 301, 337, 483, 536, 511, 2667, 8233, 1609, 2835, 86, 5596, 3279, 7, 2, 167, 8, 1165, 878, 858], [427, 1737, 1620, 347, 55, 41, 663, 19, 264, 163, 1017, 39, 160, 326, 9, 503, 1896, 1718, 58, 252, 163, 374, 189, 15, 148, 75, 1237, 355, 1, 193, 77, 75, 1746, 10, 112, 975], [1632, 32, 19, 3723, 2510, 427, 1366, 2241, 3827, 5742, 50, 5519, 4101, 1, 41, 2491, 4750, 2510, 1660, 1366, 278, 543, 41, 21, 4101, 1228, 472, 3220, 61, 774, 2464, 853, 4121, 664, 13020]]\n"
     ]
    }
   ],
   "source": [
    "# 텍스트 시퀀스를 정수 시퀀스로 변환\n",
    "encoder_input_train = src_tokenizer.texts_to_sequences(encoder_input_train)\n",
    "encoder_input_test = src_tokenizer.texts_to_sequences(encoder_input_test)\n",
    "\n",
    "# 잘 진행되었는지 샘플 출력\n",
    "print(encoder_input_train[:3])\n",
    "print(encoder_input_test[:3])"
   ]
  },
  {
   "cell_type": "code",
   "execution_count": 30,
   "id": "chief-terror",
   "metadata": {},
   "outputs": [],
   "source": [
    "# headlines 에도 적용\n",
    "tar_tokenizer = Tokenizer()\n",
    "tar_tokenizer.fit_on_texts(decoder_input_train)"
   ]
  },
  {
   "cell_type": "code",
   "execution_count": 31,
   "id": "molecular-amplifier",
   "metadata": {},
   "outputs": [
    {
     "name": "stdout",
     "output_type": "stream",
     "text": [
      "단어 집합(vocabulary)의 크기 : 26998\n",
      "등장 빈도가 6번 이하인 희귀 단어의 수: 18784\n",
      "단어 집합에서 희귀 단어를 제외시킬 경우의 단어 집합의 크기 8214\n",
      "단어 집합에서 희귀 단어의 비율: 69.57552411289724\n",
      "전체 등장 빈도에서 희귀 단어 등장 빈도 비율: 6.3982873987504405\n"
     ]
    }
   ],
   "source": [
    "threshold = 7\n",
    "total_cnt = len(tar_tokenizer.word_index) # 단어의 수\n",
    "rare_cnt = 0 # 등장 빈도수가 threshold보다 작은 단어의 개수를 카운트\n",
    "total_freq = 0 # 훈련 데이터의 전체 단어 빈도수 총 합\n",
    "rare_freq = 0 # 등장 빈도수가 threshold보다 작은 단어의 등장 빈도수의 총 합\n",
    "\n",
    "# 단어와 빈도수의 쌍(pair)을 key와 value로 받는다.\n",
    "for key, value in tar_tokenizer.word_counts.items():\n",
    "    total_freq = total_freq + value\n",
    "\n",
    "    # 단어의 등장 빈도수가 threshold보다 작으면\n",
    "    if(value < threshold):\n",
    "        rare_cnt = rare_cnt + 1\n",
    "        rare_freq = rare_freq + value\n",
    "\n",
    "print('단어 집합(vocabulary)의 크기 :',total_cnt)\n",
    "print('등장 빈도가 %s번 이하인 희귀 단어의 수: %s'%(threshold - 1, rare_cnt))\n",
    "print('단어 집합에서 희귀 단어를 제외시킬 경우의 단어 집합의 크기 %s'%(total_cnt - rare_cnt))\n",
    "print(\"단어 집합에서 희귀 단어의 비율:\", (rare_cnt / total_cnt)*100)\n",
    "print(\"전체 등장 빈도에서 희귀 단어 등장 빈도 비율:\", (rare_freq / total_freq)*100)"
   ]
  },
  {
   "cell_type": "code",
   "execution_count": 32,
   "id": "brazilian-scottish",
   "metadata": {},
   "outputs": [
    {
     "name": "stdout",
     "output_type": "stream",
     "text": [
      "input\n",
      "input  [[1, 168, 99, 170, 6, 1733, 9, 5162, 37, 1082], [1, 23, 12, 2131, 5163, 880, 414, 20, 977, 464], [1, 594, 22, 3, 1624, 325, 388, 5791, 14, 279], [1, 2238, 978, 152, 1083, 5, 6547, 521, 64], [1, 4188, 84, 21, 102, 3, 2092, 17, 4704, 949, 9, 3617]]\n",
      "target\n",
      "decoder  [[168, 99, 170, 6, 1733, 9, 5162, 37, 1082, 2], [23, 12, 2131, 5163, 880, 414, 20, 977, 464, 2], [594, 22, 3, 1624, 325, 388, 5791, 14, 279, 2], [2238, 978, 152, 1083, 5, 6547, 521, 64, 2], [4188, 84, 21, 102, 3, 2092, 17, 4704, 949, 9, 3617, 2]]\n"
     ]
    }
   ],
   "source": [
    "tar_vocab = 8000\n",
    "tar_tokenizer = Tokenizer(num_words = tar_vocab) \n",
    "tar_tokenizer.fit_on_texts(decoder_input_train)\n",
    "tar_tokenizer.fit_on_texts(decoder_target_train)\n",
    "\n",
    "# 텍스트 시퀀스를 정수 시퀀스로 변환\n",
    "decoder_input_train = tar_tokenizer.texts_to_sequences(decoder_input_train) \n",
    "decoder_target_train = tar_tokenizer.texts_to_sequences(decoder_target_train)\n",
    "decoder_input_test = tar_tokenizer.texts_to_sequences(decoder_input_test)\n",
    "decoder_target_test = tar_tokenizer.texts_to_sequences(decoder_target_test)\n",
    "\n",
    "#잘 변환되었는지 확인\n",
    "print('input')\n",
    "print('input ',decoder_input_train[:5])\n",
    "print('target')\n",
    "print('decoder ',decoder_target_train[:5])"
   ]
  },
  {
   "cell_type": "code",
   "execution_count": 33,
   "id": "ordered-failing",
   "metadata": {},
   "outputs": [
    {
     "name": "stdout",
     "output_type": "stream",
     "text": [
      "삭제할 훈련 데이터의 개수 : 1\n",
      "삭제할 테스트 데이터의 개수 : 0\n",
      "훈련 데이터의 개수 : 60553\n",
      "훈련 레이블의 개수 : 60553\n",
      "테스트 데이터의 개수 : 15138\n",
      "테스트 레이블의 개수 : 15138\n"
     ]
    },
    {
     "name": "stderr",
     "output_type": "stream",
     "text": [
      "/opt/conda/lib/python3.7/site-packages/numpy/core/_asarray.py:83: VisibleDeprecationWarning: Creating an ndarray from ragged nested sequences (which is a list-or-tuple of lists-or-tuples-or ndarrays with different lengths or shapes) is deprecated. If you meant to do this, you must specify 'dtype=object' when creating the ndarray\n",
      "  return array(a, dtype, copy=False, order=order)\n"
     ]
    }
   ],
   "source": [
    "# 빈도수가 낮은 단어들로만 구성되었던 문장들을 제거\n",
    "# headline의 길이가 1인 경우 drop\n",
    "drop_train = [index for index, sentence in enumerate(decoder_input_train) if len(sentence) == 1]\n",
    "drop_test = [index for index, sentence in enumerate(decoder_input_test) if len(sentence) == 1]\n",
    "\n",
    "print('삭제할 훈련 데이터의 개수 :',len(drop_train))\n",
    "print('삭제할 테스트 데이터의 개수 :',len(drop_test))\n",
    "\n",
    "encoder_input_train = np.delete(encoder_input_train, drop_train, axis=0)\n",
    "decoder_input_train = np.delete(decoder_input_train, drop_train, axis=0)\n",
    "decoder_target_train = np.delete(decoder_target_train, drop_train, axis=0)\n",
    "\n",
    "encoder_input_test = np.delete(encoder_input_test, drop_test, axis=0)\n",
    "decoder_input_test = np.delete(decoder_input_test, drop_test, axis=0)\n",
    "decoder_target_test = np.delete(decoder_target_test, drop_test, axis=0)\n",
    "\n",
    "print('훈련 데이터의 개수 :', len(encoder_input_train))\n",
    "print('훈련 레이블의 개수 :',len(decoder_input_train))\n",
    "print('테스트 데이터의 개수 :',len(encoder_input_test))\n",
    "print('테스트 레이블의 개수 :',len(decoder_input_test))"
   ]
  },
  {
   "cell_type": "code",
   "execution_count": 34,
   "id": "sized-haven",
   "metadata": {},
   "outputs": [],
   "source": [
    "# 최대 길이보다 짧은 데이터들은 뒤의 공간에 숫자 0을 넣어줌\n",
    "# 아까 정해두었던 최대 길이로 패딩\n",
    "encoder_input_train = pad_sequences(encoder_input_train, maxlen = text_max_len, padding='post')\n",
    "encoder_input_test = pad_sequences(encoder_input_test, maxlen = text_max_len, padding='post')\n",
    "decoder_input_train = pad_sequences(decoder_input_train, maxlen = headline_max_len, padding='post')\n",
    "decoder_target_train = pad_sequences(decoder_target_train, maxlen = headline_max_len, padding='post')\n",
    "decoder_input_test = pad_sequences(decoder_input_test, maxlen = headline_max_len, padding='post')\n",
    "decoder_target_test = pad_sequences(decoder_target_test, maxlen = headline_max_len, padding='post')"
   ]
  },
  {
   "cell_type": "markdown",
   "id": "mineral-massachusetts",
   "metadata": {},
   "source": [
    "## 3. 어텐션 메커니즘 사용하기 (추상적 요약)"
   ]
  },
  {
   "cell_type": "code",
   "execution_count": 35,
   "id": "designed-promotion",
   "metadata": {},
   "outputs": [
    {
     "name": "stdout",
     "output_type": "stream",
     "text": [
      "WARNING:tensorflow:Layer lstm will not use cuDNN kernel since it doesn't meet the cuDNN kernel criteria. It will use generic GPU kernel as fallback when running on GPU\n",
      "WARNING:tensorflow:Layer lstm_1 will not use cuDNN kernel since it doesn't meet the cuDNN kernel criteria. It will use generic GPU kernel as fallback when running on GPU\n",
      "WARNING:tensorflow:Layer lstm_2 will not use cuDNN kernel since it doesn't meet the cuDNN kernel criteria. It will use generic GPU kernel as fallback when running on GPU\n"
     ]
    }
   ],
   "source": [
    "from tensorflow.keras.layers import Input, LSTM, Embedding, Dense, Concatenate\n",
    "from tensorflow.keras.models import Model\n",
    "from tensorflow.keras.callbacks import EarlyStopping, ModelCheckpoint\n",
    "\n",
    "# 인코더 설계 시작\n",
    "embedding_dim = 128\n",
    "hidden_size = 256\n",
    "\n",
    "# 인코더\n",
    "encoder_inputs = Input(shape=(text_max_len,))\n",
    "\n",
    "# 인코더의 임베딩 층\n",
    "enc_emb = Embedding(src_vocab, embedding_dim)(encoder_inputs)\n",
    "\n",
    "# 인코더의 LSTM 1\n",
    "encoder_lstm1 = LSTM(hidden_size, return_sequences=True, return_state=True, dropout=0.4, recurrent_dropout = 0.4 )\n",
    "encoder_output1, state_h1, state_c1 = encoder_lstm1(enc_emb) \n",
    "\n",
    "# 인코더의 LSTM 2\n",
    "encoder_lstm2 = LSTM(hidden_size, return_sequences=True, return_state=True, dropout=0.4, recurrent_dropout=0.4)\n",
    "encoder_output2, state_h2, state_c2 = encoder_lstm2(encoder_output1)\n",
    "\n",
    "# 인코더의 LSTM 3\n",
    "encoder_lstm3 = LSTM(hidden_size, return_state=True, return_sequences=True, dropout=0.4, recurrent_dropout=0.4)\n",
    "encoder_outputs, state_h, state_c= encoder_lstm3(encoder_output2)"
   ]
  },
  {
   "cell_type": "code",
   "execution_count": 36,
   "id": "raising-greece",
   "metadata": {},
   "outputs": [
    {
     "name": "stdout",
     "output_type": "stream",
     "text": [
      "WARNING:tensorflow:Layer lstm_3 will not use cuDNN kernel since it doesn't meet the cuDNN kernel criteria. It will use generic GPU kernel as fallback when running on GPU\n"
     ]
    }
   ],
   "source": [
    "# 디코더 설계\n",
    "decoder_inputs = Input(shape=(None,))\n",
    "\n",
    "# 디코더의 임베딩 층\n",
    "dec_emb_layer = Embedding(tar_vocab, embedding_dim)\n",
    "dec_emb = dec_emb_layer(decoder_inputs)\n",
    "\n",
    "# 디코더의 LSTM\n",
    "decoder_lstm = LSTM(hidden_size, return_sequences = True, return_state = True, dropout = 0.4, recurrent_dropout=0.2)\n",
    "decoder_outputs, _, _ = decoder_lstm(dec_emb, initial_state = [state_h, state_c])"
   ]
  },
  {
   "cell_type": "code",
   "execution_count": 37,
   "id": "approximate-enemy",
   "metadata": {},
   "outputs": [
    {
     "name": "stdout",
     "output_type": "stream",
     "text": [
      "Model: \"model\"\n",
      "__________________________________________________________________________________________________\n",
      "Layer (type)                    Output Shape         Param #     Connected to                     \n",
      "==================================================================================================\n",
      "input_1 (InputLayer)            [(None, 38)]         0                                            \n",
      "__________________________________________________________________________________________________\n",
      "embedding (Embedding)           (None, 38, 128)      2176000     input_1[0][0]                    \n",
      "__________________________________________________________________________________________________\n",
      "lstm (LSTM)                     [(None, 38, 256), (N 394240      embedding[0][0]                  \n",
      "__________________________________________________________________________________________________\n",
      "input_2 (InputLayer)            [(None, None)]       0                                            \n",
      "__________________________________________________________________________________________________\n",
      "lstm_1 (LSTM)                   [(None, 38, 256), (N 525312      lstm[0][0]                       \n",
      "__________________________________________________________________________________________________\n",
      "embedding_1 (Embedding)         (None, None, 128)    1024000     input_2[0][0]                    \n",
      "__________________________________________________________________________________________________\n",
      "lstm_2 (LSTM)                   [(None, 38, 256), (N 525312      lstm_1[0][0]                     \n",
      "__________________________________________________________________________________________________\n",
      "lstm_3 (LSTM)                   [(None, None, 256),  394240      embedding_1[0][0]                \n",
      "                                                                 lstm_2[0][1]                     \n",
      "                                                                 lstm_2[0][2]                     \n",
      "__________________________________________________________________________________________________\n",
      "dense (Dense)                   (None, None, 8000)   2056000     lstm_3[0][0]                     \n",
      "==================================================================================================\n",
      "Total params: 7,095,104\n",
      "Trainable params: 7,095,104\n",
      "Non-trainable params: 0\n",
      "__________________________________________________________________________________________________\n"
     ]
    }
   ],
   "source": [
    "# 디코더의 출력층\n",
    "decoder_softmax_layer = Dense(tar_vocab, activation = 'softmax')\n",
    "decoder_softmax_outputs = decoder_softmax_layer(decoder_outputs) \n",
    "\n",
    "# 모델 정의\n",
    "model = Model([encoder_inputs, decoder_inputs], decoder_softmax_outputs)\n",
    "model.summary()"
   ]
  },
  {
   "cell_type": "code",
   "execution_count": 38,
   "id": "adopted-blast",
   "metadata": {},
   "outputs": [],
   "source": [
    "# GitHub의 어텐션 함수 다운로드\n",
    "urllib.request.urlretrieve(\"https://raw.githubusercontent.com/thushv89/attention_keras/master/src/layers/attention.py\", filename=\"attention.py\")\n",
    "from attention import AttentionLayer"
   ]
  },
  {
   "cell_type": "code",
   "execution_count": 39,
   "id": "handy-amazon",
   "metadata": {},
   "outputs": [
    {
     "name": "stdout",
     "output_type": "stream",
     "text": [
      "Model: \"model_1\"\n",
      "__________________________________________________________________________________________________\n",
      "Layer (type)                    Output Shape         Param #     Connected to                     \n",
      "==================================================================================================\n",
      "input_1 (InputLayer)            [(None, 38)]         0                                            \n",
      "__________________________________________________________________________________________________\n",
      "embedding (Embedding)           (None, 38, 128)      2176000     input_1[0][0]                    \n",
      "__________________________________________________________________________________________________\n",
      "lstm (LSTM)                     [(None, 38, 256), (N 394240      embedding[0][0]                  \n",
      "__________________________________________________________________________________________________\n",
      "input_2 (InputLayer)            [(None, None)]       0                                            \n",
      "__________________________________________________________________________________________________\n",
      "lstm_1 (LSTM)                   [(None, 38, 256), (N 525312      lstm[0][0]                       \n",
      "__________________________________________________________________________________________________\n",
      "embedding_1 (Embedding)         (None, None, 128)    1024000     input_2[0][0]                    \n",
      "__________________________________________________________________________________________________\n",
      "lstm_2 (LSTM)                   [(None, 38, 256), (N 525312      lstm_1[0][0]                     \n",
      "__________________________________________________________________________________________________\n",
      "lstm_3 (LSTM)                   [(None, None, 256),  394240      embedding_1[0][0]                \n",
      "                                                                 lstm_2[0][1]                     \n",
      "                                                                 lstm_2[0][2]                     \n",
      "__________________________________________________________________________________________________\n",
      "attention_layer (AttentionLayer ((None, None, 256),  131328      lstm_2[0][0]                     \n",
      "                                                                 lstm_3[0][0]                     \n",
      "__________________________________________________________________________________________________\n",
      "concat_layer (Concatenate)      (None, None, 512)    0           lstm_3[0][0]                     \n",
      "                                                                 attention_layer[0][0]            \n",
      "__________________________________________________________________________________________________\n",
      "dense_1 (Dense)                 (None, None, 8000)   4104000     concat_layer[0][0]               \n",
      "==================================================================================================\n",
      "Total params: 9,274,432\n",
      "Trainable params: 9,274,432\n",
      "Non-trainable params: 0\n",
      "__________________________________________________________________________________________________\n"
     ]
    }
   ],
   "source": [
    "# 어텐션 층(어텐션 함수)\n",
    "attn_layer = AttentionLayer(name='attention_layer')\n",
    "# 인코더와 디코더의 모든 time step의 hidden state를 어텐션 층에 전달하고 결과를 리턴\n",
    "attn_out, attn_states = attn_layer([encoder_outputs, decoder_outputs])\n",
    "\n",
    "# 어텐션의 결과와 디코더의 hidden state들을 연결\n",
    "decoder_concat_input = Concatenate(axis = -1, name='concat_layer')([decoder_outputs, attn_out])\n",
    "\n",
    "# 디코더의 출력층\n",
    "decoder_softmax_layer = Dense(tar_vocab, activation='softmax')\n",
    "decoder_softmax_outputs = decoder_softmax_layer(decoder_concat_input)\n",
    "\n",
    "# 모델 정의\n",
    "model = Model([encoder_inputs, decoder_inputs], decoder_softmax_outputs)\n",
    "model.summary()"
   ]
  },
  {
   "cell_type": "code",
   "execution_count": 40,
   "id": "horizontal-grocery",
   "metadata": {},
   "outputs": [
    {
     "name": "stdout",
     "output_type": "stream",
     "text": [
      "Epoch 1/50\n",
      "237/237 [==============================] - 155s 607ms/step - loss: 6.2589 - val_loss: 5.4679\n",
      "Epoch 2/50\n",
      "237/237 [==============================] - 147s 623ms/step - loss: 5.4395 - val_loss: 5.1230\n",
      "Epoch 3/50\n",
      "237/237 [==============================] - 147s 620ms/step - loss: 5.0857 - val_loss: 4.8607\n",
      "Epoch 4/50\n",
      "237/237 [==============================] - 144s 608ms/step - loss: 4.7922 - val_loss: 4.6473\n",
      "Epoch 5/50\n",
      "237/237 [==============================] - 144s 608ms/step - loss: 4.5657 - val_loss: 4.4985\n",
      "Epoch 6/50\n",
      "237/237 [==============================] - 143s 602ms/step - loss: 4.3544 - val_loss: 4.3753\n",
      "Epoch 7/50\n",
      "237/237 [==============================] - 142s 598ms/step - loss: 4.1851 - val_loss: 4.2651\n",
      "Epoch 8/50\n",
      "237/237 [==============================] - 141s 594ms/step - loss: 4.0372 - val_loss: 4.1939\n",
      "Epoch 9/50\n",
      "237/237 [==============================] - 140s 591ms/step - loss: 3.9095 - val_loss: 4.1284\n",
      "Epoch 10/50\n",
      "237/237 [==============================] - 141s 594ms/step - loss: 3.7832 - val_loss: 4.0595\n",
      "Epoch 11/50\n",
      "237/237 [==============================] - 142s 599ms/step - loss: 3.6781 - val_loss: 4.0207\n",
      "Epoch 12/50\n",
      "237/237 [==============================] - 141s 597ms/step - loss: 3.5797 - val_loss: 3.9855\n",
      "Epoch 13/50\n",
      "237/237 [==============================] - 142s 598ms/step - loss: 3.4925 - val_loss: 3.9476\n",
      "Epoch 14/50\n",
      "237/237 [==============================] - 143s 602ms/step - loss: 3.4080 - val_loss: 3.9224\n",
      "Epoch 15/50\n",
      "237/237 [==============================] - 141s 594ms/step - loss: 3.3307 - val_loss: 3.8972\n",
      "Epoch 16/50\n",
      "237/237 [==============================] - 142s 599ms/step - loss: 3.2695 - val_loss: 3.8752\n",
      "Epoch 17/50\n",
      "237/237 [==============================] - 142s 601ms/step - loss: 3.2012 - val_loss: 3.8597\n",
      "Epoch 18/50\n",
      "237/237 [==============================] - 142s 599ms/step - loss: 3.1441 - val_loss: 3.8579\n",
      "Epoch 19/50\n",
      "237/237 [==============================] - 142s 600ms/step - loss: 3.0819 - val_loss: 3.8461\n",
      "Epoch 20/50\n",
      "237/237 [==============================] - 143s 602ms/step - loss: 3.0276 - val_loss: 3.8346\n",
      "Epoch 21/50\n",
      "237/237 [==============================] - 142s 600ms/step - loss: 2.9746 - val_loss: 3.8340\n",
      "Epoch 22/50\n",
      "237/237 [==============================] - 143s 602ms/step - loss: 2.9262 - val_loss: 3.8224\n",
      "Epoch 23/50\n",
      "237/237 [==============================] - 145s 611ms/step - loss: 2.8838 - val_loss: 3.8149\n",
      "Epoch 24/50\n",
      "237/237 [==============================] - 143s 604ms/step - loss: 2.8363 - val_loss: 3.8174\n",
      "Epoch 25/50\n",
      "237/237 [==============================] - 143s 605ms/step - loss: 2.7981 - val_loss: 3.8148\n",
      "Epoch 26/50\n",
      "237/237 [==============================] - 142s 599ms/step - loss: 2.7662 - val_loss: 3.8230\n",
      "Epoch 27/50\n",
      "237/237 [==============================] - 143s 605ms/step - loss: 2.7182 - val_loss: 3.8109\n",
      "Epoch 28/50\n",
      "237/237 [==============================] - 142s 600ms/step - loss: 2.6860 - val_loss: 3.8159\n",
      "Epoch 29/50\n",
      "237/237 [==============================] - 143s 604ms/step - loss: 2.6535 - val_loss: 3.8119\n",
      "Epoch 00029: early stopping\n"
     ]
    }
   ],
   "source": [
    "model.compile(optimizer='rmsprop', loss='sparse_categorical_crossentropy')\n",
    "es = EarlyStopping(monitor='val_loss', mode='min', verbose=1, patience = 2)\n",
    "history = model.fit(x = [encoder_input_train, decoder_input_train], y = decoder_target_train, \\\n",
    "          validation_data = ([encoder_input_test, decoder_input_test], decoder_target_test),\n",
    "          batch_size = 256, callbacks=[es], epochs = 50)"
   ]
  },
  {
   "cell_type": "code",
   "execution_count": 41,
   "id": "fuzzy-collaboration",
   "metadata": {},
   "outputs": [
    {
     "data": {
      "image/png": "[encoded data removed]",
      "text/plain": [
       "<Figure size 432x288 with 1 Axes>"
      ]
     },
     "metadata": {
      "needs_background": "light"
     },
     "output_type": "display_data"
    }
   ],
   "source": [
    "plt.plot(history.history['loss'], label='train')\n",
    "plt.plot(history.history['val_loss'], label='test')\n",
    "plt.legend()\n",
    "plt.show()"
   ]
  },
  {
   "cell_type": "code",
   "execution_count": 42,
   "id": "executed-shell",
   "metadata": {},
   "outputs": [],
   "source": [
    "# 정수 인덱스로 되어있던 텍스트 데이터를 실제 데이터로 복원하기\n",
    "src_index_to_word = src_tokenizer.index_word # 원문 단어 집합에서 정수 -> 단어를 얻음\n",
    "tar_word_to_index = tar_tokenizer.word_index # 요약 단어 집합에서 단어 -> 정수를 얻음\n",
    "tar_index_to_word = tar_tokenizer.index_word # 요약 단어 집합에서 정수 -> 단어를 얻음"
   ]
  },
  {
   "cell_type": "code",
   "execution_count": 43,
   "id": "baking-valuable",
   "metadata": {},
   "outputs": [],
   "source": [
    "# 인퍼런스 단계에서는 인코더 모델과 디코더 모델 분리해서 설계\n",
    "\n",
    "# 인코더 설계\n",
    "encoder_model = Model(inputs=encoder_inputs, outputs=[encoder_outputs, state_h, state_c])\n",
    "\n",
    "# 이전 시점의 상태들을 저장하는 텐서\n",
    "decoder_state_input_h = Input(shape=(hidden_size,))\n",
    "decoder_state_input_c = Input(shape=(hidden_size,))\n",
    "\n",
    "dec_emb2 = dec_emb_layer(decoder_inputs)\n",
    "\n",
    "# 문장의 다음 단어를 예측하기 위해 초기 상태를 이전 시점 상태로 사용. 이는 뒤의 함수 decode_sequence()에 구현\n",
    "# 훈련과정과 달리 LSTM의 리턴하는 은닉 상태와 셀 상태인 state_h, state_c 를 버리지 않음\n",
    "decoder_outputs2, state_h2, state_c2 = decoder_lstm(dec_emb2, initial_state=[decoder_state_input_h, decoder_state_input_c])"
   ]
  },
  {
   "cell_type": "code",
   "execution_count": 44,
   "id": "color-christmas",
   "metadata": {},
   "outputs": [],
   "source": [
    "# 어텐션 함수\n",
    "decoder_hidden_state_input = Input(shape=(text_max_len, hidden_size))\n",
    "attn_out_inf, attn_states_inf = attn_layer([decoder_hidden_state_input, decoder_outputs2])\n",
    "decoder_inf_concat = Concatenate(axis=-1, name='concat')([decoder_outputs2, attn_out_inf])\n",
    "\n",
    "# 디코더의 출력층\n",
    "decoder_outputs2 = decoder_softmax_layer(decoder_inf_concat)\n",
    "\n",
    "# 최종 디코더 모델\n",
    "decoder_model = Model(\n",
    "    [decoder_inputs] + [decoder_hidden_state_input,decoder_state_input_h, decoder_state_input_c],\n",
    "    [decoder_outputs2] + [state_h2, state_c2])"
   ]
  },
  {
   "cell_type": "code",
   "execution_count": 45,
   "id": "deadly-hypothesis",
   "metadata": {},
   "outputs": [],
   "source": [
    "def decode_sequence(input_seq):\n",
    "    # 입력으로부터 인코더의 상태를 얻음\n",
    "    e_out, e_h, e_c = encoder_model.predict(input_seq)\n",
    "\n",
    "     # <SOS>에 해당하는 토큰 생성\n",
    "    target_seq = np.zeros((1,1))\n",
    "    target_seq[0, 0] = tar_word_to_index['sostoken']\n",
    "\n",
    "    stop_condition = False\n",
    "    decoded_sentence = ''\n",
    "    while not stop_condition: # stop_condition이 True가 될 때까지 루프 반복\n",
    "\n",
    "        output_tokens, h, c = decoder_model.predict([target_seq] + [e_out, e_h, e_c])\n",
    "        sampled_token_index = np.argmax(output_tokens[0, -1, :])\n",
    "        sampled_token = tar_index_to_word[sampled_token_index]\n",
    "\n",
    "        if(sampled_token!='eostoken'):\n",
    "            decoded_sentence += ' '+sampled_token\n",
    "\n",
    "        #  <eos>에 도달하거나 최대 길이를 넘으면 중단.\n",
    "        if (sampled_token == 'eostoken'  or len(decoded_sentence.split()) >= (headline_max_len-1)):\n",
    "            stop_condition = True\n",
    "\n",
    "        # 길이가 1인 타겟 시퀀스를 업데이트\n",
    "        target_seq = np.zeros((1,1))\n",
    "        target_seq[0, 0] = sampled_token_index\n",
    "\n",
    "        # 상태를 업데이트 합니다.\n",
    "        e_h, e_c = h, c\n",
    "\n",
    "    return decoded_sentence"
   ]
  },
  {
   "cell_type": "markdown",
   "id": "applicable-victory",
   "metadata": {},
   "source": [
    "## 4. 실제 결과와 요약문 비교하기 (추상적 요약)"
   ]
  },
  {
   "cell_type": "code",
   "execution_count": 46,
   "id": "determined-junction",
   "metadata": {},
   "outputs": [],
   "source": [
    "# 원문의 정수 시퀀스를 텍스트 시퀀스로 변환\n",
    "def seq2text(input_seq):\n",
    "    temp=''\n",
    "    for i in input_seq:\n",
    "        if(i!=0):\n",
    "            temp = temp + src_index_to_word[i]+' '\n",
    "    return temp\n",
    "\n",
    "# 요약문의 정수 시퀀스를 텍스트 시퀀스로 변환\n",
    "def seq2summary(input_seq):\n",
    "    temp=''\n",
    "    for i in input_seq:\n",
    "        if((i!=0 and i!=tar_word_to_index['sostoken']) and i!=tar_word_to_index['eostoken']):\n",
    "            temp = temp + tar_index_to_word[i] + ' '\n",
    "    return temp"
   ]
  },
  {
   "cell_type": "code",
   "execution_count": 47,
   "id": "inside-parallel",
   "metadata": {
    "scrolled": true
   },
   "outputs": [
    {
     "name": "stdout",
     "output_type": "stream",
     "text": [
      "원문 : bengaluru named th cheapest city world economist intelligence unit cost living index chennai ranked th cheapest location new delhi listed th spot survey mentioned within asia best value money traditionally particularly offered indian pakistani cities \n",
      "실제 요약 : indian cities named among world cheapest cities \n",
      "예측 요약 :  bengaluru to host world th largest cryptocurrency\n",
      "\n",
      "\n",
      "원문 : us president donald trump saturday blamed paris climate agreement protests continued france increase fuel taxes government policies protests riots france people want pay large money much third world countries order maybe protect environment trump tweeted \n",
      "실제 요약 : trump blames paris climate agreement for protests in france \n",
      "예측 요약 :  trump threatens to paris climate deal ban\n",
      "\n",
      "\n",
      "원문 : mudslides flash floods triggered tropical storm philippines killed around people left thousands homeless disaster officials said many residents ignored warnings leave coastal areas super typhoon killed nearly people left families homeless year \n",
      "실제 요약 : death toll in philippine flooding rises to \n",
      "예측 요약 :  maoists killed in blast due to heavy rains\n",
      "\n",
      "\n",
      "원문 : year old girl rape uncle came light taken maharashtra hospital stomach ache delivered baby seventh month accused run sexually assaulting victim may threatened kill narrated incident anyone police said \n",
      "실제 요약 : year old girl rape by uncle revealed after she delivers baby \n",
      "예측 요약 :  year old girl raped by parents in haryana\n",
      "\n",
      "\n",
      "원문 : technology giant google removed headphone jack pixel pixel xl smartphones launched wednesday google also launched wireless earphones called pixel available price android oreo powered devices water resistant include features like built google lens recognise phone numbers \n",
      "실제 요약 : google removes jack in pixel smartphones \n",
      "예측 요약 :  google pixel xl xl pixel xl in pixel xl\n",
      "\n",
      "\n",
      "원문 : year old indian woman arrested delhi airport allegedly trying smuggle gold worth lakh country according official statement issued today eight gold two gold chains seized baggage searched statement added arrested arrival dubai \n",
      "실제 요약 : yr old woman carrying gold held at delhi airport \n",
      "예측 요약 :  woman held for smuggling gold at delhi airport\n",
      "\n",
      "\n",
      "원문 : australian tennis player nick kyrgios responded fan request twitter practising sidelines atp tournament canada tuesday fan posted twitter know long shot could hit minutes practicing kyrgios agreed also asking fans wanted practise \n",
      "실제 요약 : aus player responds to fan on twitter with him \n",
      "예측 요약 :  player posts video of fan invades fan invades field\n",
      "\n",
      "\n",
      "원문 : malayalam actress priya prakash varrier became popular clip showing song went viral paid around crore television commercial per reports year old girl also reportedly charging lakh per post social media accounts \n",
      "실제 요약 : priya whose clip went viral got cr for ad reports \n",
      "예측 요약 :  actress gets lakh to get tamil nadu\n",
      "\n",
      "\n",
      "원문 : infosys chairman nandan nilekani help centre development infrastructure national health protection scheme niti aayog official said consulted nilekani want build aadhaar like model scheme agreed help us official said provide lakh annual cover crore families \n",
      "실제 요약 : nilekani to develop it infra for health scheme \n",
      "예측 요약 :  govt proposes nilekani to scrap nilekani\n",
      "\n",
      "\n",
      "원문 : facebook ceo mark zuckerberg monday denied rumours running post us president rumours began announced visit us states visited end year get broader perspective make sure best serving community said zuckerberg \n",
      "실제 요약 : am not running for public office facebook ceo zuckerberg \n",
      "예측 요약 :  mark zuckerberg mark zuckerberg meeting with his\n",
      "\n",
      "\n",
      "원문 : bjp general secretary kailash wednesday said congress government madhya pradesh run mercy day comes delhi people government formed state added reacting statements congress said bjp insulting mandate given voters \n",
      "실제 요약 : congress govt in mp is running at our mercy bjp leader \n",
      "예측 요약 :  bjp mp calls bjp for poor people\n",
      "\n",
      "\n",
      "원문 : union cabinet wednesday gave principle nod sale government stake hindustan petroleum corporation india largest oil producer ongc crore become subsidiary ongc remain listed company post acquisition add million tonnes annual oil capacity ongc \n",
      "실제 요약 : cabinet approves sale of government stake in to ongc \n",
      "예측 요약 :  govt approves crore plan to raise crore\n",
      "\n",
      "\n",
      "원문 : lunch meeting un security council member nations white house president donald trump jokingly asked members us ambassador un nikki haley great job said otherwise could easily replaced however trump added haley would fired fantastic job \n",
      "실제 요약 : trump jokes us ambassador haley can be replaced \n",
      "예측 요약 :  trump is not enough to hide loans us president\n",
      "\n",
      "\n",
      "원문 : residents bengaluru new bamboo bazaar sunday staged protest proposed shift cantonment metro station bbmp playground located near station protesters claimed move children elderly space available also alleged justification provided bengaluru metro officials \n",
      "실제 요약 : residents protest against proposal to shift metro station \n",
      "예측 요약 :  bengaluru to get bengaluru metro stations\n",
      "\n",
      "\n",
      "원문 : police tuesday seized old scrapped currency notes worth crore three vehicles gujarat ahmedabad city detained seven persons connection matter come vadodara looking exchange demonetised currency notes new notes commission police station official said \n",
      "실제 요약 : demonetised notes worth crore seized in ahmedabad \n",
      "예측 요약 :  kg worth crore seized from delhi\n",
      "\n",
      "\n",
      "원문 : us based augmented reality startup magic leap announced sell first headset summer owner founded magic leap raised billion investors like google alibaba qualcomm among others startup also released first video demo featuring whose price yet revealed \n",
      "실제 요약 : startup that raised bn to sell st ar headset in summer \n",
      "예측 요약 :  startup raises mn from softbank in us\n",
      "\n",
      "\n",
      "원문 : us senator graham said football gifted president donald trump russian president vladimir putin may would check soccer ball listening devices never allow white house graham tweeted trump threw ball wife melania give son \n",
      "실제 요약 : putin may have football gifted to trump us senator \n",
      "예측 요약 :  trump putin putin putin putin\n",
      "\n",
      "\n",
      "원문 : bruhat bengaluru mahanagara palike identified drains across city main reason behind flooded roads blaming commerce shops shopping malls bbmp said appoint retired marshals monitor drains keep eye dumping also issue notices commercial establishments recycling \n",
      "실제 요약 : bengaluru civic body blames for flooded roads \n",
      "예측 요약 :  bengaluru civic body to replace cctv cameras\n",
      "\n",
      "\n",
      "원문 : actress deepika padukone said met ranveer singh wanted try concept casual dating told ranveer really like want keep open emotionally invest relationship said padukone six months pretty much emotionally invested us added \n",
      "실제 요약 : told ranveer want open relationship when we met in deepika \n",
      "예측 요약 :  deepika is not an easy ranveer on dating rumours\n",
      "\n",
      "\n",
      "원문 : actor ashutosh rana said relaxed actor bollywood adding hurry competition said people appreciate keep repeating also said film career moving pace \n",
      "실제 요약 : am the most actor in bollywood rana \n",
      "예측 요약 :  am not an actor am not just for films sushant\n",
      "\n",
      "\n",
      "원문 : union minister state railways rajen gohain said components bullet train project would japanese make india integral part project added foundation stone mumbai ahmedabad bullet train corridor laid september last year targeted completion \n",
      "실제 요약 : only of bullet train to be japanese govt \n",
      "예측 요약 :  bullet will be built in india china\n",
      "\n",
      "\n",
      "원문 : seema bal seized grams heroin worth around crore man bihar champaran district acting tip officials also seized motorcycle mobile phone cash man accused reportedly paid smuggling substance \n",
      "실제 요약 : heroin worth crore seized in bihar \n",
      "예측 요약 :  jewellery worth crore seized in delhi\n",
      "\n",
      "\n",
      "원문 : tree united states started burning inside recently struck lightning james shared picture caption tree hit lightning ms burned inside people replied tweet stating looked like portal upside gateway hell \n",
      "실제 요약 : photo of tree struck by lightning goes viral \n",
      "예측 요약 :  people die after being hit by balcony\n",
      "\n",
      "\n",
      "원문 : hearing rape case priest church kerala supreme court wednesday said disturbing recently cases rape coming churches kerala shocking recently separate case four priests booked allegedly raping molesting year old woman kerala \n",
      "실제 요약 : rape cases against kerala priests disturbing shocking sc \n"
     ]
    },
    {
     "name": "stdout",
     "output_type": "stream",
     "text": [
      "예측 요약 :  rape case against kerala nun who tried to kerala hc\n",
      "\n",
      "\n",
      "원문 : shiv sena saturday said renaming cities uttar pradesh chief minister yogi adityanath lure voters ahead lok sabha polls next year political party also criticised cm announcement construction statue lord ram saying demand ram temple \n",
      "실제 요약 : renaming up cities from bjp to voters shiv sena \n",
      "예측 요약 :  sena adityanath calls up cm yogi for up\n",
      "\n",
      "\n",
      "원문 : earnings crore first day ranbir kapoor starrer sanju become highest opening day grosser broke record set salman khan race earned crore first day sanju biopic actor sanjay dutt also highest opening day grosser ranbir career \n",
      "실제 요약 : sanju beats salman race to become highest opener \n",
      "예측 요약 :  sanju becomes ishaan highest opening opening grosser of\n",
      "\n",
      "\n",
      "원문 : journalist jamal khashoggi strangled soon entered saudi arabia consulate istanbul body cut pieces turkish prosecutor said wednesday khashoggi critic saudi government gone consulate paperwork related divorce saudi arabia admitted last week khashoggi murder premeditated \n",
      "실제 요약 : journo was chopped into pieces at saudi consulate turkey \n",
      "예측 요약 :  journo who saudi arabia to saudi arabia to saudi arabia\n",
      "\n",
      "\n",
      "원문 : konkona bhumi pednekar star lipstick burkha director alankrita shrivastava next film per reports bhumi konkona started shooting film produced ekta kapoor according reports konkona replaced vidya balan alankrita replaced ashwiny iyer tiwari director film reports suggested \n",
      "실제 요약 : bhumi to star in lipstick maker film report \n",
      "예측 요약 :  teaser of lipstick under the film sequel announced\n",
      "\n",
      "\n",
      "원문 : india lost gross domestic product malnutrition joint report assocham young said india home world children report pointed also suggested expenditure towards welfare women children needs higher fall last household food \n",
      "실제 요약 : india loses of gdp to report \n",
      "예측 요약 :  india has highest number of indian in india report\n",
      "\n",
      "\n",
      "원문 : indian hotels runs taj group hotels planning monetise around properties next three years bring debt ceo said added company would aim retain properties management contracts indian hotels narrowed second quarter loss crore crore last year \n",
      "실제 요약 : taj hotels to sell properties to reduce debt says ceo \n",
      "예측 요약 :  indian cities cities to sell costs crore\n",
      "\n",
      "\n",
      "원문 : congress general secretary digvijaya singh thursday alleged bharatiya janata party backing cow vigilantes across country extortion going name cows lynched man killed alwar given right regard people beaten killed several places added \n",
      "실제 요약 : cow vigilantes backed by bjp alleges digvijaya singh \n",
      "예측 요약 :  digvijaya singh is cow protection than bjp leader\n",
      "\n",
      "\n",
      "원문 : student died six others injured ceiling fell class school bihar west champaran district tuesday around students class school management tried conceal evidence fir would lodged action taken inquiry police said nn \n",
      "실제 요약 : student killed as ceiling falls in bihar school \n",
      "예측 요약 :  class student dies after being hit by school in bihar\n",
      "\n",
      "\n",
      "원문 : former student ms university gujarat detained saturday allegedly setting university vice chancellor office fire delay degree man completed post graduation may took step getting argument vice chancellor personal assistant nobody present room time incident \n",
      "실제 요약 : ex student sets vc office ablaze after varsity delays degree \n",
      "예측 요약 :  ex student booked for harassing student\n",
      "\n",
      "\n",
      "원문 : ferrari cars italian grand prix week following september attacks new york ran without sponsor names nose painted black mark respect ferrari show shares sense grief american people always felt close ties ferrari statement read \n",
      "실제 요약 : ferrari cars did not feature in after \n",
      "예측 요약 :  car crashes in car with fake car in us\n",
      "\n",
      "\n",
      "원문 : actress celina mother five year old twin sons announced pregnant twins celina said husband peter initially shocked news god fearing feel god chooses special people parents multiple children added \n",
      "실제 요약 : pregnant with twins again \n",
      "예측 요약 :  was pregnant woman to be born on her pregnancy\n",
      "\n",
      "\n",
      "원문 : pakistani pacer mohammad amir debuted pakistan playing first international match home soil lahore sri lanka amir playing first home match represented pakistan matches umar second player xi amir represent pakistan pakistan first time \n",
      "실제 요약 : pak pacer amir plays st int in pak years after debut \n",
      "예측 요약 :  pakistani pacer to pakistani pak captain\n",
      "\n",
      "\n",
      "원문 : actor worked rajkummar rao film shaadi mein said rao next superstar leave everyone behind rajkummar extremely positive humble actor amazing actor respects art form added said acting comes naturally \n",
      "실제 요약 : rao next superstar will leave others behind \n",
      "예측 요약 :  rajkummar rao to star in biopic on rajkummar rao\n",
      "\n",
      "\n",
      "원문 : censor board demanded removal words hindi medium according reports censor board chief pahlaj nihalani said terms referring allowed women even film certified us adults board seeking elimination clips abuse women \n",
      "실제 요약 : cbfc demands removal of word in hindi medium report \n",
      "예측 요약 :  cbfc chief pahlaj to censor board for not sexist\n",
      "\n",
      "\n",
      "원문 : topless activist feminist group tried snatch figure baby jesus scene st peter square vatican christmas protester shouted god woman detained police officials activist staged similar protest managed take baby jesus figure arrested \n",
      "실제 요약 : topless activist tries to grab baby jesus figure in vatican \n",
      "예측 요약 :  bride sues bride over bride during bride\n",
      "\n",
      "\n",
      "원문 : german tennis player andrea called match official court weather break mid match dance final classic tournament melbourne tried failed get opponent involved dancing german lost point \n",
      "실제 요약 : tennis player brings umpire on court for mid match dance off \n",
      "예측 요약 :  player once called off match after match gets stuck\n",
      "\n",
      "\n",
      "원문 : punjab haryana high court thursday set aside former congress haryana government decision contractual employees stating decision made voters ahead state elections pointing policy regularisation made already withdrawn hc remarked government decision based personal benefits \n",
      "실제 요약 : cong govt staff for election hc \n",
      "예측 요약 :  punjab hc slams haryana govt over rafale deal\n",
      "\n",
      "\n",
      "원문 : mumbai based edtech startup executive education raised million venture debt temasek owned capital statement startup said use capital expand international markets founded offers professional management development programmes corporations professionals india singapore markets \n",
      "실제 요약 : startup raises million \n",
      "예측 요약 :  startup raises mn from startup\n",
      "\n",
      "\n",
      "원문 : two time world champion gary anderson scotland harms blamed eggs match slam take two nights lose smell nose harms said definitely came table side eggs eggs anderson said \n",
      "실제 요약 : players accuse each other of farting during match \n",
      "예측 요약 :  world champion apologises for not wearing\n",
      "\n",
      "\n",
      "원문 : greater hyderabad municipal corporation started initiative called wall kindness lets people leave things like clothes shoes books wall poor walls places city painted quotes clothes concept originated iran soon accepted india well \n",
      "실제 요약 : wall of in hyd lets people leave stuff for poor \n",
      "예측 요약 :  hyderabad university to get guests at night\n",
      "\n",
      "\n",
      "원문 : united nations backed report revealed waste weighing million tonnes equivalent nine pyramids generated across world waste includes discarded mobile phones old computers tv sets contained billion worth gold silver copper study projected waste generated climb million tonnes \n",
      "실제 요약 : waste with bn of gold silver produced in report \n",
      "예측 요약 :  world largest cryptocurrency built by japan\n",
      "\n",
      "\n",
      "원문 : filmmaker subhash ghai revealed shah rukh khan turned film amitabh bachchan dilip kumar ghai added wanted solo hero film mine script ready three songs also recorded last minute shah rukh backed said \n",
      "실제 요약 : srk once turned down film with big dilip kumar ghai \n",
      "예측 요약 :  srk was not make role in srk amitabh director\n",
      "\n",
      "\n",
      "원문 : patients tested positive hiv mumbai put therapy since june mumbai district aids control society traced patients started treating centre adopted recommended test treat policy per policy patient must put art regardless cd count clinical stage age population \n",
      "실제 요약 : hiv patients from mumbai put on who suggested treatment \n",
      "예측 요약 :  to be renamed to patients\n",
      "\n",
      "\n",
      "원문 : opening controversy surrounding film manikarnika queen jhansi actress ankita lokhande said confident way feel bad went many ups downs actress added kangana ranaut earlier credited co director director krish left film work another project \n",
      "실제 요약 : was confident about way out ankita lokhande on manikarnika row \n"
     ]
    },
    {
     "name": "stdout",
     "output_type": "stream",
     "text": [
      "예측 요약 :  manikarnika is not responsible for manikarnika kangana\n",
      "\n",
      "\n",
      "원문 : afghanistan team set replace australia side tri series south africa shall also feature india team replacement come australian team pulled due ongoing pay dispute players cricket australia notably afghanistan team granted test status last month \n",
      "실제 요약 : afghanistan to replace aus in series featuring india \n",
      "예측 요약 :  afghanistan to play test in australia for champions trophy\n",
      "\n",
      "\n",
      "원문 : video emerged online wherein gujarat cm vijay rupani heard directing police officers move martyred bsf soldier daughter side rally sister meet rally rupani heard saying claimed family given land promised father martyred \n",
      "실제 요약 : guj cm orders cops to move martyr daughter out of rally \n",
      "예측 요약 :  taka cm orders slain slain jawan of love jihad\n",
      "\n",
      "\n"
     ]
    }
   ],
   "source": [
    "for i in range(50, 100):\n",
    "    print(\"원문 :\", seq2text(encoder_input_test[i]))\n",
    "    print(\"실제 요약 :\", seq2summary(decoder_input_test[i]))\n",
    "    print(\"예측 요약 :\", decode_sequence(encoder_input_test[i].reshape(1, text_max_len)))\n",
    "    print(\"\\n\")"
   ]
  },
  {
   "cell_type": "markdown",
   "id": "modified-forty",
   "metadata": {},
   "source": [
    "## 5. Summa을 이용해서 추출적 요약해보기"
   ]
  },
  {
   "cell_type": "code",
   "execution_count": 48,
   "id": "serious-writing",
   "metadata": {},
   "outputs": [],
   "source": [
    "from summa.summarizer import summarize\n",
    "\n",
    "urllib.request.urlretrieve(\"https://raw.githubusercontent.com/sunnysai12345/News_Summary/master/news_summary_more.csv\", filename=\"news_summary_more.csv\")\n",
    "data = pd.read_csv('news_summary_more.csv', encoding='iso-8859-1')"
   ]
  },
  {
   "cell_type": "code",
   "execution_count": 50,
   "id": "designing-animation",
   "metadata": {},
   "outputs": [
    {
     "data": {
      "text/plain": [
       "\"Saurav Kant, an alumnus of upGrad and IIIT-B's PG Program in Machine learning and Artificial Intelligence, was a Sr Systems Engineer at Infosys with almost 5 years of work experience. The program and upGrad's 360-degree career support helped him transition to a Data Scientist at Tech Mahindra with 90% salary hike. upGrad's Online Power Learning has powered 3 lakh+ careers.\""
      ]
     },
     "execution_count": 50,
     "metadata": {},
     "output_type": "execute_result"
    }
   ],
   "source": [
    "text = data['text']\n",
    "text[0]"
   ]
  },
  {
   "cell_type": "code",
   "execution_count": 51,
   "id": "alternative-associate",
   "metadata": {},
   "outputs": [
    {
     "name": "stdout",
     "output_type": "stream",
     "text": [
      "Summary:\n",
      "upGrad's Online Power Learning has powered 3 lakh+ careers.\n"
     ]
    }
   ],
   "source": [
    "print('Summary:')\n",
    "print(summarize(text[0], words=5))"
   ]
  },
  {
   "cell_type": "code",
   "execution_count": 52,
   "id": "hybrid-shift",
   "metadata": {},
   "outputs": [
    {
     "name": "stdout",
     "output_type": "stream",
     "text": [
      "Summary:\n",
      "[\"upGrad's Online Power Learning has powered 3 lakh+ careers.\"]\n"
     ]
    }
   ],
   "source": [
    "# 리스트로 출력 받기\n",
    "print('Summary:')\n",
    "print(summarize(text[0], ratio=0.4, split=True))"
   ]
  },
  {
   "cell_type": "code",
   "execution_count": 53,
   "id": "interested-straight",
   "metadata": {},
   "outputs": [],
   "source": [
    "headlines = [] # 3분정도 소요\n",
    "for i in range(len(text)):\n",
    "    headline = summarize(text[i], ratio=0.4)\n",
    "    headlines.append(headline)"
   ]
  },
  {
   "cell_type": "code",
   "execution_count": 54,
   "id": "ideal-apple",
   "metadata": {},
   "outputs": [
    {
     "data": {
      "text/plain": [
       "[\"upGrad's Online Power Learning has powered 3 lakh+ careers.\",\n",
       " 'Users get one CRED coin per rupee of bill paid, which can be used to avail rewards from brands like Ixigo, BookMyShow, UberEats, Cult.Fit and more.',\n",
       " 'The match witnessed India getting all out for 92, their seventh lowest total in ODI cricket history.',\n",
       " 'Also, customers have options to insure against Critical Illnesses, Disability and Accidental Death Benefit Rider with a life cover up to the age of 80 years.',\n",
       " 'Speaking about the sexual harassment allegations against Rajkumar Hirani, Sonam Kapoor said, \"I\\'ve known Hirani for many years...What if it\\'s not true, the [#MeToo] movement will get derailed.\" \"In the #MeToo movement, I always believe a woman.']"
      ]
     },
     "execution_count": 54,
     "metadata": {},
     "output_type": "execute_result"
    }
   ],
   "source": [
    "headlines[:5]"
   ]
  },
  {
   "cell_type": "code",
   "execution_count": 55,
   "id": "spare-equivalent",
   "metadata": {},
   "outputs": [
    {
     "name": "stdout",
     "output_type": "stream",
     "text": [
      "원문 : Saurav Kant, an alumnus of upGrad and IIIT-B's PG Program in Machine learning and Artificial Intelligence, was a Sr Systems Engineer at Infosys with almost 5 years of work experience. The program and upGrad's 360-degree career support helped him transition to a Data Scientist at Tech Mahindra with 90% salary hike. upGrad's Online Power Learning has powered 3 lakh+ careers.\n",
      "실제 헤드라인 : upGrad learner switches to career in ML & Al with 90% salary hike\n",
      "예측 헤드라인 : upGrad's Online Power Learning has powered 3 lakh+ careers.\n",
      "\n",
      "\n",
      "원문 : Kunal Shah's credit card bill payment platform, CRED, gave users a chance to win free food from Swiggy for one year. Pranav Kaushik, a Delhi techie, bagged this reward after spending 2000 CRED coins. Users get one CRED coin per rupee of bill paid, which can be used to avail rewards from brands like Ixigo, BookMyShow, UberEats, Cult.Fit and more.\n",
      "실제 헤드라인 : Delhi techie wins free food from Swiggy for one year on CRED\n",
      "예측 헤드라인 : Users get one CRED coin per rupee of bill paid, which can be used to avail rewards from brands like Ixigo, BookMyShow, UberEats, Cult.Fit and more.\n",
      "\n",
      "\n",
      "원문 : New Zealand defeated India by 8 wickets in the fourth ODI at Hamilton on Thursday to win their first match of the five-match ODI series. India lost an international match under Rohit Sharma's captaincy after 12 consecutive victories dating back to March 2018. The match witnessed India getting all out for 92, their seventh lowest total in ODI cricket history.\n",
      "실제 헤드라인 : New Zealand end Rohit Sharma-led India's 12-match winning streak\n",
      "예측 헤드라인 : The match witnessed India getting all out for 92, their seventh lowest total in ODI cricket history.\n",
      "\n",
      "\n",
      "원문 : With Aegon Life iTerm Insurance plan, customers can enjoy tax benefits on your premiums paid and save up to Ã¢ÂÂ¹46,800^ on taxes. The plan provides life cover up to the age of 100 years. Also, customers have options to insure against Critical Illnesses, Disability and Accidental Death Benefit Rider with a life cover up to the age of 80 years.\n",
      "실제 헤드라인 : Aegon life iTerm insurance plan helps customers save tax\n",
      "예측 헤드라인 : Also, customers have options to insure against Critical Illnesses, Disability and Accidental Death Benefit Rider with a life cover up to the age of 80 years.\n",
      "\n",
      "\n",
      "원문 : Speaking about the sexual harassment allegations against Rajkumar Hirani, Sonam Kapoor said, \"I've known Hirani for many years...What if it's not true, the [#MeToo] movement will get derailed.\" \"In the #MeToo movement, I always believe a woman. But in this case, we need to reserve our judgment,\" she added. Hirani has been accused by an assistant who worked in 'Sanju'.\n",
      "실제 헤드라인 : Have known Hirani for yrs, what if MeToo claims are not true: Sonam\n",
      "예측 헤드라인 : Speaking about the sexual harassment allegations against Rajkumar Hirani, Sonam Kapoor said, \"I've known Hirani for many years...What if it's not true, the [#MeToo] movement will get derailed.\" \"In the #MeToo movement, I always believe a woman.\n",
      "\n",
      "\n",
      "원문 : Pakistani singer Rahat Fateh Ali Khan has denied receiving any notice from the Enforcement Directorate over allegedly smuggling foreign currency out of India. \"It would have been better if the authorities would have served the notice first if any and then publicised this,\" reads a press release issued on behalf of Rahat. The statement further called the allegation \"bizarre\".\n",
      "실제 헤드라인 : Rahat Fateh Ali Khan denies getting notice for smuggling currency\n",
      "예측 헤드라인 : Pakistani singer Rahat Fateh Ali Khan has denied receiving any notice from the Enforcement Directorate over allegedly smuggling foreign currency out of India.\n",
      "\n",
      "\n",
      "원문 : India recorded their lowest ODI total in New Zealand after getting all out for 92 runs in 30.5 overs in the fourth ODI at Hamilton on Thursday. Seven of India's batsmen were dismissed for single-digit scores, while their number ten batsman Yuzvendra Chahal top-scored with 18*(37). India's previous lowest ODI total in New Zealand was 108.\n",
      "실제 헤드라인 : India get all out for 92, their lowest ODI total in New Zealand\n",
      "예측 헤드라인 : India's previous lowest ODI total in New Zealand was 108.\n",
      "\n",
      "\n",
      "원문 : Weeks after ex-CBI Director Alok Verma told the Department of Personnel and Training to consider him retired, the Home Ministry asked him to join work on the last day of his fixed tenure as Director on Thursday. The ministry directed him to immediately join as DG, Fire Services, the post he was transferred to after his removal as CBI chief.\n",
      "실제 헤드라인 : Govt directs Alok Verma to join work 1 day before his retirement\n",
      "예측 헤드라인 : \n",
      "\n",
      "\n",
      "원문 : Andhra Pradesh CM N Chandrababu Naidu has said, \"When I met then US President Bill Clinton, I addressed him as Mr Clinton, not as 'sir'. (PM Narendra) Modi is my junior in politics...I addressed him as sir 10 times.\" \"I did this...to satisfy his ego in the hope that he will do justice to the state,\" he added.\n",
      "실제 헤드라인 : Called PM Modi 'sir' 10 times to satisfy his ego: Andhra CM\n",
      "예측 헤드라인 : \n",
      "\n",
      "\n",
      "원문 : Congress candidate Shafia Zubair won the Ramgarh Assembly seat in Rajasthan, by defeating BJP's Sukhwant Singh with a margin of 12,228 votes in the bypoll. With this victory, Congress has taken its total to 100 seats in the 200-member assembly. The election to the Ramgarh seat was delayed due to the death of sitting MLA and BSP candidate Laxman Singh.\n",
      "실제 헤드라인 : Cong wins Ramgarh bypoll in Rajasthan, takes total to 100 seats\n",
      "예측 헤드라인 : Congress candidate Shafia Zubair won the Ramgarh Assembly seat in Rajasthan, by defeating BJP's Sukhwant Singh with a margin of 12,228 votes in the bypoll.\n",
      "\n",
      "\n"
     ]
    }
   ],
   "source": [
    "for i in range(10):\n",
    "    print(\"원문 :\", data['text'][i])\n",
    "    print(\"실제 헤드라인 :\", data['headlines'][i])\n",
    "    print(\"예측 헤드라인 :\", headlines[i])\n",
    "    print(\"\\n\")"
   ]
  },
  {
   "cell_type": "markdown",
   "id": "abandoned-disease",
   "metadata": {},
   "source": [
    "## 6. 요약 결과 비교"
   ]
  },
  {
   "cell_type": "markdown",
   "id": "stable-panic",
   "metadata": {},
   "source": [
    "### 텍스트 요약(Text summarization)\n",
    "#### * 추출적 요약 (Extractive summarization)    \n",
    "    - 입력으로 주어진 문서 집합 \"내\"에서 중요한 문장이나 단어를 선택하는 방법     \n",
    "    - 'Text Rank', Gensim 라이브러리의 'Summarizer 함수' 방법 등 있음   \n",
    "    \n",
    "#### * 추상적 요약 (Abstractive summarization)    \n",
    "    - 입력값의 상대적 중요도에 따라 가장 중요한 일부 문장이나 단어을 선별하는 방법   \n",
    "    - Seq2Seq, Attention Mechanism 방법 등이 있음\n",
    "<br>\n",
    "\n",
    "### 문법완성도 측면 비교    \n",
    "    - 추상적 요약은 각 어휘들이 출현한 위치와 주변 단어의 관계로부터 중요도를 계산하고, 품사와 문법적인 구조를 함께 반영함므로,\n",
    "      추출적 요약에 비해 명확하고 매끄러운 문장 구조를 가지고 있음\n",
    "    - 하지만, 불필요한 단어 중복이 많고, 실제 내용과 관련이 없는 요약 결과 확률이 높았음\n",
    "<br>\n",
    "\n",
    "### 핵심단어 포함 측면 비교\n",
    "    - 추출적 요약은 주어진 데이터 내에서 단어를 추출하므로, 추상적 요약에 비해 실제 내용과 관련이 없는 요약 결과기 나올 확률이 낮음\n",
    "    - 하지만, 선별된 단어들이 문장 전체를 충분히 대표하지 못하고, 선별된 단어들 간의 호응이 떨어짐이 존재함   \n"
   ]
  }
 ],
 "metadata": {
  "kernelspec": {
   "display_name": "Python 3",
   "language": "python",
   "name": "python3"
  },
  "language_info": {
   "codemirror_mode": {
    "name": "ipython",
    "version": 3
   },
   "file_extension": ".py",
   "mimetype": "text/x-python",
   "name": "python",
   "nbconvert_exporter": "python",
   "pygments_lexer": "ipython3",
   "version": "3.7.9"
  }
 },
 "nbformat": 4,
 "nbformat_minor": 5
}
