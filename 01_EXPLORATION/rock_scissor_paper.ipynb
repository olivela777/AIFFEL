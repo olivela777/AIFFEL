{
 "cells": [
  {
   "cell_type": "markdown",
   "id": "sweet-edinburgh",
   "metadata": {},
   "source": [
    "# [Project] 가위바위보 분류기"
   ]
  },
  {
   "cell_type": "markdown",
   "id": "solar-title",
   "metadata": {},
   "source": [
    "### 1. 모듈 Import "
   ]
  },
  {
   "cell_type": "code",
   "execution_count": 1,
   "id": "congressional-mustang",
   "metadata": {},
   "outputs": [
    {
     "name": "stdout",
     "output_type": "stream",
     "text": [
      "[PIL Import Success.]\n"
     ]
    }
   ],
   "source": [
    "from PIL import Image\n",
    "import os, glob\n",
    "import numpy as np\n",
    "import tensorflow as tf\n",
    "import matplotlib.pyplot as plt\n",
    "from tensorflow import keras\n",
    "\n",
    "print(\"[PIL Import Success.]\")"
   ]
  },
  {
   "cell_type": "markdown",
   "id": "hawaiian-hazard",
   "metadata": {},
   "source": [
    "### 2. 경로 설정"
   ]
  },
  {
   "cell_type": "code",
   "execution_count": 2,
   "id": "laughing-spirit",
   "metadata": {},
   "outputs": [],
   "source": [
    "train_img_path = os.getenv(\"HOME\") + \"/aiffel/rock_scissor_paper/train\"  # 학습 이미지 셋(Train Set)\n",
    "test_img_path = os.getenv(\"HOME\") + \"/aiffel/rock_scissor_paper/test\" # 테스트 이미지 셋(Test Set)"
   ]
  },
  {
   "cell_type": "markdown",
   "id": "unlike-shame",
   "metadata": {},
   "source": [
    "### 3. 데이터 전처리 ( Train Set )\n",
    "#### 1) Imgs Resize"
   ]
  },
  {
   "cell_type": "code",
   "execution_count": 3,
   "id": "static-aggregate",
   "metadata": {},
   "outputs": [
    {
     "name": "stdout",
     "output_type": "stream",
     "text": [
      "[Train Set Resize Success.]\n"
     ]
    }
   ],
   "source": [
    "target_size = (28,28) # 28*28 사이즈 설정\n",
    "dirs = ['/rock/', '/scissor/', '/paper/']\n",
    "\n",
    "def resize_image(img): # imgs open, resize, save\n",
    "    old_img = Image.open(img)\n",
    "    new_img = old_img.resize(target_size,Image.ANTIALIAS)\n",
    "    new_img.save(img,\"JPEG\")\n",
    "\n",
    "for dir in dirs: # 각 폴더 경로 지정\n",
    "    images = glob.glob(train_img_path + dir + \"*.jpg\")\n",
    "    for img in images:\n",
    "        resize_image(img)\n",
    "\n",
    "print(\"[Train Set Resize Success.]\")"
   ]
  },
  {
   "cell_type": "markdown",
   "id": "spoken-tulsa",
   "metadata": {},
   "source": [
    "#### 2) 데이터 로드 ( Train & Test Set )\n",
    "* Reshape Imgs, Labels"
   ]
  },
  {
   "cell_type": "code",
   "execution_count": 4,
   "id": "cutting-africa",
   "metadata": {},
   "outputs": [],
   "source": [
    "def load_data(img_path, num):\n",
    "    # 가위 : 0, 바위 : 1, 보 : 2\n",
    "    number_of_data = num # 가위바위보 이미지 개수 총합\n",
    "    img_size = 28\n",
    "    color = 3\n",
    "    #이미지 데이터와 라벨(가위 : 0, 바위 : 1, 보 : 2) 데이터를 담을 행렬(matrix) 영역을 생성\n",
    "    imgs=np.zeros(number_of_data*img_size*img_size*color,dtype=np.int32).reshape(number_of_data,img_size,img_size,color)\n",
    "    labels=np.zeros(number_of_data,dtype=np.int32)\n",
    "\n",
    "    idx=0\n",
    "    for file in glob.iglob(img_path+'/scissor/*.jpg'):\n",
    "        img = np.array(Image.open(file),dtype=np.int32)\n",
    "        imgs[idx,:,:,:]=img    # 데이터 영역에 이미지 행렬을 복사\n",
    "        labels[idx]=0   # 가위 : 0\n",
    "        idx=idx+1\n",
    "\n",
    "    for file in glob.iglob(img_path+'/rock/*.jpg'):\n",
    "        img = np.array(Image.open(file),dtype=np.int32)\n",
    "        imgs[idx,:,:,:]=img    # 데이터 영역에 이미지 행렬을 복사\n",
    "        labels[idx]=1   # 바위 : 1\n",
    "        idx=idx+1       \n",
    "    \n",
    "    for file in glob.iglob(img_path+'/paper/*.jpg'):\n",
    "        img = np.array(Image.open(file),dtype=np.int32)\n",
    "        imgs[idx,:,:,:]=img    # 데이터 영역에 이미지 행렬을 복사\n",
    "        labels[idx]=2   # 보 : 2\n",
    "        idx=idx+1\n",
    "        \n",
    "    print(\"데이터 이미지 개수는\",idx,\"입니다.\")\n",
    "    return imgs, labels"
   ]
  },
  {
   "cell_type": "markdown",
   "id": "abandoned-refrigerator",
   "metadata": {},
   "source": [
    "#### 3) 0~1 사이의 값으로 정규화"
   ]
  },
  {
   "cell_type": "code",
   "execution_count": 5,
   "id": "greatest-malawi",
   "metadata": {},
   "outputs": [
    {
     "name": "stdout",
     "output_type": "stream",
     "text": [
      "데이터 이미지 개수는 4286 입니다.\n",
      "x_train shape: (4286, 28, 28, 3)\n",
      "y_train shape: (4286,)\n"
     ]
    }
   ],
   "source": [
    "(x_train, y_train) = load_data(train_img_path, 4286)\n",
    "x_train_norm = x_train / 255.0   # 각 픽셀의 값이 0~255 사이 범위에 있으므로, 데이터들을 255.0 으로 나눔\n",
    "\n",
    "print(\"x_train shape: {}\".format(x_train.shape))\n",
    "print(\"y_train shape: {}\".format(y_train.shape))"
   ]
  },
  {
   "cell_type": "markdown",
   "id": "offshore-variety",
   "metadata": {},
   "source": [
    "#### 4) 이미지 테스트"
   ]
  },
  {
   "cell_type": "code",
   "execution_count": 6,
   "id": "adjustable-difference",
   "metadata": {},
   "outputs": [
    {
     "name": "stdout",
     "output_type": "stream",
     "text": [
      "라벨:  0\n",
      "[[ 71  90  96]\n",
      " [ 62  81  85]\n",
      " [100 115 118]\n",
      " [ 57  68  70]\n",
      " [  6  11  14]\n",
      " [150 152 151]\n",
      " [167 166 164]\n",
      " [165 160 157]\n",
      " [159 151 148]\n",
      " [140 135 129]\n",
      " [ 98  95  88]\n",
      " [ 78  78  70]\n",
      " [ 98 101  92]\n",
      " [107 112 105]\n",
      " [100 107  99]\n",
      " [102 112 103]\n",
      " [109 106  97]\n",
      " [109 106  97]\n",
      " [109 106  97]\n",
      " [109 106  97]\n",
      " [109 106  97]\n",
      " [110 107  98]\n",
      " [111 108  99]\n",
      " [112 109 100]\n",
      " [132 129 120]\n",
      " [139 136 127]\n",
      " [137 134 125]\n",
      " [128 125 116]]\n"
     ]
    },
    {
     "data": {
      "image/png": "[encoded data removed]",
      "text/plain": [
       "<Figure size 432x288 with 1 Axes>"
      ]
     },
     "metadata": {
      "needs_background": "light"
     },
     "output_type": "display_data"
    }
   ],
   "source": [
    "n = 5\n",
    "plt.imshow(x_train[n])\n",
    "print('라벨: ', y_train[n])\n",
    "print(x_train[n][0])"
   ]
  },
  {
   "cell_type": "markdown",
   "id": "living-mississippi",
   "metadata": {},
   "source": [
    "### 4. 딥러닝 네트워크 설계"
   ]
  },
  {
   "cell_type": "code",
   "execution_count": 7,
   "id": "pressed-neutral",
   "metadata": {},
   "outputs": [
    {
     "name": "stdout",
     "output_type": "stream",
     "text": [
      "Model에 추가된 Layer 개수:  7\n",
      "Model: \"sequential\"\n",
      "_________________________________________________________________\n",
      "Layer (type)                 Output Shape              Param #   \n",
      "=================================================================\n",
      "conv2d (Conv2D)              (None, 26, 26, 32)        896       \n",
      "_________________________________________________________________\n",
      "max_pooling2d (MaxPooling2D) (None, 13, 13, 32)        0         \n",
      "_________________________________________________________________\n",
      "conv2d_1 (Conv2D)            (None, 11, 11, 64)        18496     \n",
      "_________________________________________________________________\n",
      "max_pooling2d_1 (MaxPooling2 (None, 5, 5, 64)          0         \n",
      "_________________________________________________________________\n",
      "flatten (Flatten)            (None, 1600)              0         \n",
      "_________________________________________________________________\n",
      "dense (Dense)                (None, 64)                102464    \n",
      "_________________________________________________________________\n",
      "dense_1 (Dense)              (None, 3)                 195       \n",
      "=================================================================\n",
      "Total params: 122,051\n",
      "Trainable params: 122,051\n",
      "Non-trainable params: 0\n",
      "_________________________________________________________________\n"
     ]
    }
   ],
   "source": [
    "n_channel_1 = 32 # 얼마나 다양한 이미지의 특징을 살펴볼 것인가\n",
    "n_channel_2 = 64 # 입력 이미지가 다양할 수록 더 많은 특징을 고려\n",
    "#n_channel_3 = 64 # 입력 이미지가 다양할 수록 더 많은 특징을 고려\n",
    "n_dense = 64 # 분류기 알고리즘을 얼마나 복잡하게 할 것인가\n",
    "n_epoch = 10 # 전체 데이터를 n 만큼 반복 학습\n",
    "\n",
    "tf.random.set_seed(1)  # 동일한 결과를 보장하기 위한 seed 고정\n",
    "model=keras.models.Sequential()  # Sequential 모델\n",
    "model.add(keras.layers.Conv2D(n_channel_1, (3,3), activation='relu', input_shape=(28,28,3)))\n",
    "model.add(keras.layers.MaxPool2D(2,2))\n",
    "model.add(keras.layers.Conv2D(n_channel_2, (3,3), activation='relu'))\n",
    "model.add(keras.layers.MaxPooling2D((2,2)))\n",
    "#model.add(keras.layers.Conv2D(n_channel_3, (3,3), activation='relu'))\n",
    "#model.add(keras.layers.MaxPooling2D((2,2)))\n",
    "model.add(keras.layers.Flatten())\n",
    "model.add(keras.layers.Dense(n_dense, activation='relu'))\n",
    "model.add(keras.layers.Dense(3, activation='softmax'))\n",
    "\n",
    "print('Model에 추가된 Layer 개수: ', len(model.layers))\n",
    "\n",
    "model.summary()"
   ]
  },
  {
   "cell_type": "markdown",
   "id": "hybrid-highland",
   "metadata": {},
   "source": [
    "### 5. 데이터 학습"
   ]
  },
  {
   "cell_type": "code",
   "execution_count": 8,
   "id": "designing-concentrate",
   "metadata": {},
   "outputs": [
    {
     "name": "stdout",
     "output_type": "stream",
     "text": [
      "Epoch 1/10\n",
      "134/134 [==============================] - 6s 19ms/step - loss: 1.0559 - accuracy: 0.4225\n",
      "Epoch 2/10\n",
      "134/134 [==============================] - 0s 3ms/step - loss: 0.5804 - accuracy: 0.7630\n",
      "Epoch 3/10\n",
      "134/134 [==============================] - 0s 3ms/step - loss: 0.3210 - accuracy: 0.8858\n",
      "Epoch 4/10\n",
      "134/134 [==============================] - 0s 3ms/step - loss: 0.2152 - accuracy: 0.9256\n",
      "Epoch 5/10\n",
      "134/134 [==============================] - 0s 3ms/step - loss: 0.1334 - accuracy: 0.9679\n",
      "Epoch 6/10\n",
      "134/134 [==============================] - 0s 3ms/step - loss: 0.0743 - accuracy: 0.9852\n",
      "Epoch 7/10\n",
      "134/134 [==============================] - 0s 3ms/step - loss: 0.0453 - accuracy: 0.9923\n",
      "Epoch 8/10\n",
      "134/134 [==============================] - 0s 3ms/step - loss: 0.0407 - accuracy: 0.9935\n",
      "Epoch 9/10\n",
      "134/134 [==============================] - 0s 3ms/step - loss: 0.0177 - accuracy: 0.9975\n",
      "Epoch 10/10\n",
      "134/134 [==============================] - 0s 3ms/step - loss: 0.0223 - accuracy: 0.9970\n"
     ]
    },
    {
     "data": {
      "text/plain": [
       "<tensorflow.python.keras.callbacks.History at 0x7f82e7278710>"
      ]
     },
     "execution_count": 8,
     "metadata": {},
     "output_type": "execute_result"
    }
   ],
   "source": [
    "model.compile(optimizer='adam', loss='sparse_categorical_crossentropy', metrics=['accuracy'])\n",
    "model.fit(x_train_norm, y_train, epochs=n_epoch)"
   ]
  },
  {
   "cell_type": "markdown",
   "id": "fixed-muscle",
   "metadata": {},
   "source": [
    "### 6. 데이터 전처리 ( Test Set )\n",
    "#### 1) Imgs Resize"
   ]
  },
  {
   "cell_type": "code",
   "execution_count": 9,
   "id": "figured-mouth",
   "metadata": {},
   "outputs": [
    {
     "name": "stdout",
     "output_type": "stream",
     "text": [
      "[Test Set Resize Success.]\n"
     ]
    }
   ],
   "source": [
    "target_size = (28,28) # 28*28 사이즈 설정\n",
    "dirs = ['/rock/', '/scissor/', '/paper/']\n",
    "\n",
    "def resize_image(img): # imgs open, resize, save\n",
    "    old_img = Image.open(img)\n",
    "    new_img = old_img.resize(target_size,Image.ANTIALIAS)\n",
    "    new_img.save(img,\"JPEG\")\n",
    "\n",
    "for dir in dirs: # 각 폴더 경로 지정\n",
    "    images = glob.glob(test_img_path + dir + \"*.jpg\")\n",
    "    for img in images:\n",
    "        resize_image(img)\n",
    "\n",
    "print(\"[Test Set Resize Success.]\")"
   ]
  },
  {
   "cell_type": "markdown",
   "id": "authentic-honey",
   "metadata": {},
   "source": [
    "#### 2) 0~1 사이의 값으로 정규화"
   ]
  },
  {
   "cell_type": "code",
   "execution_count": 16,
   "id": "automotive-meaning",
   "metadata": {},
   "outputs": [
    {
     "name": "stdout",
     "output_type": "stream",
     "text": [
      "데이터 이미지 개수는 300 입니다.\n",
      "x_test shape: (300, 28, 28, 3)\n",
      "y_test shape: (300,)\n"
     ]
    }
   ],
   "source": [
    "(x_test, y_test) = load_data(test_img_path, 300)\n",
    "x_test_norm = x_test / 255.0   # 각 픽셀의 값이 0~255 사이 범위에 있으므로, 데이터들을 255.0 으로 나눔\n",
    "\n",
    "print(\"x_test shape: {}\".format(x_test.shape))\n",
    "print(\"y_test shape: {}\".format(y_test.shape))"
   ]
  },
  {
   "cell_type": "markdown",
   "id": "isolated-colleague",
   "metadata": {},
   "source": [
    "#### 3) 데이터 테스트"
   ]
  },
  {
   "cell_type": "code",
   "execution_count": 14,
   "id": "hollow-messaging",
   "metadata": {
    "scrolled": true
   },
   "outputs": [
    {
     "name": "stdout",
     "output_type": "stream",
     "text": [
      "라벨:  0\n",
      "[[127 135 156]\n",
      " [126 134 155]\n",
      " [127 132 154]\n",
      " [131 133 156]\n",
      " [139 137 159]\n",
      " [146 141 163]\n",
      " [152 144 165]\n",
      " [154 145 166]\n",
      " [155 146 165]\n",
      " [157 150 166]\n",
      " [156 152 166]\n",
      " [154 152 163]\n",
      " [153 156 165]\n",
      " [157 164 170]\n",
      " [159 168 173]\n",
      " [158 167 172]\n",
      " [172 163 164]\n",
      " [179 173 175]\n",
      " [168 166 169]\n",
      " [172 173 177]\n",
      " [171 178 184]\n",
      " [168 181 187]\n",
      " [175 192 200]\n",
      " [162 184 195]\n",
      " [113 137 149]\n",
      " [ 97 123 136]\n",
      " [100 126 139]\n",
      " [110 136 149]]\n"
     ]
    },
    {
     "data": {
      "image/png": "[encoded data removed]",
      "text/plain": [
       "<Figure size 432x288 with 1 Axes>"
      ]
     },
     "metadata": {
      "needs_background": "light"
     },
     "output_type": "display_data"
    }
   ],
   "source": [
    "n = 5\n",
    "plt.imshow(x_test[n])\n",
    "print('라벨: ', y_test[n])\n",
    "print(x_test[n][0])"
   ]
  },
  {
   "cell_type": "markdown",
   "id": "portable-hotel",
   "metadata": {},
   "source": [
    "#### 4) 모델 테스트"
   ]
  },
  {
   "cell_type": "code",
   "execution_count": 15,
   "id": "norwegian-montreal",
   "metadata": {},
   "outputs": [
    {
     "name": "stdout",
     "output_type": "stream",
     "text": [
      "10/10 - 1s - loss: 0.6845 - accuracy: 0.7067\n",
      "test_loss: 0.6845130324363708 \n",
      "test_accuracy: 0.7066666483879089\n"
     ]
    }
   ],
   "source": [
    "test_loss, test_accuracy = model.evaluate(x_test_norm, y_test, verbose=2)\n",
    "print(\"test_loss: {} \".format(test_loss))\n",
    "print(\"test_accuracy: {}\".format(test_accuracy))"
   ]
  },
  {
   "cell_type": "markdown",
   "id": "outstanding-fifty",
   "metadata": {},
   "source": [
    "# 모델 개선 방법 및 결과\n",
    "\n",
    "1. 모델 개선 방법\n",
    "    * 하이퍼 파라미터를 조정하며 최적의 loss, accurcay 값을 찾아갔다\n",
    "2. 결과\n",
    "    * loss : 1.3592 -> 0.6845\n",
    "    * accuracy : 0.2421 -> 0.7067"
   ]
  }
 ],
 "metadata": {
  "kernelspec": {
   "display_name": "Python 3",
   "language": "python",
   "name": "python3"
  },
  "language_info": {
   "codemirror_mode": {
    "name": "ipython",
    "version": 3
   },
   "file_extension": ".py",
   "mimetype": "text/x-python",
   "name": "python",
   "nbconvert_exporter": "python",
   "pygments_lexer": "ipython3",
   "version": "3.7.9"
  }
 },
 "nbformat": 4,
 "nbformat_minor": 5
}
